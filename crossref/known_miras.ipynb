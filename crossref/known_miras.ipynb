{
 "cells": [
  {
   "cell_type": "code",
   "execution_count": 1,
   "id": "4cb2890b-88f2-4d57-b407-93993c4057d6",
   "metadata": {},
   "outputs": [],
   "source": [
    "import os\n",
    "import sys\n",
    "module_path = os.path.abspath(os.path.join('..'))\n",
    "if module_path not in sys.path:\n",
    "    sys.path.append(module_path)"
   ]
  },
  {
   "cell_type": "code",
   "execution_count": 2,
   "id": "aboriginal-resource",
   "metadata": {},
   "outputs": [],
   "source": [
    "from astropy.table import Table, vstack\n",
    "from astroquery.vizier import Vizier\n",
    "from astropy import units as u\n",
    "\n",
    "import swasputils"
   ]
  },
  {
   "cell_type": "code",
   "execution_count": 3,
   "id": "9567bb68-1518-4f3c-b4ac-2070785bf364",
   "metadata": {},
   "outputs": [],
   "source": [
    "CATALOGUES = [\n",
    "    'J/BaltA/9/646/catalog',\n",
    "    'J/ApJS/247/44/table2',\n",
    "]"
   ]
  },
  {
   "cell_type": "code",
   "execution_count": 4,
   "id": "checked-madonna",
   "metadata": {},
   "outputs": [],
   "source": [
    "source_table = Table.read(os.path.join(swasputils.CACHE_LOCATION, 'source_coords.fits'))\n",
    "source_table = source_table[:1000]"
   ]
  },
  {
   "cell_type": "code",
   "execution_count": 5,
   "id": "d4809679-da1f-45d1-8be9-87ba0f83f8bd",
   "metadata": {},
   "outputs": [],
   "source": [
    "results = []\n",
    "SPLIT_SIZE = 1000\n",
    "for i in range(int(len(source_table) / SPLIT_SIZE) + 1):\n",
    "    sources = source_table[i * SPLIT_SIZE : (i+1) * SPLIT_SIZE]\n",
    "    if len(sources) > 0:\n",
    "        results.append(Vizier.query_region(sources, radius=2*u.arcmin, catalog=CATALOGUES))"
   ]
  },
  {
   "cell_type": "code",
   "execution_count": 6,
   "id": "6bc2c6fe-21ac-47f9-be7c-e5409ce3da0f",
   "metadata": {},
   "outputs": [],
   "source": [
    "stacked_results = {}\n",
    "for catalogue in CATALOGUES:\n",
    "    stacked_results[catalogue] = []\n",
    "    for result in results:\n",
    "        try:\n",
    "            stacked_results[catalogue].append(result[catalogue])\n",
    "        except TypeError:\n",
    "            pass\n",
    "    try:\n",
    "        stacked_results[catalogue] = vstack(stacked_results[catalogue])\n",
    "    except ValueError:\n",
    "        pass"
   ]
  },
  {
   "cell_type": "code",
   "execution_count": 7,
   "id": "be23b295-5336-490f-8309-fd8d2b0a1a7a",
   "metadata": {},
   "outputs": [
    {
     "data": {
      "text/html": [
       "<div><i>Table length=1</i>\n",
       "<table id=\"table1829962356720\" class=\"table-striped table-bordered table-condensed\">\n",
       "<thead><tr><th>_q</th><th>LC</th><th>_2MASS</th><th>f_2MASS</th><th>RAJ2000</th><th>DEJ2000</th><th>Rmag</th><th>Jmag</th><th>Hmag</th><th>Ksmag</th><th>Per</th><th>E_Per</th><th>e_Per</th><th>SNLS</th><th>FileName</th><th>Simbad</th></tr></thead>\n",
       "<thead><tr><th></th><th></th><th></th><th></th><th>&quot;h:m:s&quot;</th><th>&quot;d:m:s&quot;</th><th>mag</th><th>mag</th><th>mag</th><th>mag</th><th>d</th><th>d</th><th>d</th><th></th><th></th><th></th></tr></thead>\n",
       "<thead><tr><th>int32</th><th>str2</th><th>str17</th><th>uint8</th><th>str11</th><th>str12</th><th>float32</th><th>float32</th><th>float32</th><th>float32</th><th>int16</th><th>int16</th><th>int16</th><th>float32</th><th>str67</th><th>str6</th></tr></thead>\n",
       "<tr><td>1492</td><td>LC</td><td>J00020390+5358588</td><td>0</td><td>00 02 03.91</td><td>+53 58 58.88</td><td>11.05</td><td>6.22</td><td>5.22</td><td>4.83</td><td>125</td><td>132</td><td>119</td><td>2.08</td><td>KELT_N16_lc_044840_V01_east_raw_KELT_N16_lc_039841_V01_west_raw.dat</td><td>Simbad</td></tr>\n",
       "</table></div>"
      ],
      "text/plain": [
       "<Table length=1>\n",
       "  _q   LC  ... Simbad\n",
       "           ...       \n",
       "int32 str2 ...  str6 \n",
       "----- ---- ... ------\n",
       " 1492   LC ... Simbad"
      ]
     },
     "execution_count": 7,
     "metadata": {},
     "output_type": "execute_result"
    }
   ],
   "source": [
    "stacked_results['J/ApJS/247/44/table2']"
   ]
  },
  {
   "cell_type": "code",
   "execution_count": 8,
   "id": "5109c26e-8bb9-47d8-8c78-c070165085c0",
   "metadata": {},
   "outputs": [
    {
     "data": {
      "text/plain": [
       "[]"
      ]
     },
     "execution_count": 8,
     "metadata": {},
     "output_type": "execute_result"
    }
   ],
   "source": [
    "stacked_results['J/BaltA/9/646/catalog']"
   ]
  }
 ],
 "metadata": {
  "kernelspec": {
   "display_name": "Python 3 (ipykernel)",
   "language": "python",
   "name": "python3"
  },
  "language_info": {
   "codemirror_mode": {
    "name": "ipython",
    "version": 3
   },
   "file_extension": ".py",
   "mimetype": "text/x-python",
   "name": "python",
   "nbconvert_exporter": "python",
   "pygments_lexer": "ipython3",
   "version": "3.8.5"
  }
 },
 "nbformat": 4,
 "nbformat_minor": 5
}
