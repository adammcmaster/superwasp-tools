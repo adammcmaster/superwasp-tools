{
 "cells": [
  {
   "cell_type": "code",
   "execution_count": 1,
   "id": "4cb2890b-88f2-4d57-b407-93993c4057d6",
   "metadata": {},
   "outputs": [],
   "source": [
    "import os\n",
    "import sys\n",
    "module_path = os.path.abspath(os.path.join('..'))\n",
    "if module_path not in sys.path:\n",
    "    sys.path.append(module_path)"
   ]
  },
  {
   "cell_type": "code",
   "execution_count": 2,
   "id": "aboriginal-resource",
   "metadata": {},
   "outputs": [],
   "source": [
    "from astropy.table import Table, vstack\n",
    "from astroquery.vizier import Vizier\n",
    "from astropy import units as u\n",
    "\n",
    "import swasputils"
   ]
  },
  {
   "cell_type": "code",
   "execution_count": 3,
   "id": "0a721f7a-0c8d-42e3-85a7-d1cf39901862",
   "metadata": {},
   "outputs": [],
   "source": [
    "from IPython.display import clear_output"
   ]
  },
  {
   "cell_type": "code",
   "execution_count": 4,
   "id": "9567bb68-1518-4f3c-b4ac-2070785bf364",
   "metadata": {},
   "outputs": [],
   "source": [
    "CATALOGUES = [\n",
    "    'J/BaltA/9/646/catalog',\n",
    "    'J/ApJS/247/44/table2',\n",
    "]"
   ]
  },
  {
   "cell_type": "code",
   "execution_count": 5,
   "id": "checked-madonna",
   "metadata": {},
   "outputs": [],
   "source": [
    "source_table = Table.read(os.path.join(swasputils.CACHE_LOCATION, 'source_coords.fits'))"
   ]
  },
  {
   "cell_type": "code",
   "execution_count": 6,
   "id": "c8eaac4c-eb94-4633-9aad-7226c81c3324",
   "metadata": {},
   "outputs": [],
   "source": [
    "SPLIT_SIZE = 1000\n",
    "total_iterations = int(len(source_table) / SPLIT_SIZE) + 1"
   ]
  },
  {
   "cell_type": "code",
   "execution_count": 7,
   "id": "2a051e43-cfca-44c5-9539-9f2adf237ac8",
   "metadata": {},
   "outputs": [
    {
     "name": "stdout",
     "output_type": "stream",
     "text": [
      " [2/2] Querying J/ApJS/247/44/table2: 771/771\n"
     ]
    }
   ],
   "source": [
    "# Vizier messes up the _q index when you query multiple catalogues at once\n",
    "for catalogue_count, catalogue in enumerate(CATALOGUES, start=1):\n",
    "    results = []\n",
    "    for i in range(total_iterations):\n",
    "        clear_output(wait=True)\n",
    "        print(f' [{catalogue_count}/{len(CATALOGUES)}] Querying {catalogue}: {i + 1}/{total_iterations}')\n",
    "        sources = source_table[i * SPLIT_SIZE : (i+1) * SPLIT_SIZE]\n",
    "        if len(sources) > 0:\n",
    "            try:\n",
    "                results.append(Vizier.query_region(sources, radius=2*u.arcmin, catalog=catalogue)[0])\n",
    "            except IndexError:\n",
    "                continue\n",
    "            results[-1].add_column(\n",
    "                [ sources['SuperWASP Coords'][i - 1] for i in results[-1]['_q'] ],\n",
    "                name='SuperWASP Coords',\n",
    "            )\n",
    "    if results:\n",
    "        results = vstack(results)\n",
    "        catalogue = catalogue.replace('/', '_')\n",
    "        results.write(os.path.join(swasputils.CACHE_LOCATION, f'catalogue_match_{catalogue}.ecsv'), overwrite=True)"
   ]
  }
 ],
 "metadata": {
  "kernelspec": {
   "display_name": "Python 3 (ipykernel)",
   "language": "python",
   "name": "python3"
  },
  "language_info": {
   "codemirror_mode": {
    "name": "ipython",
    "version": 3
   },
   "file_extension": ".py",
   "mimetype": "text/x-python",
   "name": "python",
   "nbconvert_exporter": "python",
   "pygments_lexer": "ipython3",
   "version": "3.8.5"
  }
 },
 "nbformat": 4,
 "nbformat_minor": 5
}
