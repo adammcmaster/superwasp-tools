{
 "cells": [
  {
   "cell_type": "code",
   "execution_count": 1,
   "id": "4cb2890b-88f2-4d57-b407-93993c4057d6",
   "metadata": {},
   "outputs": [],
   "source": [
    "import os\n",
    "import sys\n",
    "module_path = os.path.abspath(os.path.join('..'))\n",
    "if module_path not in sys.path:\n",
    "    sys.path.append(module_path)"
   ]
  },
  {
   "cell_type": "code",
   "execution_count": 2,
   "id": "aboriginal-resource",
   "metadata": {},
   "outputs": [],
   "source": [
    "from astropy.table import Table, vstack\n",
    "from astroquery.vizier import Vizier\n",
    "from astropy import units as u\n",
    "\n",
    "import swasputils"
   ]
  },
  {
   "cell_type": "code",
   "execution_count": 3,
   "id": "9567bb68-1518-4f3c-b4ac-2070785bf364",
   "metadata": {},
   "outputs": [],
   "source": [
    "CATALOGUES = [\n",
    "    'J/BaltA/9/646/catalog',\n",
    "    'J/ApJS/247/44/table2',\n",
    "]"
   ]
  },
  {
   "cell_type": "code",
   "execution_count": 4,
   "id": "checked-madonna",
   "metadata": {},
   "outputs": [],
   "source": [
    "source_table = Table.read(os.path.join(swasputils.CACHE_LOCATION, 'source_coords.fits'))\n",
    "source_table = source_table[:10000]"
   ]
  },
  {
   "cell_type": "code",
   "execution_count": 5,
   "id": "d4809679-da1f-45d1-8be9-87ba0f83f8bd",
   "metadata": {},
   "outputs": [],
   "source": [
    "results = []\n",
    "SPLIT_SIZE = 1000\n",
    "for i in range(int(len(source_table) / SPLIT_SIZE) + 1):\n",
    "    sources = source_table[i * SPLIT_SIZE : (i+1) * SPLIT_SIZE]\n",
    "    results.append(Vizier.query_region(sources, radius=1*u.arcsec, catalog=CATALOGUES))"
   ]
  },
  {
   "cell_type": "code",
   "execution_count": 16,
   "id": "6bc2c6fe-21ac-47f9-be7c-e5409ce3da0f",
   "metadata": {},
   "outputs": [
    {
     "data": {
      "text/plain": [
       "{'J/BaltA/9/646/catalog': <Table length=51>\n",
       "   _q     GCVS    magMax l_magMin  magMin ...  DEJ2000    RV    HIP   Simbad\n",
       "                   mag              mag   ...    deg    km / s              \n",
       " int32    str9   float32   str1   float32 ...  float64  int16  int32   str6 \n",
       " ----- --------- ------- -------- ------- ... --------- ------ ------ ------\n",
       "    81 IW    Cas   11.40        <    14.7 ...  48.64637    -19     -- Simbad\n",
       "     1 R     And    5.80             14.9 ...  38.57712     -8   1901 Simbad\n",
       "     1 T     And    7.70             14.5 ...  26.99605    -90     -- Simbad\n",
       "     1 U     And    8.90             15.0 ...  40.71956     -6     -- Simbad\n",
       "     1 V     And    9.00             15.2 ...  35.65333     18     -- Simbad\n",
       "     1 W     And    6.70             14.6 ...  44.30494    -29  10687 Simbad\n",
       "     1 X     And    8.30             15.2 ...  47.01267     -5     -- Simbad\n",
       "     1 Y     And    8.20             15.1 ...  39.34409     -7     -- Simbad\n",
       "     1 RR    And    8.40             15.6 ...  34.37718    -73     -- Simbad\n",
       "   ...       ...     ...      ...     ... ...       ...    ...    ...    ...\n",
       "     1 T     Aqr    7.20             14.2 ...  -5.14664    -39 102829 Simbad\n",
       "     1 W     Aqr    8.40             14.9 ...  -4.08418    -15     -- Simbad\n",
       "     1 X     Aqr    7.50             14.8 ... -20.90112     10 110146 Simbad\n",
       "     1 RR    Aqr    9.10             14.4 ...  -2.89585   -183     -- Simbad\n",
       "     1 RS    Aqr    9.50             14.4 ...  -4.02782     --     -- Simbad\n",
       "     1 RT    Aqr    8.80             13.1 ... -22.05660    -33 110509 Simbad\n",
       "     1 RV    Aqr    8.70        <    15.0 ...  -0.26153     -1     -- Simbad\n",
       "     1 RW    Aqr    8.70             13.6 ...   0.83782     --     -- Simbad\n",
       "     1 SS    Aqr    8.60             13.2 ... -14.40187     --     -- Simbad\n",
       "     1 TX    Aqr   10.50        <    14.5 ...  -1.36507    -22     -- Simbad,\n",
       " 'J/ApJS/247/44/table2': <Table length=61>\n",
       "   _q   LC  ... Simbad\n",
       "            ...       \n",
       " int32 str2 ...  str6 \n",
       " ----- ---- ... ------\n",
       "  1492   LC ... Simbad\n",
       "   280   LC ... Simbad\n",
       "  1482   LC ... Simbad\n",
       "  1826   LC ... Simbad\n",
       "   610   LC ... Simbad\n",
       "  1672   LC ... Simbad\n",
       "   368   LC ... Simbad\n",
       "   744   LC ... Simbad\n",
       "  1178   LC ... Simbad\n",
       "   ...  ... ...    ...\n",
       "     2   LC ... Simbad\n",
       "     2   LC ... Simbad\n",
       "     2   LC ... Simbad\n",
       "     2   LC ... Simbad\n",
       "     2   LC ... Simbad\n",
       "     2   LC ... Simbad\n",
       "     2   LC ... Simbad\n",
       "     2   LC ... Simbad\n",
       "     2   LC ... Simbad\n",
       "     2   LC ... Simbad}"
      ]
     },
     "execution_count": 16,
     "metadata": {},
     "output_type": "execute_result"
    }
   ],
   "source": [
    "stacked_results = {}\n",
    "for catalogue in CATALOGUES:\n",
    "    stacked_results[catalogue] = []\n",
    "    for result in results:\n",
    "        try:\n",
    "            stacked_results[catalogue].append(result[catalogue])\n",
    "        except TypeError:\n",
    "            pass\n",
    "    stacked_results[catalogue] = vstack(stacked_results[catalogue])\n",
    "stacked_results"
   ]
  }
 ],
 "metadata": {
  "kernelspec": {
   "display_name": "Python 3 (ipykernel)",
   "language": "python",
   "name": "python3"
  },
  "language_info": {
   "codemirror_mode": {
    "name": "ipython",
    "version": 3
   },
   "file_extension": ".py",
   "mimetype": "text/x-python",
   "name": "python",
   "nbconvert_exporter": "python",
   "pygments_lexer": "ipython3",
   "version": "3.8.5"
  }
 },
 "nbformat": 4,
 "nbformat_minor": 5
}
