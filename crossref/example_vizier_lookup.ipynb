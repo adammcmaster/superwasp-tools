{
 "cells": [
  {
   "cell_type": "code",
   "execution_count": 1,
   "id": "4cb2890b-88f2-4d57-b407-93993c4057d6",
   "metadata": {},
   "outputs": [],
   "source": [
    "import os\n",
    "import sys\n",
    "module_path = os.path.abspath(os.path.join('..'))\n",
    "if module_path not in sys.path:\n",
    "    sys.path.append(module_path)"
   ]
  },
  {
   "cell_type": "code",
   "execution_count": 2,
   "id": "aboriginal-resource",
   "metadata": {},
   "outputs": [],
   "source": [
    "from astropy.table import Table, vstack\n",
    "from astroquery.vizier import Vizier\n",
    "from astropy import units as u\n",
    "\n",
    "import swasputils"
   ]
  },
  {
   "cell_type": "code",
   "execution_count": 3,
   "id": "a024c342-5a0c-43e6-ad84-081e5818b4ed",
   "metadata": {},
   "outputs": [],
   "source": [
    "CATALOGUES = [\n",
    "    'B/vsx/vsx',\n",
    "]"
   ]
  },
  {
   "cell_type": "code",
   "execution_count": 4,
   "id": "checked-madonna",
   "metadata": {},
   "outputs": [],
   "source": [
    "source_table = Table.read(os.path.join(swasputils.CACHE_LOCATION, 'source_coords.fits'))\n",
    "source_table = source_table[:2000]"
   ]
  },
  {
   "cell_type": "code",
   "execution_count": 5,
   "id": "d4809679-da1f-45d1-8be9-87ba0f83f8bd",
   "metadata": {},
   "outputs": [],
   "source": [
    "results = []\n",
    "SPLIT_SIZE = 1000\n",
    "for i in range(int(len(source_table) / SPLIT_SIZE) + 1):\n",
    "    sources = source_table[i * SPLIT_SIZE : (i+1) * SPLIT_SIZE]\n",
    "    results.append(Vizier.query_region(sources, radius=1*u.arcsec, catalog='B/vsx/vsx')[0])"
   ]
  },
  {
   "cell_type": "code",
   "execution_count": 6,
   "id": "6ff0871b-92ae-4e2b-b133-97a1caf37831",
   "metadata": {},
   "outputs": [
    {
     "name": "stderr",
     "output_type": "stream",
     "text": [
      "WARNING: MergeConflictWarning: Cannot merge meta key 'null' types <class 'float'> and <class 'float'>, choosing null=nan [astropy.utils.metadata]\n"
     ]
    },
    {
     "data": {
      "text/html": [
       "<div><i>Table length=246</i>\n",
       "<table id=\"table2546085320736\" class=\"table-striped table-bordered table-condensed\">\n",
       "<thead><tr><th>_q</th><th>OID</th><th>n_OID</th><th>Name</th><th>V</th><th>Type</th><th>l_max</th><th>max</th><th>u_max</th><th>n_max</th><th>f_min</th><th>l_min</th><th>min</th><th>u_min</th><th>n_min</th><th>l_Period</th><th>Period</th><th>u_Period</th><th>RAJ2000</th><th>DEJ2000</th></tr></thead>\n",
       "<thead><tr><th></th><th></th><th></th><th></th><th></th><th></th><th></th><th>mag</th><th></th><th></th><th></th><th></th><th>mag</th><th></th><th></th><th></th><th>d</th><th></th><th>deg</th><th>deg</th></tr></thead>\n",
       "<thead><tr><th>int32</th><th>int32</th><th>str1</th><th>str30</th><th>uint8</th><th>str30</th><th>str1</th><th>float32</th><th>str1</th><th>str6</th><th>str1</th><th>str1</th><th>float32</th><th>str1</th><th>str6</th><th>str1</th><th>float64</th><th>str3</th><th>float64</th><th>float64</th></tr></thead>\n",
       "<tr><td>1</td><td>1547584</td><td></td><td>ZTF J000000.19+320847.2</td><td>0</td><td>EW</td><td></td><td>14.610</td><td></td><td>r</td><td>(</td><td></td><td>0.197</td><td></td><td>r</td><td></td><td>0.2870590000</td><td></td><td>0.00080</td><td>32.14645</td></tr>\n",
       "<tr><td>14</td><td>195</td><td>B</td><td>GM And</td><td>0</td><td>RRAB</td><td></td><td>12.430</td><td></td><td>V</td><td></td><td></td><td>13.300</td><td></td><td>V</td><td></td><td>0.7067585000</td><td></td><td>0.01521</td><td>35.36286</td></tr>\n",
       "<tr><td>25</td><td>64625</td><td>B</td><td>V0467 And</td><td>0</td><td>EW</td><td></td><td>15.210</td><td></td><td>V</td><td></td><td></td><td>15.610</td><td></td><td>V</td><td></td><td>0.3535394000</td><td></td><td>0.02721</td><td>35.36692</td></tr>\n",
       "<tr><td>29</td><td>25281</td><td>B</td><td>EP Peg</td><td>0</td><td>SR</td><td></td><td>10.700</td><td></td><td>pg</td><td></td><td></td><td>11.400</td><td></td><td>pg</td><td></td><td>340.0000000000</td><td>:</td><td>0.02875</td><td>20.23736</td></tr>\n",
       "<tr><td>30</td><td>572458</td><td>B</td><td>ASASSN-V J000007.04+551730.5</td><td>0</td><td>SR</td><td></td><td>13.750</td><td></td><td>V</td><td></td><td></td><td>14.300</td><td></td><td>V</td><td></td><td>57.5000000000</td><td></td><td>0.02928</td><td>55.29184</td></tr>\n",
       "<tr><td>31</td><td>25257</td><td>B</td><td>DM Peg</td><td>0</td><td>EA/D:</td><td></td><td>10.800</td><td></td><td>V</td><td></td><td></td><td>11.600</td><td></td><td>V</td><td></td><td>2.5889910000</td><td></td><td>0.03037</td><td>18.73808</td></tr>\n",
       "<tr><td>54</td><td>1547663</td><td></td><td>ZTF J000011.46+345335.4</td><td>0</td><td>SR</td><td></td><td>13.506</td><td></td><td>g</td><td>(</td><td></td><td>0.138</td><td></td><td>g</td><td></td><td>72.0800866000</td><td></td><td>0.04779</td><td>34.89318</td></tr>\n",
       "<tr><td>56</td><td>1547669</td><td></td><td>ZTF J000012.42+242608.7</td><td>0</td><td>HADS</td><td></td><td>15.641</td><td></td><td>g</td><td>(</td><td></td><td>0.378</td><td></td><td>g</td><td></td><td>0.0810688000</td><td></td><td>0.05178</td><td>24.43576</td></tr>\n",
       "<tr><td>60</td><td>607703</td><td>B</td><td>ASASSN-V J000013.26-623836.1</td><td>0</td><td>HADS</td><td></td><td>14.910</td><td></td><td>V</td><td></td><td></td><td>15.320</td><td></td><td>V</td><td></td><td>0.0546504000</td><td></td><td>0.05524</td><td>-62.64337</td></tr>\n",
       "<tr><td>...</td><td>...</td><td>...</td><td>...</td><td>...</td><td>...</td><td>...</td><td>...</td><td>...</td><td>...</td><td>...</td><td>...</td><td>...</td><td>...</td><td>...</td><td>...</td><td>...</td><td>...</td><td>...</td><td>...</td></tr>\n",
       "<tr><td>1</td><td>275753</td><td></td><td>Mis V1378</td><td>0</td><td>SR</td><td></td><td>11.400</td><td></td><td>CR</td><td></td><td></td><td>12.700</td><td></td><td>CR</td><td></td><td>--</td><td></td><td>0.01717</td><td>57.10467</td></tr>\n",
       "<tr><td>1</td><td>1547613</td><td></td><td>ZTF J000004.34+522031.5</td><td>0</td><td>BY</td><td></td><td>16.745</td><td></td><td>r</td><td>(</td><td></td><td>0.095</td><td></td><td>r</td><td></td><td>4.0833915000</td><td></td><td>0.01809</td><td>52.34209</td></tr>\n",
       "<tr><td>1</td><td>1547614</td><td></td><td>ZTF J000004.34+554359.8</td><td>0</td><td>EW</td><td></td><td>19.026</td><td></td><td>r</td><td>(</td><td></td><td>0.610</td><td></td><td>r</td><td></td><td>0.3470882000</td><td></td><td>0.01809</td><td>55.73328</td></tr>\n",
       "<tr><td>1</td><td>1547615</td><td></td><td>ZTF J000004.34+510505.0</td><td>0</td><td>EW</td><td></td><td>16.681</td><td></td><td>r</td><td>(</td><td></td><td>0.191</td><td></td><td>r</td><td></td><td>0.3332412000</td><td></td><td>0.01810</td><td>51.08474</td></tr>\n",
       "<tr><td>1</td><td>1547616</td><td></td><td>ZTF J000004.41+581846.9</td><td>0</td><td>BY</td><td></td><td>17.921</td><td></td><td>r</td><td>(</td><td></td><td>0.088</td><td></td><td>r</td><td></td><td>0.4418413000</td><td></td><td>0.01840</td><td>58.31303</td></tr>\n",
       "<tr><td>1</td><td>1547617</td><td></td><td>ZTF J000004.49+514615.4</td><td>0</td><td>DSCT</td><td></td><td>17.104</td><td></td><td>r</td><td>(</td><td></td><td>0.115</td><td></td><td>r</td><td></td><td>0.0918632000</td><td></td><td>0.01871</td><td>51.77095</td></tr>\n",
       "<tr><td>1</td><td>1547618</td><td></td><td>ZTF J000004.56+453022.7</td><td>0</td><td>RS</td><td></td><td>15.673</td><td></td><td>r</td><td>(</td><td></td><td>0.052</td><td></td><td>r</td><td></td><td>6.6168334000</td><td></td><td>0.01902</td><td>45.50633</td></tr>\n",
       "<tr><td>1</td><td>1547619</td><td></td><td>ZTF J000004.98+524230.9</td><td>0</td><td>BY</td><td></td><td>15.933</td><td></td><td>r</td><td>(</td><td></td><td>0.072</td><td></td><td>r</td><td></td><td>7.1420745000</td><td></td><td>0.02076</td><td>52.70860</td></tr>\n",
       "<tr><td>1</td><td>1547620</td><td></td><td>ZTF J000005.00+555613.9</td><td>0</td><td>EW</td><td></td><td>16.738</td><td></td><td>r</td><td>(</td><td></td><td>0.131</td><td></td><td>r</td><td></td><td>0.8834472000</td><td></td><td>0.02087</td><td>55.93720</td></tr>\n",
       "<tr><td>1</td><td>1547621</td><td></td><td>ZTF J000005.13+503833.5</td><td>0</td><td>BY</td><td></td><td>16.128</td><td></td><td>r</td><td>(</td><td></td><td>0.072</td><td></td><td>r</td><td></td><td>6.8118535000</td><td></td><td>0.02138</td><td>50.64264</td></tr>\n",
       "</table></div>"
      ],
      "text/plain": [
       "<Table length=246>\n",
       "  _q    OID   n_OID ... u_Period  RAJ2000   DEJ2000 \n",
       "                    ...             deg       deg   \n",
       "int32  int32   str1 ...   str3    float64   float64 \n",
       "----- ------- ----- ... -------- --------- ---------\n",
       "    1 1547584       ...            0.00080  32.14645\n",
       "   14     195     B ...            0.01521  35.36286\n",
       "   25   64625     B ...            0.02721  35.36692\n",
       "   29   25281     B ...        :   0.02875  20.23736\n",
       "   30  572458     B ...            0.02928  55.29184\n",
       "   31   25257     B ...            0.03037  18.73808\n",
       "   54 1547663       ...            0.04779  34.89318\n",
       "   56 1547669       ...            0.05178  24.43576\n",
       "   60  607703     B ...            0.05524 -62.64337\n",
       "  ...     ...   ... ...      ...       ...       ...\n",
       "    1  275753       ...            0.01717  57.10467\n",
       "    1 1547613       ...            0.01809  52.34209\n",
       "    1 1547614       ...            0.01809  55.73328\n",
       "    1 1547615       ...            0.01810  51.08474\n",
       "    1 1547616       ...            0.01840  58.31303\n",
       "    1 1547617       ...            0.01871  51.77095\n",
       "    1 1547618       ...            0.01902  45.50633\n",
       "    1 1547619       ...            0.02076  52.70860\n",
       "    1 1547620       ...            0.02087  55.93720\n",
       "    1 1547621       ...            0.02138  50.64264"
      ]
     },
     "execution_count": 6,
     "metadata": {},
     "output_type": "execute_result"
    }
   ],
   "source": [
    "vstack(results)"
   ]
  }
 ],
 "metadata": {
  "kernelspec": {
   "display_name": "Python 3 (ipykernel)",
   "language": "python",
   "name": "python3"
  },
  "language_info": {
   "codemirror_mode": {
    "name": "ipython",
    "version": 3
   },
   "file_extension": ".py",
   "mimetype": "text/x-python",
   "name": "python",
   "nbconvert_exporter": "python",
   "pygments_lexer": "ipython3",
   "version": "3.8.5"
  }
 },
 "nbformat": 4,
 "nbformat_minor": 5
}
