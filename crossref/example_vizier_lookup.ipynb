{
 "cells": [
  {
   "cell_type": "code",
   "execution_count": 1,
   "id": "4cb2890b-88f2-4d57-b407-93993c4057d6",
   "metadata": {},
   "outputs": [],
   "source": [
    "import os\n",
    "import sys\n",
    "module_path = os.path.abspath(os.path.join('..'))\n",
    "if module_path not in sys.path:\n",
    "    sys.path.append(module_path)"
   ]
  },
  {
   "cell_type": "code",
   "execution_count": 2,
   "id": "aboriginal-resource",
   "metadata": {},
   "outputs": [],
   "source": [
    "from astropy.table import Table, vstack\n",
    "from astroquery.vizier import Vizier\n",
    "from astropy import units as u\n",
    "\n",
    "import swasputils"
   ]
  },
  {
   "cell_type": "code",
   "execution_count": 3,
   "id": "a024c342-5a0c-43e6-ad84-081e5818b4ed",
   "metadata": {},
   "outputs": [],
   "source": [
    "CATALOGUES = [\n",
    "    'B/vsx/vsx',\n",
    "]"
   ]
  },
  {
   "cell_type": "code",
   "execution_count": 4,
   "id": "checked-madonna",
   "metadata": {},
   "outputs": [],
   "source": [
    "source_table = Table.read(os.path.join(swasputils.CACHE_LOCATION, 'source_coords.fits'))\n",
    "source_table = source_table[:2000]"
   ]
  },
  {
   "cell_type": "code",
   "execution_count": 5,
   "id": "d4809679-da1f-45d1-8be9-87ba0f83f8bd",
   "metadata": {},
   "outputs": [],
   "source": [
    "results = []\n",
    "SPLIT_SIZE = 1000\n",
    "for i in range(int(len(source_table) / SPLIT_SIZE) + 1):\n",
    "    sources = source_table[i * SPLIT_SIZE : (i+1) * SPLIT_SIZE]\n",
    "    results.append(Vizier.query_region(sources, radius=1*u.arcsec, catalog=CATALOGUES))"
   ]
  },
  {
   "cell_type": "code",
   "execution_count": 6,
   "id": "6ff0871b-92ae-4e2b-b133-97a1caf37831",
   "metadata": {},
   "outputs": [
    {
     "name": "stderr",
     "output_type": "stream",
     "text": [
      "WARNING: MergeConflictWarning: Cannot merge meta key 'null' types <class 'float'> and <class 'float'>, choosing null=nan [astropy.utils.metadata]\n"
     ]
    },
    {
     "data": {
      "text/plain": [
       "{'B/vsx/vsx': <Table length=246>\n",
       "   _q    OID   n_OID ... u_Period  RAJ2000   DEJ2000 \n",
       "                     ...             deg       deg   \n",
       " int32  int32   str1 ...   str3    float64   float64 \n",
       " ----- ------- ----- ... -------- --------- ---------\n",
       "     1 1547584       ...            0.00080  32.14645\n",
       "    14     195     B ...            0.01521  35.36286\n",
       "    25   64625     B ...            0.02721  35.36692\n",
       "    29   25281     B ...        :   0.02875  20.23736\n",
       "    30  572458     B ...            0.02928  55.29184\n",
       "    31   25257     B ...            0.03037  18.73808\n",
       "    54 1547663       ...            0.04779  34.89318\n",
       "    56 1547669       ...            0.05178  24.43576\n",
       "    60  607703     B ...            0.05524 -62.64337\n",
       "   ...     ...   ... ...      ...       ...       ...\n",
       "     1  275753       ...            0.01717  57.10467\n",
       "     1 1547613       ...            0.01809  52.34209\n",
       "     1 1547614       ...            0.01809  55.73328\n",
       "     1 1547615       ...            0.01810  51.08474\n",
       "     1 1547616       ...            0.01840  58.31303\n",
       "     1 1547617       ...            0.01871  51.77095\n",
       "     1 1547618       ...            0.01902  45.50633\n",
       "     1 1547619       ...            0.02076  52.70860\n",
       "     1 1547620       ...            0.02087  55.93720\n",
       "     1 1547621       ...            0.02138  50.64264}"
      ]
     },
     "execution_count": 6,
     "metadata": {},
     "output_type": "execute_result"
    }
   ],
   "source": [
    "stacked_results = {}\n",
    "for catalogue in CATALOGUES:\n",
    "    stacked_results[catalogue] = []\n",
    "    for result in results:\n",
    "        try:\n",
    "            stacked_results[catalogue].append(result[catalogue])\n",
    "        except TypeError:\n",
    "            pass\n",
    "    stacked_results[catalogue] = vstack(stacked_results[catalogue])\n",
    "stacked_results"
   ]
  }
 ],
 "metadata": {
  "kernelspec": {
   "display_name": "Python 3 (ipykernel)",
   "language": "python",
   "name": "python3"
  },
  "language_info": {
   "codemirror_mode": {
    "name": "ipython",
    "version": 3
   },
   "file_extension": ".py",
   "mimetype": "text/x-python",
   "name": "python",
   "nbconvert_exporter": "python",
   "pygments_lexer": "ipython3",
   "version": "3.8.5"
  }
 },
 "nbformat": 4,
 "nbformat_minor": 5
}
