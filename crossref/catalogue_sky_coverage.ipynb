{
 "cells": [
  {
   "cell_type": "code",
   "execution_count": 1,
   "id": "psychological-alpha",
   "metadata": {},
   "outputs": [],
   "source": [
    "import matplotlib.pyplot as plt\n",
    "\n",
    "from catalogues import Catalogue"
   ]
  },
  {
   "cell_type": "markdown",
   "id": "bcd7df72-b3c0-4a39-ba0f-e9352f3e66e9",
   "metadata": {},
   "source": [
    "for catalogue in Catalogue.all():\n",
    "    matched_ra_rad, matched_dec_rad = catalogue.coords_rad(catalogue.matched_coords)\n",
    "    unmatched_ra_rad, unmatched_dec_rad = catalogue.coords_rad(catalogue.unmatched_coords)\n",
    "    \n",
    "    plt.figure(figsize=(16,8.4))\n",
    "    plt.subplot(111, projection=\"aitoff\")\n",
    "    plt.title(f'SuperWASP Crossmatch for {catalogue}')\n",
    "    plt.grid(True)\n",
    "    sc = plt.scatter(\n",
    "        unmatched_ra_rad,\n",
    "        unmatched_dec_rad,\n",
    "        s=5, \n",
    "        c=catalogue.unmatched_mag,\n",
    "    )\n",
    "    plt.colorbar(sc)\n",
    "    plt.scatter(matched_ra_rad, matched_dec_rad, s=5, c='black')\n",
    "    plt.subplots_adjust(top=0.95, bottom=0.0)\n",
    "    plt.show()"
   ]
  },
  {
   "cell_type": "code",
   "execution_count": 2,
   "id": "709e3027-c0a4-40fe-9331-85ddf003c02f",
   "metadata": {},
   "outputs": [
    {
     "data": {
      "text/plain": [
       "[J/BaltA/9/646/catalog, J/ApJS/247/44/table2]"
      ]
     },
     "execution_count": 2,
     "metadata": {},
     "output_type": "execute_result"
    }
   ],
   "source": [
    "catalogues = list(Catalogue.all())\n",
    "catalogues"
   ]
  },
  {
   "cell_type": "code",
   "execution_count": 3,
   "id": "d80d08ba-46d8-4ab0-8035-d43e74d1d293",
   "metadata": {},
   "outputs": [
    {
     "name": "stdout",
     "output_type": "stream",
     "text": [
      "Matching J/BaltA/9/646/catalog against J/ApJS/247/44/table2: 2/2\n"
     ]
    },
    {
     "data": {
      "text/html": [
       "<div><i>Table length=300</i>\n",
       "<table id=\"table2800017993984\" class=\"table-striped table-bordered table-condensed\">\n",
       "<thead><tr><th>_q</th><th>LC</th><th>_2MASS</th><th>f_2MASS</th><th>RAJ2000</th><th>DEJ2000</th><th>Rmag</th><th>Jmag</th><th>Hmag</th><th>Ksmag</th><th>Per</th><th>E_Per</th><th>e_Per</th><th>SNLS</th><th>FileName</th><th>Simbad</th><th>J/BaltA/9/646/catalog:GCVS</th><th>J/BaltA/9/646/catalog:RAdeg</th><th>J/BaltA/9/646/catalog:DEJ2000</th><th>J/BaltA/9/646/catalog:Per</th></tr></thead>\n",
       "<thead><tr><th></th><th></th><th></th><th></th><th>&quot;h:m:s&quot;</th><th>&quot;d:m:s&quot;</th><th>mag</th><th>mag</th><th>mag</th><th>mag</th><th>d</th><th>d</th><th>d</th><th></th><th></th><th></th><th></th><th></th><th></th><th></th></tr></thead>\n",
       "<thead><tr><th>int32</th><th>str2</th><th>str17</th><th>uint8</th><th>str11</th><th>str12</th><th>float32</th><th>float32</th><th>float32</th><th>float32</th><th>int16</th><th>int16</th><th>int16</th><th>float32</th><th>str67</th><th>str6</th><th>str9</th><th>float64</th><th>float64</th><th>float32</th></tr></thead>\n",
       "<tr><td>1</td><td>LC</td><td>J00240197+3834373</td><td>0</td><td>00 24 01.98</td><td>+38 34 37.38</td><td>8.40</td><td>2.02</td><td>0.77</td><td>0.12</td><td>406</td><td>440</td><td>381</td><td>4.60</td><td>KELT_N01_lc_067993_V01_east_raw_nan.dat</td><td>Simbad</td><td>R     And</td><td>6.00816</td><td>38.57712</td><td>409.33</td></tr>\n",
       "<tr><td>2</td><td>LC</td><td>J00222314+2659458</td><td>0</td><td>00 22 23.15</td><td>+26 59 45.83</td><td>8.69</td><td>4.68</td><td>3.92</td><td>3.50</td><td>279</td><td>293</td><td>266</td><td>5.25</td><td>KELT_N01_lc_053981_V01_east_raw_KELT_N01_lc_048462_V01_west_raw.dat</td><td>Simbad</td><td>T     And</td><td>5.59647</td><td>26.99605</td><td>280.76</td></tr>\n",
       "<tr><td>3</td><td>LC</td><td>J01152971+4043082</td><td>0</td><td>01 15 29.71</td><td>+40 43 08.24</td><td>8.49</td><td>4.16</td><td>3.19</td><td>2.66</td><td>340</td><td>360</td><td>322</td><td>6.84</td><td>KELT_N02_lc_061537_V01_east_raw_KELT_N02_lc_061152_V01_west_raw.dat</td><td>Simbad</td><td>U     And</td><td>18.87225</td><td>40.71956</td><td>346.55</td></tr>\n",
       "<tr><td>4</td><td>LC</td><td>J00500630+3539098</td><td>0</td><td>00 50 06.31</td><td>+35 39 09.89</td><td>9.36</td><td>5.48</td><td>4.69</td><td>4.27</td><td>260</td><td>271</td><td>250</td><td>5.41</td><td>KELT_N01_lc_041955_V01_east_raw_KELT_N01_lc_030143_V01_west_raw.dat</td><td>Simbad</td><td>V     And</td><td>12.52481</td><td>35.65333</td><td>257.73</td></tr>\n",
       "<tr><td>5</td><td>LC</td><td>J02173296+4418176</td><td>0</td><td>02 17 32.96</td><td>+44 18 17.70</td><td>7.39</td><td>1.59</td><td>0.51</td><td>0.13</td><td>395</td><td>434</td><td>366</td><td>5.33</td><td>nan_KELT_N02_lc_063557_V01_west_raw.dat</td><td>Simbad</td><td>W     And</td><td>34.38734</td><td>44.30494</td><td>395.93</td></tr>\n",
       "<tr><td>6</td><td>LC</td><td>J00160960+4700444</td><td>0</td><td>00 16 09.60</td><td>+47 00 44.48</td><td>7.83</td><td>4.86</td><td>3.60</td><td>2.97</td><td>345</td><td>385</td><td>310</td><td>3.58</td><td>KELT_N16_lc_021497_V01_east_raw_KELT_N16_lc_001236_V01_west_raw.dat</td><td>Simbad</td><td>X     And</td><td>4.03768</td><td>47.01267</td><td>346.18</td></tr>\n",
       "<tr><td>7</td><td>LC</td><td>J01393689+3920348</td><td>0</td><td>01 39 36.89</td><td>+39 20 34.88</td><td>9.72</td><td>5.25</td><td>4.42</td><td>4.15</td><td>223</td><td>232</td><td>214</td><td>5.39</td><td>KELT_N02_lc_051192_V01_east_raw_KELT_N02_lc_064008_V01_west_raw.dat</td><td>Simbad</td><td>Y     And</td><td>24.9031</td><td>39.34409</td><td>220.53</td></tr>\n",
       "<tr><td>8</td><td>LC</td><td>J00512328+3422363</td><td>0</td><td>00 51 23.29</td><td>+34 22 36.32</td><td>10.89</td><td>4.88</td><td>3.84</td><td>3.25</td><td>329</td><td>351</td><td>311</td><td>4.45</td><td>KELT_N01_lc_047788_V01_east_raw_nan.dat</td><td>Simbad</td><td>RR    And</td><td>12.84605</td><td>34.37718</td><td>328.15</td></tr>\n",
       "<tr><td>9</td><td>LC</td><td>J00471892+3241083</td><td>0</td><td>00 47 18.93</td><td>+32 41 08.38</td><td>10.66</td><td>3.05</td><td>2.23</td><td>1.76</td><td>430</td><td>458</td><td>394</td><td>4.94</td><td>KELT_N01_lc_046801_V01_east_raw_nan.dat</td><td>Simbad</td><td>RW    And</td><td>11.82882</td><td>32.68571</td><td>430.3</td></tr>\n",
       "<tr><td>...</td><td>...</td><td>...</td><td>...</td><td>...</td><td>...</td><td>...</td><td>...</td><td>...</td><td>...</td><td>...</td><td>...</td><td>...</td><td>...</td><td>...</td><td>...</td><td>...</td><td>...</td><td>...</td><td>...</td></tr>\n",
       "<tr><td>49</td><td>LC</td><td>J12385754+5829001</td><td>0</td><td>12 38 57.55</td><td>+58 29 00.14</td><td>10.96</td><td>4.79</td><td>4.00</td><td>3.62</td><td>260</td><td>308</td><td>236</td><td>4.18</td><td>KELT_N21_lc_007494_V01_east_raw_KELT_N21_lc_007984_V01_west_raw.dat</td><td>Simbad</td><td>RS    UMa</td><td>189.73978</td><td>58.4834</td><td>258.97</td></tr>\n",
       "<tr><td>53</td><td>LC</td><td>J14171992+6647391</td><td>0</td><td>14 17 19.93</td><td>+66 47 39.19</td><td>6.75</td><td>1.80</td><td>0.83</td><td>0.57</td><td>322</td><td>351</td><td>274</td><td>3.27</td><td>KELT_N21_lc_000106_V01_east_raw_KELT_N21_lc_000132_V01_west_raw.dat</td><td>Simbad</td><td>U     UMi</td><td>214.33294</td><td>66.79421</td><td>330.92</td></tr>\n",
       "<tr><td>57</td><td>LC</td><td>J09290141-5210542</td><td>0</td><td>09 29 01.42</td><td>-52 10 54.21</td><td>10.20</td><td>2.54</td><td>1.74</td><td>1.22</td><td>229</td><td>279</td><td>195</td><td>3.09</td><td>KELT_S34_lc_019591_V01_east_raw_KELT_S34_lc_010602_V01_west_raw.dat</td><td>Simbad</td><td>Y     Vel</td><td>142.25592</td><td>-52.18168</td><td>449.9</td></tr>\n",
       "<tr><td>86</td><td>LC</td><td>J13004124-1738477</td><td>0</td><td>13 00 41.24</td><td>-17 38 47.79</td><td>10.30</td><td>6.75</td><td>6.03</td><td>5.57</td><td>355</td><td>387</td><td>324</td><td>4.79</td><td>KELT_S25_lc_007235_V01_east_raw_KELT_S25_lc_007528_V01_west_raw.dat</td><td>Simbad</td><td>BZ    Vir</td><td>195.17188</td><td>-17.64657</td><td>150.92</td></tr>\n",
       "<tr><td>92</td><td>LC</td><td>J21042249+2349181</td><td>0</td><td>21 04 22.49</td><td>+23 49 18.12</td><td>8.96</td><td>4.95</td><td>3.96</td><td>3.48</td><td>136</td><td>141</td><td>133</td><td>5.54</td><td>KELT_N12_lc_106763_V01_east_raw_KELT_N12_lc_074654_V01_west_raw.dat</td><td>Simbad</td><td>R     Vul</td><td>316.09376</td><td>23.82169</td><td>136.73</td></tr>\n",
       "<tr><td>94</td><td>LC</td><td>J20525979+2322159</td><td>0</td><td>20 52 59.80</td><td>+23 22 15.95</td><td>8.13</td><td>2.72</td><td>1.66</td><td>1.08</td><td>453</td><td>496</td><td>404</td><td>5.14</td><td>KELT_N12_lc_114122_V01_east_raw_KELT_N12_lc_105860_V01_west_raw.dat</td><td>Simbad</td><td>RX    Vul</td><td>313.24919</td><td>23.37115</td><td>457.0</td></tr>\n",
       "<tr><td>96</td><td>LC</td><td>J19255928+2624347</td><td>0</td><td>19 25 59.29</td><td>+26 24 34.74</td><td>11.06</td><td>6.05</td><td>5.10</td><td>4.61</td><td>291</td><td>306</td><td>274</td><td>6.09</td><td>KELT_N11_lc_084449_V01_east_raw_KELT_N11_lc_049813_V01_west_raw.dat</td><td>Simbad</td><td>XY    Vul</td><td>291.49847</td><td>26.40972</td><td>288.6</td></tr>\n",
       "<tr><td>99</td><td>LC</td><td>J18573682+2326208</td><td>0</td><td>18 57 36.83</td><td>+23 26 20.83</td><td>10.06</td><td>5.23</td><td>4.51</td><td>3.83</td><td>309</td><td>335</td><td>291</td><td>3.91</td><td>KELT_N11_lc_056301_V01_east_raw_nan.dat</td><td>Simbad</td><td>BY    Vul</td><td>284.40624</td><td>23.43514</td><td>305.0</td></tr>\n",
       "<tr><td>101</td><td>LC</td><td>J19575280+2337288</td><td>0</td><td>19 57 52.81</td><td>+23 37 28.88</td><td>10.75</td><td>5.09</td><td>4.21</td><td>3.56</td><td>309</td><td>325</td><td>294</td><td>6.97</td><td>KELT_N11_lc_073987_V01_east_raw_KELT_N11_lc_106864_V01_west_raw.dat</td><td>Simbad</td><td>DE    Vul</td><td>299.46001</td><td>23.6189</td><td>298.0</td></tr>\n",
       "<tr><td>103</td><td>LC</td><td>J19222417+2003447</td><td>0</td><td>19 22 24.18</td><td>+20 03 44.71</td><td>11.87</td><td>6.93</td><td>5.61</td><td>4.77</td><td>380</td><td>418</td><td>366</td><td>4.09</td><td>KELT_N11_lc_091534_V01_east_raw_nan.dat</td><td>Simbad</td><td>OW    Vul</td><td>290.60079</td><td>20.06248</td><td>375.0</td></tr>\n",
       "</table></div>"
      ],
      "text/plain": [
       "<Table length=300>\n",
       "  _q   LC  ... J/BaltA/9/646/catalog:DEJ2000 J/BaltA/9/646/catalog:Per\n",
       "           ...                                                        \n",
       "int32 str2 ...            float64                     float32         \n",
       "----- ---- ... ----------------------------- -------------------------\n",
       "    1   LC ...                      38.57712                    409.33\n",
       "    2   LC ...                      26.99605                    280.76\n",
       "    3   LC ...                      40.71956                    346.55\n",
       "    4   LC ...                      35.65333                    257.73\n",
       "    5   LC ...                      44.30494                    395.93\n",
       "    6   LC ...                      47.01267                    346.18\n",
       "    7   LC ...                      39.34409                    220.53\n",
       "    8   LC ...                      34.37718                    328.15\n",
       "    9   LC ...                      32.68571                     430.3\n",
       "  ...  ... ...                           ...                       ...\n",
       "   49   LC ...                       58.4834                    258.97\n",
       "   53   LC ...                      66.79421                    330.92\n",
       "   57   LC ...                     -52.18168                     449.9\n",
       "   86   LC ...                     -17.64657                    150.92\n",
       "   92   LC ...                      23.82169                    136.73\n",
       "   94   LC ...                      23.37115                     457.0\n",
       "   96   LC ...                      26.40972                     288.6\n",
       "   99   LC ...                      23.43514                     305.0\n",
       "  101   LC ...                       23.6189                     298.0\n",
       "  103   LC ...                      20.06248                     375.0"
      ]
     },
     "execution_count": 3,
     "metadata": {},
     "output_type": "execute_result"
    }
   ],
   "source": [
    "catalogues[0].cross_match(catalogues[1])"
   ]
  },
  {
   "cell_type": "code",
   "execution_count": null,
   "id": "f761bacc-6c2c-4fe5-95e2-17a9d932d4f9",
   "metadata": {},
   "outputs": [],
   "source": []
  }
 ],
 "metadata": {
  "kernelspec": {
   "display_name": "Python 3 (ipykernel)",
   "language": "python",
   "name": "python3"
  },
  "language_info": {
   "codemirror_mode": {
    "name": "ipython",
    "version": 3
   },
   "file_extension": ".py",
   "mimetype": "text/x-python",
   "name": "python",
   "nbconvert_exporter": "python",
   "pygments_lexer": "ipython3",
   "version": "3.8.5"
  }
 },
 "nbformat": 4,
 "nbformat_minor": 5
}
