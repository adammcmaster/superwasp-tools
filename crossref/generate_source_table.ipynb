{
 "cells": [
  {
   "cell_type": "code",
   "execution_count": 1,
   "id": "93fd1e40-a771-419c-b469-473dffc52c61",
   "metadata": {},
   "outputs": [],
   "source": [
    "import os\n",
    "import sys\n",
    "module_path = os.path.abspath(os.path.join('..'))\n",
    "if module_path not in sys.path:\n",
    "    sys.path.append(module_path)"
   ]
  },
  {
   "cell_type": "code",
   "execution_count": 2,
   "id": "8311b2a2-4473-4993-9ee8-0cfbbc4f41cf",
   "metadata": {},
   "outputs": [],
   "source": [
    "from astropy.coordinates import SkyCoord\n",
    "from astropy.table import Table\n",
    "from astroquery.vizier import Vizier\n",
    "from astropy import units as u\n",
    "\n",
    "import swasputils"
   ]
  },
  {
   "cell_type": "code",
   "execution_count": 3,
   "id": "2ee6a521-4f35-4c6b-b040-dbcb60baba1f",
   "metadata": {},
   "outputs": [],
   "source": [
    "folded_lightcurves = swasputils.FoldedLightcurves()"
   ]
  },
  {
   "cell_type": "code",
   "execution_count": 4,
   "id": "f84d8cd1-7f6b-4bed-a026-83bc172f5701",
   "metadata": {},
   "outputs": [],
   "source": [
    "superwasp_coords = folded_lightcurves.df['SWASP ID'].replace(r'^1SWASP', '', regex=True).unique()\n",
    "parsed_coords = SkyCoord(superwasp_coords, unit=(u.hour, u.deg))"
   ]
  },
  {
   "cell_type": "code",
   "execution_count": 5,
   "id": "e15071f0-aeea-45b0-bf36-f952e31dd13f",
   "metadata": {},
   "outputs": [
    {
     "data": {
      "text/html": [
       "<div><i>Table length=770735</i>\n",
       "<table id=\"table2372168394496\" class=\"table-striped table-bordered table-condensed\">\n",
       "<thead><tr><th>SuperWASP Coords</th><th>_RAJ2000</th><th>_DEJ2000</th></tr></thead>\n",
       "<thead><tr><th></th><th>deg</th><th>deg</th></tr></thead>\n",
       "<thead><tr><th>str19</th><th>float64</th><th>float64</th></tr></thead>\n",
       "<tr><td>J000000.15+320847.6</td><td>0.0006249999999999999</td><td>32.14655555555556</td></tr>\n",
       "<tr><td>J000000.74+561358.9</td><td>0.003083333333333333</td><td>56.23302777777778</td></tr>\n",
       "<tr><td>J000001.10+562043.7</td><td>0.004583333333333333</td><td>56.34547222222223</td></tr>\n",
       "<tr><td>J000001.37+455849.8</td><td>0.0057083333333333335</td><td>45.9805</td></tr>\n",
       "<tr><td>J000001.54+551206.8</td><td>0.006416666666666666</td><td>55.201888888888895</td></tr>\n",
       "<tr><td>J000001.64+554743.9</td><td>0.006833333333333332</td><td>55.79552777777778</td></tr>\n",
       "<tr><td>J000001.78+554743.9</td><td>0.007416666666666666</td><td>55.79552777777778</td></tr>\n",
       "<tr><td>J000001.94-345236.5</td><td>0.008083333333333333</td><td>-34.876805555555556</td></tr>\n",
       "<tr><td>J000002.30+550717.0</td><td>0.00958333333333333</td><td>55.12138888888889</td></tr>\n",
       "<tr><td>...</td><td>...</td><td>...</td></tr>\n",
       "<tr><td>J215625.49-010910.8</td><td>329.1062083333333</td><td>-1.1529999999999998</td></tr>\n",
       "<tr><td>J215625.61-093339.3</td><td>329.1067083333333</td><td>-9.560916666666667</td></tr>\n",
       "<tr><td>J215654.22+560519.4</td><td>329.22591666666665</td><td>56.08872222222222</td></tr>\n",
       "<tr><td>J215654.24+430744.7</td><td>329.22599999999994</td><td>43.129083333333334</td></tr>\n",
       "<tr><td>J215654.33+380526.9</td><td>329.22637499999996</td><td>38.090805555555555</td></tr>\n",
       "<tr><td>J215654.39+165053.0</td><td>329.22662499999996</td><td>16.848055555555554</td></tr>\n",
       "<tr><td>J215654.96-303804.4</td><td>329.2289999999999</td><td>-30.634555555555554</td></tr>\n",
       "<tr><td>J215656.37+120435.3</td><td>329.234875</td><td>12.076472222222222</td></tr>\n",
       "<tr><td>J215657.91-310826.5</td><td>329.24129166666665</td><td>-31.140694444444446</td></tr>\n",
       "<tr><td>J215658.98-260752.2</td><td>329.24575</td><td>-26.13116666666667</td></tr>\n",
       "</table></div>"
      ],
      "text/plain": [
       "<Table length=770735>\n",
       "  SuperWASP Coords         _RAJ2000             _DEJ2000     \n",
       "                             deg                  deg        \n",
       "       str19               float64              float64      \n",
       "------------------- --------------------- -------------------\n",
       "J000000.15+320847.6 0.0006249999999999999   32.14655555555556\n",
       "J000000.74+561358.9  0.003083333333333333   56.23302777777778\n",
       "J000001.10+562043.7  0.004583333333333333   56.34547222222223\n",
       "J000001.37+455849.8 0.0057083333333333335             45.9805\n",
       "J000001.54+551206.8  0.006416666666666666  55.201888888888895\n",
       "J000001.64+554743.9  0.006833333333333332   55.79552777777778\n",
       "J000001.78+554743.9  0.007416666666666666   55.79552777777778\n",
       "J000001.94-345236.5  0.008083333333333333 -34.876805555555556\n",
       "J000002.30+550717.0   0.00958333333333333   55.12138888888889\n",
       "                ...                   ...                 ...\n",
       "J215625.49-010910.8     329.1062083333333 -1.1529999999999998\n",
       "J215625.61-093339.3     329.1067083333333  -9.560916666666667\n",
       "J215654.22+560519.4    329.22591666666665   56.08872222222222\n",
       "J215654.24+430744.7    329.22599999999994  43.129083333333334\n",
       "J215654.33+380526.9    329.22637499999996  38.090805555555555\n",
       "J215654.39+165053.0    329.22662499999996  16.848055555555554\n",
       "J215654.96-303804.4     329.2289999999999 -30.634555555555554\n",
       "J215656.37+120435.3            329.234875  12.076472222222222\n",
       "J215657.91-310826.5    329.24129166666665 -31.140694444444446\n",
       "J215658.98-260752.2             329.24575  -26.13116666666667"
      ]
     },
     "execution_count": 5,
     "metadata": {},
     "output_type": "execute_result"
    }
   ],
   "source": [
    "source_table = Table(\n",
    "    data=[\n",
    "        superwasp_coords,\n",
    "        parsed_coords.ra,\n",
    "        parsed_coords.dec,\n",
    "    ],\n",
    "    names=[\n",
    "        'SuperWASP Coords',\n",
    "        '_RAJ2000',\n",
    "        '_DEJ2000',\n",
    "    ],\n",
    "    dtype=[\n",
    "        'str',\n",
    "        'float64',\n",
    "        'float64',\n",
    "    ],\n",
    "    units={\n",
    "        '_RAJ2000': u.deg,\n",
    "        '_DEJ2000': u.deg\n",
    "    }\n",
    ")\n",
    "source_table"
   ]
  },
  {
   "cell_type": "code",
   "execution_count": 6,
   "id": "7ab4dd7d-1f7c-47c0-bac7-f6e70e826c8b",
   "metadata": {},
   "outputs": [],
   "source": [
    "source_table.write(os.path.join(swasputils.CACHE_LOCATION, 'source_coords.fits'), overwrite=True)"
   ]
  },
  {
   "cell_type": "code",
   "execution_count": null,
   "id": "5fdd7fc6-6b3e-4397-82b2-dd363e53c20b",
   "metadata": {},
   "outputs": [],
   "source": []
  }
 ],
 "metadata": {
  "kernelspec": {
   "display_name": "Python 3 (ipykernel)",
   "language": "python",
   "name": "python3"
  },
  "language_info": {
   "codemirror_mode": {
    "name": "ipython",
    "version": 3
   },
   "file_extension": ".py",
   "mimetype": "text/x-python",
   "name": "python",
   "nbconvert_exporter": "python",
   "pygments_lexer": "ipython3",
   "version": "3.8.5"
  }
 },
 "nbformat": 4,
 "nbformat_minor": 5
}
