{
 "cells": [
  {
   "cell_type": "code",
   "execution_count": 1,
   "id": "worth-special",
   "metadata": {},
   "outputs": [
    {
     "name": "stderr",
     "output_type": "stream",
     "text": [
      "Broken libmagic installation detected. The python-magic module is installed but can't be imported. Please check that both python-magic and the libmagic shared library are installed correctly. Uploading media other than images may not work.\n"
     ]
    }
   ],
   "source": [
    "from panoptes_client import Panoptes, Workflow\n",
    "import getpass\n",
    "import swasputils"
   ]
  },
  {
   "cell_type": "code",
   "execution_count": 2,
   "id": "ff89e69d-b925-4566-88e2-e50d633a6936",
   "metadata": {},
   "outputs": [],
   "source": [
    "FILTERED_REAL_SET = 91123\n",
    "ADDITIONAL_MAIN_SETS = (26041, 26042, 26053, 40563, 30142, 30133, 33254, 30217)"
   ]
  },
  {
   "cell_type": "code",
   "execution_count": 3,
   "id": "unable-hazard",
   "metadata": {},
   "outputs": [
    {
     "name": "stderr",
     "output_type": "stream",
     "text": [
      "c:\\Users\\anm83\\Anaconda3\\lib\\site-packages\\numpy\\lib\\arraysetops.py:583: FutureWarning: elementwise comparison failed; returning scalar instead, but in the future will perform elementwise comparison\n",
      "  mask |= (ar1 == a)\n"
     ]
    }
   ],
   "source": [
    "s = swasputils.UnifiedSubjects()\n"
   ]
  },
  {
   "cell_type": "code",
   "execution_count": 4,
   "id": "593ff239",
   "metadata": {},
   "outputs": [],
   "source": [
    "retired_filtering_subjects = s.get_workflow(swasputils.JUNK_WORKFLOW).retired.df\n",
    "filtered_real_subjects = s.get_subject_set(FILTERED_REAL_SET).df\n",
    "filtered_junk_subjects = retired_filtering_subjects[~retired_filtering_subjects.index.isin(filtered_real_subjects.index)]\n",
    "main_active_subjects = s.get_workflow(swasputils.MAIN_WORKFLOW).active.df\n",
    "main_active_junk = main_active_subjects[main_active_subjects.index.isin(filtered_junk_subjects)]\n",
    "additional_subjects = s.df[s.df['subject_set_id'].isin(ADDITIONAL_MAIN_SETS)]\n",
    "additional_junk = additional_subjects[additional_subjects.index.isin(filtered_junk_subjects.index)]"
   ]
  },
  {
   "cell_type": "code",
   "execution_count": 5,
   "id": "f9b4b99f-1978-4391-a048-746bbe91f24c",
   "metadata": {},
   "outputs": [
    {
     "data": {
      "text/plain": [
       "0"
      ]
     },
     "execution_count": 5,
     "metadata": {},
     "output_type": "execute_result"
    }
   ],
   "source": [
    "len(main_active_junk)"
   ]
  },
  {
   "cell_type": "code",
   "execution_count": 6,
   "id": "c91cb208",
   "metadata": {},
   "outputs": [
    {
     "data": {
      "text/plain": [
       "513716"
      ]
     },
     "execution_count": 6,
     "metadata": {},
     "output_type": "execute_result"
    }
   ],
   "source": [
    "len(additional_subjects)"
   ]
  },
  {
   "cell_type": "code",
   "execution_count": 7,
   "id": "139069a5",
   "metadata": {},
   "outputs": [
    {
     "data": {
      "text/plain": [
       "316330"
      ]
     },
     "execution_count": 7,
     "metadata": {},
     "output_type": "execute_result"
    }
   ],
   "source": [
    "len(additional_junk)"
   ]
  },
  {
   "cell_type": "code",
   "execution_count": 9,
   "id": "another-stick",
   "metadata": {},
   "outputs": [],
   "source": [
    "zooniverse_username = input()"
   ]
  },
  {
   "cell_type": "code",
   "execution_count": 10,
   "id": "electrical-client",
   "metadata": {},
   "outputs": [],
   "source": [
    "zooniverse_password = getpass.getpass()"
   ]
  },
  {
   "cell_type": "code",
   "execution_count": 11,
   "id": "radical-piano",
   "metadata": {},
   "outputs": [
    {
     "data": {
      "text/plain": [
       "<panoptes_client.panoptes.Panoptes at 0x114a04e6280>"
      ]
     },
     "execution_count": 11,
     "metadata": {},
     "output_type": "execute_result"
    }
   ],
   "source": [
    "Panoptes.connect(username=zooniverse_username, password=zooniverse_password)"
   ]
  },
  {
   "cell_type": "code",
   "execution_count": 12,
   "id": "postal-music",
   "metadata": {},
   "outputs": [],
   "source": [
    "w = Workflow(swasputils.MAIN_WORKFLOW)\n",
    "w.retire_subjects(list(main_active_junk.index))\n",
    "w.retire_subjects(list(additional_junk.index))"
   ]
  }
 ],
 "metadata": {
  "kernelspec": {
   "display_name": "Python 3.8.5 ('base')",
   "language": "python",
   "name": "python3"
  },
  "language_info": {
   "codemirror_mode": {
    "name": "ipython",
    "version": 3
   },
   "file_extension": ".py",
   "mimetype": "text/x-python",
   "name": "python",
   "nbconvert_exporter": "python",
   "pygments_lexer": "ipython3",
   "version": "3.8.5"
  },
  "vscode": {
   "interpreter": {
    "hash": "0549131850c96b02dd1d061eef71668be7c38f31610b72bcb2ef47c24cb6a64e"
   }
  }
 },
 "nbformat": 4,
 "nbformat_minor": 5
}
