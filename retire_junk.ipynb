{
 "cells": [
  {
   "cell_type": "code",
   "execution_count": 14,
   "id": "worth-special",
   "metadata": {},
   "outputs": [],
   "source": [
    "from panoptes_client import Panoptes, Workflow\n",
    "import getpass\n",
    "import swasputils"
   ]
  },
  {
   "cell_type": "code",
   "execution_count": 15,
   "id": "ff89e69d-b925-4566-88e2-e50d633a6936",
   "metadata": {},
   "outputs": [],
   "source": [
    "FILTERED_REAL_SET = 91123"
   ]
  },
  {
   "cell_type": "code",
   "execution_count": 16,
   "id": "unable-hazard",
   "metadata": {},
   "outputs": [],
   "source": [
    "s = swasputils.UnifiedSubjects()\n"
   ]
  },
  {
   "cell_type": "code",
   "execution_count": 17,
   "id": "593ff239",
   "metadata": {},
   "outputs": [],
   "source": [
    "retired_filtering_subjects = s.get_workflow(swasputils.JUNK_WORKFLOW).retired.df\n",
    "filtered_real_subjects = s.get_subject_set(FILTERED_REAL_SET).df\n",
    "filtered_junk_subjects = retired_filtering_subjects[~retired_filtering_subjects.index.isin(filtered_real_subjects.index)]\n",
    "main_active_subjects = s.get_workflow(swasputils.MAIN_WORKFLOW).active.df\n",
    "main_active_junk = main_active_subjects[main_active_subjects.index.isin(filtered_junk_subjects)]"
   ]
  },
  {
   "cell_type": "code",
   "execution_count": 18,
   "id": "f9b4b99f-1978-4391-a048-746bbe91f24c",
   "metadata": {},
   "outputs": [
    {
     "data": {
      "text/plain": [
       "0"
      ]
     },
     "execution_count": 18,
     "metadata": {},
     "output_type": "execute_result"
    }
   ],
   "source": [
    "len(main_active_junk)"
   ]
  },
  {
   "cell_type": "code",
   "execution_count": null,
   "id": "another-stick",
   "metadata": {},
   "outputs": [],
   "source": [
    "zooniverse_username = input()"
   ]
  },
  {
   "cell_type": "code",
   "execution_count": null,
   "id": "electrical-client",
   "metadata": {},
   "outputs": [],
   "source": [
    "zooniverse_password = getpass.getpass()"
   ]
  },
  {
   "cell_type": "code",
   "execution_count": null,
   "id": "radical-piano",
   "metadata": {},
   "outputs": [],
   "source": [
    "Panoptes.connect(username=zooniverse_username, password=zooniverse_password)"
   ]
  },
  {
   "cell_type": "code",
   "execution_count": null,
   "id": "postal-music",
   "metadata": {},
   "outputs": [],
   "source": [
    "w = Workflow(swasputils.MAIN_WORKFLOW)\n",
    "w.retire_subjects(list(main_active_junk.index))"
   ]
  }
 ],
 "metadata": {
  "kernelspec": {
   "display_name": "Python 3 (ipykernel)",
   "language": "python",
   "name": "python3"
  },
  "language_info": {
   "codemirror_mode": {
    "name": "ipython",
    "version": 3
   },
   "file_extension": ".py",
   "mimetype": "text/x-python",
   "name": "python",
   "nbconvert_exporter": "python",
   "pygments_lexer": "ipython3",
   "version": "3.8.5"
  }
 },
 "nbformat": 4,
 "nbformat_minor": 5
}
