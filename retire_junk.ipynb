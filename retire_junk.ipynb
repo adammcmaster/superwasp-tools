{
 "cells": [
  {
   "cell_type": "code",
   "execution_count": null,
   "id": "worth-special",
   "metadata": {},
   "outputs": [],
   "source": [
    "from panoptes_client import Panoptes, Workflow\n",
    "import getpass\n",
    "import swasputils"
   ]
  },
  {
   "cell_type": "code",
   "execution_count": null,
   "id": "ff89e69d-b925-4566-88e2-e50d633a6936",
   "metadata": {},
   "outputs": [],
   "source": [
    "SUBJECT_SETS = []"
   ]
  },
  {
   "cell_type": "code",
   "execution_count": null,
   "id": "unable-hazard",
   "metadata": {},
   "outputs": [],
   "source": [
    "s = swasputils.UnifiedSubjects()\n",
    "filtered_junk_subjects = s.get_workflow(swasputils.JUNK_WORKFLOW).retired.junk"
   ]
  },
  {
   "cell_type": "code",
   "execution_count": null,
   "id": "atomic-livestock",
   "metadata": {},
   "outputs": [],
   "source": [
    "subjects_to_retire = set()\n",
    "if not SUBJECT_SETS:\n",
    "    main_active_subjects = s.get_workflow(swasputils.MAIN_WORKFLOW).active\n",
    "    subjects_to_retire = set(filtered_junk_subjects.df.index.intersection(main_active_subjects.df.index))\n",
    "else:\n",
    "    for subject_set_id in SUBJECT_SETS:\n",
    "        subjects_to_retire = subjects_to_retire.union(set(filtered_junk_subjects.get_subject_set(subject_set_id).df.index))"
   ]
  },
  {
   "cell_type": "code",
   "execution_count": null,
   "id": "f9b4b99f-1978-4391-a048-746bbe91f24c",
   "metadata": {},
   "outputs": [],
   "source": [
    "len(subjects_to_retire)"
   ]
  },
  {
   "cell_type": "code",
   "execution_count": null,
   "id": "another-stick",
   "metadata": {},
   "outputs": [],
   "source": [
    "zooniverse_username = input()"
   ]
  },
  {
   "cell_type": "code",
   "execution_count": null,
   "id": "electrical-client",
   "metadata": {},
   "outputs": [],
   "source": [
    "zooniverse_password = getpass.getpass()"
   ]
  },
  {
   "cell_type": "code",
   "execution_count": null,
   "id": "radical-piano",
   "metadata": {},
   "outputs": [],
   "source": [
    "Panoptes.connect(username=zooniverse_username, password=zooniverse_password)"
   ]
  },
  {
   "cell_type": "code",
   "execution_count": null,
   "id": "postal-music",
   "metadata": {},
   "outputs": [],
   "source": [
    "w = Workflow(swasputils.MAIN_WORKFLOW)\n",
    "w.retire_subjects(subjects_to_retire)"
   ]
  }
 ],
 "metadata": {
  "kernelspec": {
   "display_name": "Python 3 (ipykernel)",
   "language": "python",
   "name": "python3"
  },
  "language_info": {
   "codemirror_mode": {
    "name": "ipython",
    "version": 3
   },
   "file_extension": ".py",
   "mimetype": "text/x-python",
   "name": "python",
   "nbconvert_exporter": "python",
   "pygments_lexer": "ipython3",
   "version": "3.8.5"
  }
 },
 "nbformat": 4,
 "nbformat_minor": 5
}
