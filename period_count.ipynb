{
 "cells": [
  {
   "cell_type": "code",
   "execution_count": 1,
   "id": "superior-final",
   "metadata": {},
   "outputs": [],
   "source": [
    "import numpy\n",
    "import pandas\n",
    "import seaborn\n",
    "from matplotlib import pyplot\n",
    "\n",
    "import swasputils"
   ]
  },
  {
   "cell_type": "code",
   "execution_count": 2,
   "id": "signed-management",
   "metadata": {},
   "outputs": [],
   "source": [
    "classifications = swasputils.AggregatedClassifications()"
   ]
  },
  {
   "cell_type": "code",
   "execution_count": 3,
   "id": "alike-genealogy",
   "metadata": {},
   "outputs": [],
   "source": [
    "classifications.add_classification_labels()"
   ]
  },
  {
   "cell_type": "code",
   "execution_count": 4,
   "id": "motivated-general",
   "metadata": {},
   "outputs": [
    {
     "data": {
      "text/html": [
       "<div>\n",
       "<style scoped>\n",
       "    .dataframe tbody tr th:only-of-type {\n",
       "        vertical-align: middle;\n",
       "    }\n",
       "\n",
       "    .dataframe tbody tr th {\n",
       "        vertical-align: top;\n",
       "    }\n",
       "\n",
       "    .dataframe thead th {\n",
       "        text-align: right;\n",
       "    }\n",
       "</style>\n",
       "<table border=\"1\" class=\"dataframe\">\n",
       "  <thead>\n",
       "    <tr style=\"text-align: right;\">\n",
       "      <th></th>\n",
       "      <th>SWASP ID</th>\n",
       "      <th>Period Number</th>\n",
       "      <th>Period</th>\n",
       "      <th>Classification</th>\n",
       "      <th>Period Uncertainty</th>\n",
       "      <th>Classification Count</th>\n",
       "      <th>Classification Label</th>\n",
       "    </tr>\n",
       "    <tr>\n",
       "      <th>subject_id</th>\n",
       "      <th></th>\n",
       "      <th></th>\n",
       "      <th></th>\n",
       "      <th></th>\n",
       "      <th></th>\n",
       "      <th></th>\n",
       "      <th></th>\n",
       "    </tr>\n",
       "  </thead>\n",
       "  <tbody>\n",
       "    <tr>\n",
       "      <th>21813536</th>\n",
       "      <td>1SWASPJ000000.15+320847.6</td>\n",
       "      <td>1</td>\n",
       "      <td>24802.357</td>\n",
       "      <td>3</td>\n",
       "      <td>0</td>\n",
       "      <td>4</td>\n",
       "      <td>EW</td>\n",
       "    </tr>\n",
       "    <tr>\n",
       "      <th>21813537</th>\n",
       "      <td>1SWASPJ000000.74+561358.9</td>\n",
       "      <td>1</td>\n",
       "      <td>1884039.250</td>\n",
       "      <td>6</td>\n",
       "      <td>1</td>\n",
       "      <td>3</td>\n",
       "      <td>Junk</td>\n",
       "    </tr>\n",
       "    <tr>\n",
       "      <th>21813538</th>\n",
       "      <td>1SWASPJ000000.74+561358.9</td>\n",
       "      <td>3</td>\n",
       "      <td>428081.250</td>\n",
       "      <td>6</td>\n",
       "      <td>1</td>\n",
       "      <td>6</td>\n",
       "      <td>Junk</td>\n",
       "    </tr>\n",
       "    <tr>\n",
       "      <th>21813539</th>\n",
       "      <td>1SWASPJ000000.74+561358.9</td>\n",
       "      <td>5</td>\n",
       "      <td>275859.969</td>\n",
       "      <td>6</td>\n",
       "      <td>1</td>\n",
       "      <td>3</td>\n",
       "      <td>Junk</td>\n",
       "    </tr>\n",
       "    <tr>\n",
       "      <th>21813540</th>\n",
       "      <td>1SWASPJ000001.10+562043.7</td>\n",
       "      <td>2</td>\n",
       "      <td>323290.344</td>\n",
       "      <td>6</td>\n",
       "      <td>1</td>\n",
       "      <td>3</td>\n",
       "      <td>Junk</td>\n",
       "    </tr>\n",
       "  </tbody>\n",
       "</table>\n",
       "</div>"
      ],
      "text/plain": [
       "                             SWASP ID  Period Number       Period  \\\n",
       "subject_id                                                          \n",
       "21813536    1SWASPJ000000.15+320847.6              1    24802.357   \n",
       "21813537    1SWASPJ000000.74+561358.9              1  1884039.250   \n",
       "21813538    1SWASPJ000000.74+561358.9              3   428081.250   \n",
       "21813539    1SWASPJ000000.74+561358.9              5   275859.969   \n",
       "21813540    1SWASPJ000001.10+562043.7              2   323290.344   \n",
       "\n",
       "            Classification  Period Uncertainty  Classification Count  \\\n",
       "subject_id                                                             \n",
       "21813536                 3                   0                     4   \n",
       "21813537                 6                   1                     3   \n",
       "21813538                 6                   1                     6   \n",
       "21813539                 6                   1                     3   \n",
       "21813540                 6                   1                     3   \n",
       "\n",
       "           Classification Label  \n",
       "subject_id                       \n",
       "21813536                     EW  \n",
       "21813537                   Junk  \n",
       "21813538                   Junk  \n",
       "21813539                   Junk  \n",
       "21813540                   Junk  "
      ]
     },
     "execution_count": 4,
     "metadata": {},
     "output_type": "execute_result"
    }
   ],
   "source": [
    "classifications.df.head()"
   ]
  },
  {
   "cell_type": "code",
   "execution_count": 5,
   "id": "enormous-bhutan",
   "metadata": {},
   "outputs": [
    {
     "data": {
      "text/html": [
       "<div>\n",
       "<style scoped>\n",
       "    .dataframe tbody tr th:only-of-type {\n",
       "        vertical-align: middle;\n",
       "    }\n",
       "\n",
       "    .dataframe tbody tr th {\n",
       "        vertical-align: top;\n",
       "    }\n",
       "\n",
       "    .dataframe thead tr th {\n",
       "        text-align: left;\n",
       "    }\n",
       "\n",
       "    .dataframe thead tr:last-of-type th {\n",
       "        text-align: right;\n",
       "    }\n",
       "</style>\n",
       "<table border=\"1\" class=\"dataframe\">\n",
       "  <thead>\n",
       "    <tr>\n",
       "      <th></th>\n",
       "      <th colspan=\"2\" halign=\"left\">Period</th>\n",
       "      <th>Period Number</th>\n",
       "    </tr>\n",
       "    <tr>\n",
       "      <th></th>\n",
       "      <th>mean</th>\n",
       "      <th>std</th>\n",
       "      <th>&lt;lambda&gt;</th>\n",
       "    </tr>\n",
       "    <tr>\n",
       "      <th>SWASP ID</th>\n",
       "      <th></th>\n",
       "      <th></th>\n",
       "      <th></th>\n",
       "    </tr>\n",
       "  </thead>\n",
       "  <tbody>\n",
       "    <tr>\n",
       "      <th>1SWASPJ000000.15+320847.6</th>\n",
       "      <td>2.480236e+04</td>\n",
       "      <td>NaN</td>\n",
       "      <td>1</td>\n",
       "    </tr>\n",
       "    <tr>\n",
       "      <th>1SWASPJ000000.74+561358.9</th>\n",
       "      <td>8.626602e+05</td>\n",
       "      <td>887808.689601</td>\n",
       "      <td>3</td>\n",
       "    </tr>\n",
       "    <tr>\n",
       "      <th>1SWASPJ000001.10+562043.7</th>\n",
       "      <td>2.216910e+05</td>\n",
       "      <td>57779.079031</td>\n",
       "      <td>5</td>\n",
       "    </tr>\n",
       "    <tr>\n",
       "      <th>1SWASPJ000001.37+455849.8</th>\n",
       "      <td>3.006162e+06</td>\n",
       "      <td>NaN</td>\n",
       "      <td>1</td>\n",
       "    </tr>\n",
       "    <tr>\n",
       "      <th>1SWASPJ000001.54+551206.8</th>\n",
       "      <td>3.505436e+05</td>\n",
       "      <td>76109.963778</td>\n",
       "      <td>3</td>\n",
       "    </tr>\n",
       "  </tbody>\n",
       "</table>\n",
       "</div>"
      ],
      "text/plain": [
       "                                 Period                Period Number\n",
       "                                   mean            std      <lambda>\n",
       "SWASP ID                                                            \n",
       "1SWASPJ000000.15+320847.6  2.480236e+04            NaN             1\n",
       "1SWASPJ000000.74+561358.9  8.626602e+05  887808.689601             3\n",
       "1SWASPJ000001.10+562043.7  2.216910e+05   57779.079031             5\n",
       "1SWASPJ000001.37+455849.8  3.006162e+06            NaN             1\n",
       "1SWASPJ000001.54+551206.8  3.505436e+05   76109.963778             3"
      ]
     },
     "execution_count": 5,
     "metadata": {},
     "output_type": "execute_result"
    }
   ],
   "source": [
    "period_counts = classifications.df.pivot_table(\n",
    "    index='SWASP ID',\n",
    "    values=['Period Number', 'Period'],\n",
    "    aggfunc={\n",
    "        'Period Number': lambda x: len(x.unique()),\n",
    "        'Period': [numpy.mean, numpy.std],\n",
    "    },\n",
    ")\n",
    "period_counts.head()"
   ]
  },
  {
   "cell_type": "code",
   "execution_count": 6,
   "id": "collect-semiconductor",
   "metadata": {},
   "outputs": [
    {
     "data": {
      "text/plain": [
       "<AxesSubplot:title={'center':'Number of Detected Periods Per SWASP Source'}, ylabel='Frequency'>"
      ]
     },
     "execution_count": 6,
     "metadata": {},
     "output_type": "execute_result"
    },
    {
     "data": {
      "image/png": "[encoded data removed]",
      "text/plain": [
       "<Figure size 432x288 with 1 Axes>"
      ]
     },
     "metadata": {
      "needs_background": "light"
     },
     "output_type": "display_data"
    }
   ],
   "source": [
    "period_counts['Period Number'].plot.hist(\n",
    "    title='Number of Detected Periods Per SWASP Source',\n",
    "    log=True,\n",
    "    xlabel='Number of Periods',\n",
    ")"
   ]
  },
  {
   "cell_type": "code",
   "execution_count": 7,
   "id": "fourth-congress",
   "metadata": {},
   "outputs": [
    {
     "data": {
      "text/plain": [
       "<AxesSubplot:xlabel='<lambda>', ylabel='mean'>"
      ]
     },
     "execution_count": 7,
     "metadata": {},
     "output_type": "execute_result"
    },
    {
     "data": {
      "image/png": "[encoded data removed]",
      "text/plain": [
       "<Figure size 432x288 with 1 Axes>"
      ]
     },
     "metadata": {
      "needs_background": "light"
     },
     "output_type": "display_data"
    }
   ],
   "source": [
    "means = period_counts['Period Number'].copy().merge(period_counts['Period']['mean'], left_index=True, right_index=True)\n",
    "means.plot.scatter(x='<lambda>', y='mean', logy=True)"
   ]
  },
  {
   "cell_type": "code",
   "execution_count": 11,
   "id": "light-application",
   "metadata": {},
   "outputs": [
    {
     "data": {
      "text/plain": [
       "<seaborn.axisgrid.JointGrid at 0x213b4a537c0>"
      ]
     },
     "execution_count": 11,
     "metadata": {},
     "output_type": "execute_result"
    },
    {
     "data": {
      "image/png": "[encoded data removed]",
      "text/plain": [
       "<Figure size 432x432 with 3 Axes>"
      ]
     },
     "metadata": {
      "needs_background": "light"
     },
     "output_type": "display_data"
    }
   ],
   "source": [
    "seaborn.jointplot(\n",
    "    data=means,\n",
    "    x='<lambda>',\n",
    "    y='mean',\n",
    "   # kind='hex'\n",
    ")"
   ]
  },
  {
   "cell_type": "code",
   "execution_count": null,
   "id": "aquatic-indie",
   "metadata": {},
   "outputs": [],
   "source": []
  }
 ],
 "metadata": {
  "kernelspec": {
   "display_name": "Python 3 (ipykernel)",
   "language": "python",
   "name": "python3"
  },
  "language_info": {
   "codemirror_mode": {
    "name": "ipython",
    "version": 3
   },
   "file_extension": ".py",
   "mimetype": "text/x-python",
   "name": "python",
   "nbconvert_exporter": "python",
   "pygments_lexer": "ipython3",
   "version": "3.8.5"
  }
 },
 "nbformat": 4,
 "nbformat_minor": 5
}
