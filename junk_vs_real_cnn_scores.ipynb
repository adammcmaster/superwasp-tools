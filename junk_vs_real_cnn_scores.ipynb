{
 "cells": [
  {
   "cell_type": "code",
   "execution_count": 1,
   "metadata": {},
   "outputs": [],
   "source": [
    "import pandas\n",
    "\n",
    "import seaborn\n",
    "from matplotlib import pyplot\n",
    "from IPython.display import Image, display\n",
    "\n",
    "from pathlib import Path\n",
    "\n",
    "import json"
   ]
  },
  {
   "cell_type": "code",
   "execution_count": 2,
   "metadata": {},
   "outputs": [],
   "source": [
    "FILTERED_REAL_SET = 91123\n",
    "FILTERING_WORKFLOW = 17313 \n",
    "DATA_LOCATION = Path('../../superwasp-data/')"
   ]
  },
  {
   "cell_type": "markdown",
   "metadata": {},
   "source": [
    "## Merge subject metadata with CNN scores"
   ]
  },
  {
   "cell_type": "code",
   "execution_count": 3,
   "metadata": {},
   "outputs": [
    {
     "data": {
      "text/plain": [
       "3413060"
      ]
     },
     "execution_count": 3,
     "metadata": {},
     "output_type": "execute_result"
    }
   ],
   "source": [
    "zoo_subjects_cache = DATA_LOCATION / 'junk-filtering-cnn-subjects.pkl'\n",
    "if zoo_subjects_cache.exists():\n",
    "    zoo_subjects = pandas.read_pickle(zoo_subjects_cache)\n",
    "else:\n",
    "    zoo_lookup = pandas.read_csv(\n",
    "        DATA_LOCATION / 'lookup.dat',\n",
    "        delim_whitespace=True,\n",
    "        header=None,\n",
    "    )\n",
    "    zoo_lookup.columns = [\n",
    "        'subject_id',\n",
    "        'SWASP ID',\n",
    "        'Period',\n",
    "        'Period Number',\n",
    "    ]\n",
    "    zoo_subjects = pandas.read_csv(\n",
    "        DATA_LOCATION / 'superwasp-variable-stars-subjects.csv',\n",
    "    )\n",
    "    zoo_subjects = zoo_subjects[['subject_id', 'subject_set_id', 'workflow_id', 'retired_at', 'locations']]\n",
    "    zoo_subjects = zoo_subjects.merge(zoo_lookup)\n",
    "    zoo_subjects['file'] = zoo_subjects.apply(lambda r: f\"{r['SWASP ID']}_P{r['Period Number']}_fold.gif\", axis=1)\n",
    "    zoo_subjects['locations'] = zoo_subjects.apply(lambda r: list(json.loads(r['locations']).values())[0], axis=1)\n",
    "    zoo_subjects['retired_at'] = pandas.to_datetime(zoo_subjects['retired_at'])\n",
    "    zoo_subjects.rename({'locations': 'location'}, axis=1, inplace=True)\n",
    "    zoo_subjects.to_pickle(zoo_subjects_cache)\n",
    "len(zoo_subjects)"
   ]
  },
  {
   "cell_type": "code",
   "execution_count": 4,
   "metadata": {},
   "outputs": [],
   "source": [
    "filtered_real_subjects = zoo_subjects[zoo_subjects['subject_set_id'] == FILTERED_REAL_SET]\n",
    "retired_subjects = zoo_subjects[(zoo_subjects['workflow_id'] == FILTERING_WORKFLOW) & zoo_subjects['retired_at'].notna()]"
   ]
  },
  {
   "cell_type": "code",
   "execution_count": 5,
   "metadata": {},
   "outputs": [
    {
     "data": {
      "text/plain": [
       "1569062"
      ]
     },
     "execution_count": 5,
     "metadata": {},
     "output_type": "execute_result"
    }
   ],
   "source": [
    "cnn_scores = pandas.read_csv(DATA_LOCATION / 'svs-junk-predictions.csv', header=0, names=['file', 'prediction'])\n",
    "cnn_scores = cnn_scores.merge(zoo_subjects)\n",
    "cnn_scores = cnn_scores[['file', 'subject_id', 'prediction', 'location']]\n",
    "cnn_scores.drop_duplicates(inplace=True)\n",
    "len(cnn_scores)"
   ]
  },
  {
   "cell_type": "code",
   "execution_count": 6,
   "metadata": {},
   "outputs": [
    {
     "name": "stderr",
     "output_type": "stream",
     "text": [
      "C:\\Users\\anm83\\AppData\\Local\\Temp/ipykernel_1420/3914798590.py:2: SettingWithCopyWarning: \n",
      "A value is trying to be set on a copy of a slice from a DataFrame.\n",
      "Try using .loc[row_indexer,col_indexer] = value instead\n",
      "\n",
      "See the caveats in the documentation: https://pandas.pydata.org/pandas-docs/stable/user_guide/indexing.html#returning-a-view-versus-a-copy\n",
      "  cnn_scores_retired['zoo_classification_real'] = cnn_scores_retired['subject_id'].isin(filtered_real_subjects['subject_id'])\n"
     ]
    },
    {
     "data": {
      "text/plain": [
       "951984"
      ]
     },
     "execution_count": 6,
     "metadata": {},
     "output_type": "execute_result"
    }
   ],
   "source": [
    "cnn_scores_retired = cnn_scores[cnn_scores['subject_id'].isin(retired_subjects['subject_id'])]\n",
    "cnn_scores_retired['zoo_classification_real'] = cnn_scores_retired['subject_id'].isin(filtered_real_subjects['subject_id'])\n",
    "len(cnn_scores_retired)"
   ]
  },
  {
   "cell_type": "code",
   "execution_count": 7,
   "metadata": {},
   "outputs": [
    {
     "data": {
      "text/plain": [
       "617078"
      ]
     },
     "execution_count": 7,
     "metadata": {},
     "output_type": "execute_result"
    }
   ],
   "source": [
    "cnn_scores_active = cnn_scores[~cnn_scores['subject_id'].isin(cnn_scores_retired['subject_id'])]\n",
    "len(cnn_scores_active)"
   ]
  },
  {
   "cell_type": "markdown",
   "metadata": {},
   "source": [
    "## Plot distribution of scores vs human classifications"
   ]
  },
  {
   "cell_type": "code",
   "execution_count": 8,
   "metadata": {},
   "outputs": [
    {
     "data": {
      "text/plain": [
       "<AxesSubplot:xlabel='zoo_classification_real', ylabel='prediction'>"
      ]
     },
     "execution_count": 8,
     "metadata": {},
     "output_type": "execute_result"
    },
    {
     "data": {
      "image/png": "[encoded data removed]",
      "text/plain": [
       "<Figure size 432x288 with 1 Axes>"
      ]
     },
     "metadata": {
      "needs_background": "light"
     },
     "output_type": "display_data"
    }
   ],
   "source": [
    "seaborn.boxplot(data=cnn_scores_retired, x='zoo_classification_real', y='prediction')"
   ]
  },
  {
   "cell_type": "code",
   "execution_count": 9,
   "metadata": {},
   "outputs": [
    {
     "data": {
      "text/plain": [
       "<AxesSubplot:ylabel='Frequency'>"
      ]
     },
     "execution_count": 9,
     "metadata": {},
     "output_type": "execute_result"
    },
    {
     "data": {
      "image/png": "[encoded data removed]",
      "text/plain": [
       "<Figure size 432x288 with 1 Axes>"
      ]
     },
     "metadata": {
      "needs_background": "light"
     },
     "output_type": "display_data"
    }
   ],
   "source": [
    "cnn_scores_retired[cnn_scores_retired['zoo_classification_real']]['prediction'].plot.hist()"
   ]
  },
  {
   "cell_type": "code",
   "execution_count": 10,
   "metadata": {},
   "outputs": [
    {
     "data": {
      "text/plain": [
       "<AxesSubplot:ylabel='Frequency'>"
      ]
     },
     "execution_count": 10,
     "metadata": {},
     "output_type": "execute_result"
    },
    {
     "data": {
      "image/png": "[encoded data removed]",
      "text/plain": [
       "<Figure size 432x288 with 1 Axes>"
      ]
     },
     "metadata": {
      "needs_background": "light"
     },
     "output_type": "display_data"
    }
   ],
   "source": [
    "cnn_scores_retired[~cnn_scores_retired['zoo_classification_real']]['prediction'].plot.hist()"
   ]
  },
  {
   "cell_type": "markdown",
   "metadata": {},
   "source": [
    "## Count classifications"
   ]
  },
  {
   "cell_type": "code",
   "execution_count": 11,
   "metadata": {},
   "outputs": [],
   "source": [
    "zoo_classifications_cache = DATA_LOCATION / 'junk-filtering-cnn-classifications.pkl'\n",
    "if zoo_classifications_cache.exists():\n",
    "    zoo_classifications = pandas.read_pickle(zoo_classifications_cache)\n",
    "else:\n",
    "    zoo_classifications = pandas.read_csv(\n",
    "        DATA_LOCATION / 'superwasp-variable-stars-classifications.csv',\n",
    "    )\n",
    "    zoo_classifications = zoo_classifications[zoo_classifications['workflow_id'] == FILTERING_WORKFLOW]\n",
    "    zoo_classifications.rename({'subject_ids': 'subject_id'}, axis=1, inplace=True)\n",
    "    zoo_classifications['created_at'] = pandas.to_datetime(zoo_classifications['created_at'])\n",
    "    zoo_classifications.to_pickle(zoo_classifications_cache)\n",
    "zoo_classifications.drop_duplicates(subset=['user_name', 'subject_id'], inplace=True)\n",
    "zoo_classifications = zoo_classifications.merge(retired_subjects[['subject_id', 'retired_at']]).drop_duplicates()\n",
    "zoo_classifications = zoo_classifications[zoo_classifications['created_at'] <= zoo_classifications['retired_at']]"
   ]
  },
  {
   "cell_type": "code",
   "execution_count": 12,
   "metadata": {},
   "outputs": [],
   "source": [
    "classification_counts = pandas.pivot_table(\n",
    "    zoo_classifications,\n",
    "    values='classification_id',\n",
    "    aggfunc=len,\n",
    "    index='subject_id',\n",
    ")\n",
    "classification_counts.rename({'classification_id': 'classification_count'}, axis=1, inplace=True)\n",
    "classification_counts.reset_index(inplace=True)"
   ]
  },
  {
   "cell_type": "code",
   "execution_count": 13,
   "metadata": {},
   "outputs": [
    {
     "data": {
      "text/plain": [
       "<AxesSubplot:ylabel='Frequency'>"
      ]
     },
     "execution_count": 13,
     "metadata": {},
     "output_type": "execute_result"
    },
    {
     "data": {
      "image/png": "[encoded data removed]",
      "text/plain": [
       "<Figure size 432x288 with 1 Axes>"
      ]
     },
     "metadata": {
      "needs_background": "light"
     },
     "output_type": "display_data"
    }
   ],
   "source": [
    "classification_counts['classification_count'].plot.hist(logy=True, bins=max(classification_counts['classification_count']))"
   ]
  },
  {
   "cell_type": "markdown",
   "metadata": {},
   "source": [
    "# Plot sample of misclassified subjects"
   ]
  },
  {
   "cell_type": "code",
   "execution_count": 14,
   "metadata": {},
   "outputs": [
    {
     "data": {
      "text/html": [
       "<div>\n",
       "<style scoped>\n",
       "    .dataframe tbody tr th:only-of-type {\n",
       "        vertical-align: middle;\n",
       "    }\n",
       "\n",
       "    .dataframe tbody tr th {\n",
       "        vertical-align: top;\n",
       "    }\n",
       "\n",
       "    .dataframe thead th {\n",
       "        text-align: right;\n",
       "    }\n",
       "</style>\n",
       "<table border=\"1\" class=\"dataframe\">\n",
       "  <thead>\n",
       "    <tr style=\"text-align: right;\">\n",
       "      <th></th>\n",
       "      <th>file</th>\n",
       "      <th>subject_id</th>\n",
       "      <th>prediction</th>\n",
       "      <th>location</th>\n",
       "      <th>zoo_classification_real</th>\n",
       "      <th>classification_count</th>\n",
       "    </tr>\n",
       "  </thead>\n",
       "  <tbody>\n",
       "    <tr>\n",
       "      <th>0</th>\n",
       "      <td>1SWASPJ191851.17-181611.2_P1_fold.gif</td>\n",
       "      <td>23680962</td>\n",
       "      <td>1.000000</td>\n",
       "      <td>https://panoptes-uploads.zooniverse.org/subjec...</td>\n",
       "      <td>True</td>\n",
       "      <td>1</td>\n",
       "    </tr>\n",
       "    <tr>\n",
       "      <th>1</th>\n",
       "      <td>1SWASPJ193134.23-204007.3_P1_fold.gif</td>\n",
       "      <td>23727327</td>\n",
       "      <td>0.999987</td>\n",
       "      <td>https://panoptes-uploads.zooniverse.org/subjec...</td>\n",
       "      <td>True</td>\n",
       "      <td>1</td>\n",
       "    </tr>\n",
       "    <tr>\n",
       "      <th>2</th>\n",
       "      <td>1SWASPJ192637.84-191505.6_P3_fold.gif</td>\n",
       "      <td>23701332</td>\n",
       "      <td>0.658785</td>\n",
       "      <td>https://panoptes-uploads.zooniverse.org/subjec...</td>\n",
       "      <td>True</td>\n",
       "      <td>3</td>\n",
       "    </tr>\n",
       "    <tr>\n",
       "      <th>3</th>\n",
       "      <td>1SWASPJ193206.03+514729.8_P3_fold.gif</td>\n",
       "      <td>23732167</td>\n",
       "      <td>0.999991</td>\n",
       "      <td>https://panoptes-uploads.zooniverse.org/subjec...</td>\n",
       "      <td>True</td>\n",
       "      <td>1</td>\n",
       "    </tr>\n",
       "    <tr>\n",
       "      <th>4</th>\n",
       "      <td>1SWASPJ192819.14-101839.7_P3_fold.gif</td>\n",
       "      <td>23707606</td>\n",
       "      <td>0.990684</td>\n",
       "      <td>https://panoptes-uploads.zooniverse.org/subjec...</td>\n",
       "      <td>True</td>\n",
       "      <td>2</td>\n",
       "    </tr>\n",
       "    <tr>\n",
       "      <th>...</th>\n",
       "      <td>...</td>\n",
       "      <td>...</td>\n",
       "      <td>...</td>\n",
       "      <td>...</td>\n",
       "      <td>...</td>\n",
       "      <td>...</td>\n",
       "    </tr>\n",
       "    <tr>\n",
       "      <th>163119</th>\n",
       "      <td>1SWASPJ203444.63+063744.9_P1_fold.gif</td>\n",
       "      <td>24048083</td>\n",
       "      <td>0.995545</td>\n",
       "      <td>https://panoptes-uploads.zooniverse.org/subjec...</td>\n",
       "      <td>True</td>\n",
       "      <td>2</td>\n",
       "    </tr>\n",
       "    <tr>\n",
       "      <th>163120</th>\n",
       "      <td>1SWASPJ203054.11+052207.7_P1_fold.gif</td>\n",
       "      <td>24028608</td>\n",
       "      <td>0.980465</td>\n",
       "      <td>https://panoptes-uploads.zooniverse.org/subjec...</td>\n",
       "      <td>True</td>\n",
       "      <td>1</td>\n",
       "    </tr>\n",
       "    <tr>\n",
       "      <th>163121</th>\n",
       "      <td>1SWASPJ204039.25-495734.5_P1_fold.gif</td>\n",
       "      <td>24060619</td>\n",
       "      <td>0.999885</td>\n",
       "      <td>https://panoptes-uploads.zooniverse.org/subjec...</td>\n",
       "      <td>True</td>\n",
       "      <td>1</td>\n",
       "    </tr>\n",
       "    <tr>\n",
       "      <th>163122</th>\n",
       "      <td>1SWASPJ205254.57+014844.0_P1_fold.gif</td>\n",
       "      <td>24812174</td>\n",
       "      <td>0.863901</td>\n",
       "      <td>https://panoptes-uploads.zooniverse.org/subjec...</td>\n",
       "      <td>True</td>\n",
       "      <td>1</td>\n",
       "    </tr>\n",
       "    <tr>\n",
       "      <th>163123</th>\n",
       "      <td>1SWASPJ205326.96+041833.2_P1_fold.gif</td>\n",
       "      <td>24814484</td>\n",
       "      <td>0.999159</td>\n",
       "      <td>https://panoptes-uploads.zooniverse.org/subjec...</td>\n",
       "      <td>True</td>\n",
       "      <td>3</td>\n",
       "    </tr>\n",
       "  </tbody>\n",
       "</table>\n",
       "<p>163124 rows × 6 columns</p>\n",
       "</div>"
      ],
      "text/plain": [
       "                                         file  subject_id  prediction  \\\n",
       "0       1SWASPJ191851.17-181611.2_P1_fold.gif    23680962    1.000000   \n",
       "1       1SWASPJ193134.23-204007.3_P1_fold.gif    23727327    0.999987   \n",
       "2       1SWASPJ192637.84-191505.6_P3_fold.gif    23701332    0.658785   \n",
       "3       1SWASPJ193206.03+514729.8_P3_fold.gif    23732167    0.999991   \n",
       "4       1SWASPJ192819.14-101839.7_P3_fold.gif    23707606    0.990684   \n",
       "...                                       ...         ...         ...   \n",
       "163119  1SWASPJ203444.63+063744.9_P1_fold.gif    24048083    0.995545   \n",
       "163120  1SWASPJ203054.11+052207.7_P1_fold.gif    24028608    0.980465   \n",
       "163121  1SWASPJ204039.25-495734.5_P1_fold.gif    24060619    0.999885   \n",
       "163122  1SWASPJ205254.57+014844.0_P1_fold.gif    24812174    0.863901   \n",
       "163123  1SWASPJ205326.96+041833.2_P1_fold.gif    24814484    0.999159   \n",
       "\n",
       "                                                 location  \\\n",
       "0       https://panoptes-uploads.zooniverse.org/subjec...   \n",
       "1       https://panoptes-uploads.zooniverse.org/subjec...   \n",
       "2       https://panoptes-uploads.zooniverse.org/subjec...   \n",
       "3       https://panoptes-uploads.zooniverse.org/subjec...   \n",
       "4       https://panoptes-uploads.zooniverse.org/subjec...   \n",
       "...                                                   ...   \n",
       "163119  https://panoptes-uploads.zooniverse.org/subjec...   \n",
       "163120  https://panoptes-uploads.zooniverse.org/subjec...   \n",
       "163121  https://panoptes-uploads.zooniverse.org/subjec...   \n",
       "163122  https://panoptes-uploads.zooniverse.org/subjec...   \n",
       "163123  https://panoptes-uploads.zooniverse.org/subjec...   \n",
       "\n",
       "        zoo_classification_real  classification_count  \n",
       "0                          True                     1  \n",
       "1                          True                     1  \n",
       "2                          True                     3  \n",
       "3                          True                     1  \n",
       "4                          True                     2  \n",
       "...                         ...                   ...  \n",
       "163119                     True                     2  \n",
       "163120                     True                     1  \n",
       "163121                     True                     1  \n",
       "163122                     True                     1  \n",
       "163123                     True                     3  \n",
       "\n",
       "[163124 rows x 6 columns]"
      ]
     },
     "execution_count": 14,
     "metadata": {},
     "output_type": "execute_result"
    }
   ],
   "source": [
    "misclassified_real_as_junk = cnn_scores_retired[cnn_scores_retired['zoo_classification_real'] & (cnn_scores_retired['prediction'] > 0.5)]\n",
    "misclassified_real_as_junk = misclassified_real_as_junk.merge(classification_counts)\n",
    "misclassified_real_as_junk"
   ]
  },
  {
   "cell_type": "code",
   "execution_count": 15,
   "metadata": {},
   "outputs": [
    {
     "name": "stdout",
     "output_type": "stream",
     "text": [
      "Classification count:  1\n"
     ]
    },
    {
     "data": {
      "text/html": [
       "<img src=\"https://panoptes-uploads.zooniverse.org/subject_location/5018dfbc-4ed0-4abc-8f36-598fe839978d.gif\"/>"
      ],
      "text/plain": [
       "<IPython.core.display.Image object>"
      ]
     },
     "metadata": {},
     "output_type": "display_data"
    },
    {
     "data": {
      "text/html": [
       "<img src=\"https://panoptes-uploads.zooniverse.org/subject_location/779e07b8-d533-452e-b8e8-1946fbc753ce.gif\"/>"
      ],
      "text/plain": [
       "<IPython.core.display.Image object>"
      ]
     },
     "metadata": {},
     "output_type": "display_data"
    },
    {
     "data": {
      "text/html": [
       "<img src=\"https://panoptes-uploads.zooniverse.org/subject_location/fb8a9735-3272-4693-91a1-34c37bdd8fde.gif\"/>"
      ],
      "text/plain": [
       "<IPython.core.display.Image object>"
      ]
     },
     "metadata": {},
     "output_type": "display_data"
    },
    {
     "data": {
      "text/html": [
       "<img src=\"https://panoptes-uploads.zooniverse.org/subject_location/c144752b-5969-4da6-9d64-0cdbba62bc0e.gif\"/>"
      ],
      "text/plain": [
       "<IPython.core.display.Image object>"
      ]
     },
     "metadata": {},
     "output_type": "display_data"
    },
    {
     "data": {
      "text/html": [
       "<img src=\"https://panoptes-uploads.zooniverse.org/subject_location/dac77292-a880-417b-bc47-e09580701d2e.gif\"/>"
      ],
      "text/plain": [
       "<IPython.core.display.Image object>"
      ]
     },
     "metadata": {},
     "output_type": "display_data"
    },
    {
     "data": {
      "text/html": [
       "<img src=\"https://panoptes-uploads.zooniverse.org/subject_location/69b7c605-ba82-4216-9813-d8b3bc550647.gif\"/>"
      ],
      "text/plain": [
       "<IPython.core.display.Image object>"
      ]
     },
     "metadata": {},
     "output_type": "display_data"
    },
    {
     "data": {
      "text/html": [
       "<img src=\"https://panoptes-uploads.zooniverse.org/subject_location/64add07f-d34f-4e67-96f9-e0db842849fb.gif\"/>"
      ],
      "text/plain": [
       "<IPython.core.display.Image object>"
      ]
     },
     "metadata": {},
     "output_type": "display_data"
    },
    {
     "data": {
      "text/html": [
       "<img src=\"https://panoptes-uploads.zooniverse.org/subject_location/ef7e491e-4898-49f2-8389-85d304eb3148.gif\"/>"
      ],
      "text/plain": [
       "<IPython.core.display.Image object>"
      ]
     },
     "metadata": {},
     "output_type": "display_data"
    },
    {
     "data": {
      "text/html": [
       "<img src=\"https://panoptes-uploads.zooniverse.org/subject_location/4b80efee-f2bb-476d-b01b-7acdeaff96be.gif\"/>"
      ],
      "text/plain": [
       "<IPython.core.display.Image object>"
      ]
     },
     "metadata": {},
     "output_type": "display_data"
    },
    {
     "data": {
      "text/html": [
       "<img src=\"https://panoptes-uploads.zooniverse.org/subject_location/a50baba6-548a-48f4-b16a-dd564859792d.gif\"/>"
      ],
      "text/plain": [
       "<IPython.core.display.Image object>"
      ]
     },
     "metadata": {},
     "output_type": "display_data"
    },
    {
     "name": "stdout",
     "output_type": "stream",
     "text": [
      "Classification count:  2\n"
     ]
    },
    {
     "data": {
      "text/html": [
       "<img src=\"https://panoptes-uploads.zooniverse.org/subject_location/6e3a747c-e492-4503-8db2-1c631ac531cf.gif\"/>"
      ],
      "text/plain": [
       "<IPython.core.display.Image object>"
      ]
     },
     "metadata": {},
     "output_type": "display_data"
    },
    {
     "data": {
      "text/html": [
       "<img src=\"https://panoptes-uploads.zooniverse.org/subject_location/51d5b7f1-6126-4003-bfbe-d82a7e897dac.gif\"/>"
      ],
      "text/plain": [
       "<IPython.core.display.Image object>"
      ]
     },
     "metadata": {},
     "output_type": "display_data"
    },
    {
     "data": {
      "text/html": [
       "<img src=\"https://panoptes-uploads.zooniverse.org/subject_location/3a08387b-5d56-4139-8e73-9803e4fa3b2a.gif\"/>"
      ],
      "text/plain": [
       "<IPython.core.display.Image object>"
      ]
     },
     "metadata": {},
     "output_type": "display_data"
    },
    {
     "data": {
      "text/html": [
       "<img src=\"https://panoptes-uploads.zooniverse.org/subject_location/d70e1381-9058-48d2-a6d3-c1644ca7ce3e.gif\"/>"
      ],
      "text/plain": [
       "<IPython.core.display.Image object>"
      ]
     },
     "metadata": {},
     "output_type": "display_data"
    },
    {
     "data": {
      "text/html": [
       "<img src=\"https://panoptes-uploads.zooniverse.org/subject_location/ccd11e0d-7f62-400f-a340-0446cd614340.gif\"/>"
      ],
      "text/plain": [
       "<IPython.core.display.Image object>"
      ]
     },
     "metadata": {},
     "output_type": "display_data"
    },
    {
     "data": {
      "text/html": [
       "<img src=\"https://panoptes-uploads.zooniverse.org/subject_location/5a346749-ca72-4cfa-b871-cc46dbeec168.gif\"/>"
      ],
      "text/plain": [
       "<IPython.core.display.Image object>"
      ]
     },
     "metadata": {},
     "output_type": "display_data"
    },
    {
     "data": {
      "text/html": [
       "<img src=\"https://panoptes-uploads.zooniverse.org/subject_location/eecd1875-17f7-4ab6-a437-6998f64ab41c.gif\"/>"
      ],
      "text/plain": [
       "<IPython.core.display.Image object>"
      ]
     },
     "metadata": {},
     "output_type": "display_data"
    },
    {
     "data": {
      "text/html": [
       "<img src=\"https://panoptes-uploads.zooniverse.org/subject_location/25d78584-09c5-4b62-b74d-791849cece25.gif\"/>"
      ],
      "text/plain": [
       "<IPython.core.display.Image object>"
      ]
     },
     "metadata": {},
     "output_type": "display_data"
    },
    {
     "data": {
      "text/html": [
       "<img src=\"https://panoptes-uploads.zooniverse.org/subject_location/345323b2-5d6a-4c21-b892-22f41ec31a29.gif\"/>"
      ],
      "text/plain": [
       "<IPython.core.display.Image object>"
      ]
     },
     "metadata": {},
     "output_type": "display_data"
    },
    {
     "data": {
      "text/html": [
       "<img src=\"https://panoptes-uploads.zooniverse.org/subject_location/cb97fc46-89a4-4037-a3ae-323b8cedb32f.gif\"/>"
      ],
      "text/plain": [
       "<IPython.core.display.Image object>"
      ]
     },
     "metadata": {},
     "output_type": "display_data"
    },
    {
     "name": "stdout",
     "output_type": "stream",
     "text": [
      "Classification count:  3\n"
     ]
    },
    {
     "data": {
      "text/html": [
       "<img src=\"https://panoptes-uploads.zooniverse.org/subject_location/ea2963e5-1b78-4991-a6b3-83c3a4711bfa.gif\"/>"
      ],
      "text/plain": [
       "<IPython.core.display.Image object>"
      ]
     },
     "metadata": {},
     "output_type": "display_data"
    },
    {
     "data": {
      "text/html": [
       "<img src=\"https://panoptes-uploads.zooniverse.org/subject_location/9513ddbc-50f7-4972-8e08-8f6943e9b6b7.gif\"/>"
      ],
      "text/plain": [
       "<IPython.core.display.Image object>"
      ]
     },
     "metadata": {},
     "output_type": "display_data"
    },
    {
     "data": {
      "text/html": [
       "<img src=\"https://panoptes-uploads.zooniverse.org/subject_location/76212abb-2e02-4c96-badd-0e5a5c3d4cfe.gif\"/>"
      ],
      "text/plain": [
       "<IPython.core.display.Image object>"
      ]
     },
     "metadata": {},
     "output_type": "display_data"
    },
    {
     "data": {
      "text/html": [
       "<img src=\"https://panoptes-uploads.zooniverse.org/subject_location/ca816d25-0254-4b49-b81b-e4ddad720a91.gif\"/>"
      ],
      "text/plain": [
       "<IPython.core.display.Image object>"
      ]
     },
     "metadata": {},
     "output_type": "display_data"
    },
    {
     "data": {
      "text/html": [
       "<img src=\"https://panoptes-uploads.zooniverse.org/subject_location/6c8a6392-b9ae-4fc7-b3fb-8dc841185fff.gif\"/>"
      ],
      "text/plain": [
       "<IPython.core.display.Image object>"
      ]
     },
     "metadata": {},
     "output_type": "display_data"
    },
    {
     "data": {
      "text/html": [
       "<img src=\"https://panoptes-uploads.zooniverse.org/subject_location/fddf5d03-a480-4848-a6c8-f955f2650801.gif\"/>"
      ],
      "text/plain": [
       "<IPython.core.display.Image object>"
      ]
     },
     "metadata": {},
     "output_type": "display_data"
    },
    {
     "data": {
      "text/html": [
       "<img src=\"https://panoptes-uploads.zooniverse.org/subject_location/73010b25-e697-4276-8ce0-5dc9fe2c447a.gif\"/>"
      ],
      "text/plain": [
       "<IPython.core.display.Image object>"
      ]
     },
     "metadata": {},
     "output_type": "display_data"
    },
    {
     "data": {
      "text/html": [
       "<img src=\"https://panoptes-uploads.zooniverse.org/subject_location/5ce3b16c-7e9f-4e04-b9b3-4c48841c2c2b.gif\"/>"
      ],
      "text/plain": [
       "<IPython.core.display.Image object>"
      ]
     },
     "metadata": {},
     "output_type": "display_data"
    },
    {
     "data": {
      "text/html": [
       "<img src=\"https://panoptes-uploads.zooniverse.org/subject_location/01fedab6-15d0-4586-84c0-c8e6c46a94de.gif\"/>"
      ],
      "text/plain": [
       "<IPython.core.display.Image object>"
      ]
     },
     "metadata": {},
     "output_type": "display_data"
    },
    {
     "data": {
      "text/html": [
       "<img src=\"https://panoptes-uploads.zooniverse.org/subject_location/49f790c0-d0a0-41a6-8419-45c1cc606e7d.gif\"/>"
      ],
      "text/plain": [
       "<IPython.core.display.Image object>"
      ]
     },
     "metadata": {},
     "output_type": "display_data"
    }
   ],
   "source": [
    "for classification_count in range(1, 4):\n",
    "    print('Classification count: ', classification_count)\n",
    "    for url in misclassified_real_as_junk[misclassified_real_as_junk['classification_count'] == classification_count].head(10)['location']:\n",
    "        display(Image(url=url))"
   ]
  },
  {
   "cell_type": "markdown",
   "metadata": {},
   "source": [
    "### Distribution of scores for active subjects"
   ]
  },
  {
   "cell_type": "code",
   "execution_count": 16,
   "metadata": {},
   "outputs": [
    {
     "data": {
      "text/plain": [
       "<AxesSubplot:ylabel='Frequency'>"
      ]
     },
     "execution_count": 16,
     "metadata": {},
     "output_type": "execute_result"
    },
    {
     "data": {
      "image/png": "[encoded data removed]",
      "text/plain": [
       "<Figure size 432x288 with 1 Axes>"
      ]
     },
     "metadata": {
      "needs_background": "light"
     },
     "output_type": "display_data"
    }
   ],
   "source": [
    "cnn_scores_active['prediction'].plot.hist()"
   ]
  },
  {
   "cell_type": "markdown",
   "metadata": {},
   "source": [
    "### Sample light curves of active subjects"
   ]
  },
  {
   "cell_type": "code",
   "execution_count": 17,
   "metadata": {},
   "outputs": [],
   "source": [
    "REAL_THRESHOLD = 0.1\n",
    "JUNK_THRESHOLD = 0.9"
   ]
  },
  {
   "cell_type": "markdown",
   "metadata": {},
   "source": [
    "#### Real"
   ]
  },
  {
   "cell_type": "code",
   "execution_count": 18,
   "metadata": {},
   "outputs": [
    {
     "data": {
      "text/plain": [
       "305337"
      ]
     },
     "metadata": {},
     "output_type": "display_data"
    },
    {
     "data": {
      "text/html": [
       "<img src=\"https://panoptes-uploads.zooniverse.org/subject_location/6e49e274-87e4-4c68-9813-56fa75149faf.gif\"/>"
      ],
      "text/plain": [
       "<IPython.core.display.Image object>"
      ]
     },
     "metadata": {},
     "output_type": "display_data"
    },
    {
     "data": {
      "text/html": [
       "<img src=\"https://panoptes-uploads.zooniverse.org/subject_location/7a9b4099-23b5-4ae2-96e5-c23a8551b5b9.gif\"/>"
      ],
      "text/plain": [
       "<IPython.core.display.Image object>"
      ]
     },
     "metadata": {},
     "output_type": "display_data"
    },
    {
     "data": {
      "text/html": [
       "<img src=\"https://panoptes-uploads.zooniverse.org/subject_location/4a4f71d3-846e-477a-a510-694d30a50b68.gif\"/>"
      ],
      "text/plain": [
       "<IPython.core.display.Image object>"
      ]
     },
     "metadata": {},
     "output_type": "display_data"
    },
    {
     "data": {
      "text/html": [
       "<img src=\"https://panoptes-uploads.zooniverse.org/subject_location/be79a551-c208-453f-ae29-dacdffb87cf6.gif\"/>"
      ],
      "text/plain": [
       "<IPython.core.display.Image object>"
      ]
     },
     "metadata": {},
     "output_type": "display_data"
    },
    {
     "data": {
      "text/html": [
       "<img src=\"https://panoptes-uploads.zooniverse.org/subject_location/ac39075e-6d19-4816-8925-ba444a0e9331.gif\"/>"
      ],
      "text/plain": [
       "<IPython.core.display.Image object>"
      ]
     },
     "metadata": {},
     "output_type": "display_data"
    },
    {
     "data": {
      "text/html": [
       "<img src=\"https://panoptes-uploads.zooniverse.org/subject_location/6f8b98ab-ab50-4218-bdc9-7ac495f4b46f.gif\"/>"
      ],
      "text/plain": [
       "<IPython.core.display.Image object>"
      ]
     },
     "metadata": {},
     "output_type": "display_data"
    },
    {
     "data": {
      "text/html": [
       "<img src=\"https://panoptes-uploads.zooniverse.org/subject_location/50a61883-3d88-438c-8ed1-3589e3fcce39.gif\"/>"
      ],
      "text/plain": [
       "<IPython.core.display.Image object>"
      ]
     },
     "metadata": {},
     "output_type": "display_data"
    },
    {
     "data": {
      "text/html": [
       "<img src=\"https://panoptes-uploads.zooniverse.org/subject_location/5ed7725d-24bf-4c4a-b360-e783a5c51c58.gif\"/>"
      ],
      "text/plain": [
       "<IPython.core.display.Image object>"
      ]
     },
     "metadata": {},
     "output_type": "display_data"
    },
    {
     "data": {
      "text/html": [
       "<img src=\"https://panoptes-uploads.zooniverse.org/subject_location/d1a54ad7-ada0-4b33-b0e7-e34e13eaefcf.gif\"/>"
      ],
      "text/plain": [
       "<IPython.core.display.Image object>"
      ]
     },
     "metadata": {},
     "output_type": "display_data"
    },
    {
     "data": {
      "text/html": [
       "<img src=\"https://panoptes-uploads.zooniverse.org/subject_location/fdb55e78-f09d-4bd5-8940-e017af8c102b.gif\"/>"
      ],
      "text/plain": [
       "<IPython.core.display.Image object>"
      ]
     },
     "metadata": {},
     "output_type": "display_data"
    }
   ],
   "source": [
    "active_real = cnn_scores_active[cnn_scores_active['prediction'] < REAL_THRESHOLD]\n",
    "display(len(active_real))\n",
    "for url in active_real.head(10)['location']:\n",
    "    display(Image(url=url))"
   ]
  },
  {
   "cell_type": "markdown",
   "metadata": {},
   "source": [
    "#### Junk"
   ]
  },
  {
   "cell_type": "code",
   "execution_count": 19,
   "metadata": {},
   "outputs": [
    {
     "data": {
      "text/plain": [
       "252613"
      ]
     },
     "metadata": {},
     "output_type": "display_data"
    },
    {
     "data": {
      "text/html": [
       "<img src=\"https://panoptes-uploads.zooniverse.org/subject_location/b272f5c7-e8ea-41b6-9bb7-d3ff4f33d837.gif\"/>"
      ],
      "text/plain": [
       "<IPython.core.display.Image object>"
      ]
     },
     "metadata": {},
     "output_type": "display_data"
    },
    {
     "data": {
      "text/html": [
       "<img src=\"https://panoptes-uploads.zooniverse.org/subject_location/b5a3a282-16fb-4d18-b135-fd774f9d11ef.gif\"/>"
      ],
      "text/plain": [
       "<IPython.core.display.Image object>"
      ]
     },
     "metadata": {},
     "output_type": "display_data"
    },
    {
     "data": {
      "text/html": [
       "<img src=\"https://panoptes-uploads.zooniverse.org/subject_location/c98597bd-d34c-4c6e-89f4-e5ab0463a8cd.gif\"/>"
      ],
      "text/plain": [
       "<IPython.core.display.Image object>"
      ]
     },
     "metadata": {},
     "output_type": "display_data"
    },
    {
     "data": {
      "text/html": [
       "<img src=\"https://panoptes-uploads.zooniverse.org/subject_location/7cef315a-2e09-4cf8-a88e-d4dbe504354e.gif\"/>"
      ],
      "text/plain": [
       "<IPython.core.display.Image object>"
      ]
     },
     "metadata": {},
     "output_type": "display_data"
    },
    {
     "data": {
      "text/html": [
       "<img src=\"https://panoptes-uploads.zooniverse.org/subject_location/f53d026c-6df8-41b8-8161-3dbd93c97508.gif\"/>"
      ],
      "text/plain": [
       "<IPython.core.display.Image object>"
      ]
     },
     "metadata": {},
     "output_type": "display_data"
    },
    {
     "data": {
      "text/html": [
       "<img src=\"https://panoptes-uploads.zooniverse.org/subject_location/66fdb063-5fe1-48ef-a3c7-870307d4b9c0.gif\"/>"
      ],
      "text/plain": [
       "<IPython.core.display.Image object>"
      ]
     },
     "metadata": {},
     "output_type": "display_data"
    },
    {
     "data": {
      "text/html": [
       "<img src=\"https://panoptes-uploads.zooniverse.org/subject_location/7a69b05a-a0b5-4a9c-8da4-9d734bc69243.gif\"/>"
      ],
      "text/plain": [
       "<IPython.core.display.Image object>"
      ]
     },
     "metadata": {},
     "output_type": "display_data"
    },
    {
     "data": {
      "text/html": [
       "<img src=\"https://panoptes-uploads.zooniverse.org/subject_location/4298c8f3-56f0-4fa5-a47c-784898dadeeb.gif\"/>"
      ],
      "text/plain": [
       "<IPython.core.display.Image object>"
      ]
     },
     "metadata": {},
     "output_type": "display_data"
    },
    {
     "data": {
      "text/html": [
       "<img src=\"https://panoptes-uploads.zooniverse.org/subject_location/f02afb3a-b264-4e0a-ae8b-8ca140cc1152.gif\"/>"
      ],
      "text/plain": [
       "<IPython.core.display.Image object>"
      ]
     },
     "metadata": {},
     "output_type": "display_data"
    },
    {
     "data": {
      "text/html": [
       "<img src=\"https://panoptes-uploads.zooniverse.org/subject_location/f6eaaed6-54a9-4e88-9183-6f6a05159d77.gif\"/>"
      ],
      "text/plain": [
       "<IPython.core.display.Image object>"
      ]
     },
     "metadata": {},
     "output_type": "display_data"
    }
   ],
   "source": [
    "active_junk = cnn_scores_active[cnn_scores_active['prediction'] >= JUNK_THRESHOLD]\n",
    "display(len(active_junk))\n",
    "for url in active_junk.head(10)['location']:\n",
    "    display(Image(url=url))"
   ]
  },
  {
   "cell_type": "markdown",
   "metadata": {},
   "source": [
    "#### In the middle"
   ]
  },
  {
   "cell_type": "code",
   "execution_count": 20,
   "metadata": {},
   "outputs": [
    {
     "data": {
      "text/plain": [
       "59128"
      ]
     },
     "metadata": {},
     "output_type": "display_data"
    },
    {
     "data": {
      "text/html": [
       "<img src=\"https://panoptes-uploads.zooniverse.org/subject_location/fbd01b85-e007-4c6e-92e8-ef49ac488625.gif\"/>"
      ],
      "text/plain": [
       "<IPython.core.display.Image object>"
      ]
     },
     "metadata": {},
     "output_type": "display_data"
    },
    {
     "data": {
      "text/html": [
       "<img src=\"https://panoptes-uploads.zooniverse.org/subject_location/2f7b19b2-d7ee-4c5e-8da4-fcfe64bfb4e4.gif\"/>"
      ],
      "text/plain": [
       "<IPython.core.display.Image object>"
      ]
     },
     "metadata": {},
     "output_type": "display_data"
    },
    {
     "data": {
      "text/html": [
       "<img src=\"https://panoptes-uploads.zooniverse.org/subject_location/ecd7b73b-ad3d-40c3-8b4e-34b862380884.gif\"/>"
      ],
      "text/plain": [
       "<IPython.core.display.Image object>"
      ]
     },
     "metadata": {},
     "output_type": "display_data"
    },
    {
     "data": {
      "text/html": [
       "<img src=\"https://panoptes-uploads.zooniverse.org/subject_location/b1d1a791-1e87-4586-816f-cfd5fa4962e7.gif\"/>"
      ],
      "text/plain": [
       "<IPython.core.display.Image object>"
      ]
     },
     "metadata": {},
     "output_type": "display_data"
    },
    {
     "data": {
      "text/html": [
       "<img src=\"https://panoptes-uploads.zooniverse.org/subject_location/f6177c9c-1720-41f7-8cea-6afc734e11cb.gif\"/>"
      ],
      "text/plain": [
       "<IPython.core.display.Image object>"
      ]
     },
     "metadata": {},
     "output_type": "display_data"
    },
    {
     "data": {
      "text/html": [
       "<img src=\"https://panoptes-uploads.zooniverse.org/subject_location/ae0d922a-a1c5-4a84-b3a0-51685083bd3d.gif\"/>"
      ],
      "text/plain": [
       "<IPython.core.display.Image object>"
      ]
     },
     "metadata": {},
     "output_type": "display_data"
    },
    {
     "data": {
      "text/html": [
       "<img src=\"https://panoptes-uploads.zooniverse.org/subject_location/334097fe-e2ea-4bcf-b6cf-d5e05cc0903b.gif\"/>"
      ],
      "text/plain": [
       "<IPython.core.display.Image object>"
      ]
     },
     "metadata": {},
     "output_type": "display_data"
    },
    {
     "data": {
      "text/html": [
       "<img src=\"https://panoptes-uploads.zooniverse.org/subject_location/a4d40eab-c30d-45ba-9cfa-40772c754102.gif\"/>"
      ],
      "text/plain": [
       "<IPython.core.display.Image object>"
      ]
     },
     "metadata": {},
     "output_type": "display_data"
    },
    {
     "data": {
      "text/html": [
       "<img src=\"https://panoptes-uploads.zooniverse.org/subject_location/a89b522d-717b-489b-8bdf-bdb53f651df9.gif\"/>"
      ],
      "text/plain": [
       "<IPython.core.display.Image object>"
      ]
     },
     "metadata": {},
     "output_type": "display_data"
    },
    {
     "data": {
      "text/html": [
       "<img src=\"https://panoptes-uploads.zooniverse.org/subject_location/719a7606-0c23-4973-9716-3be7931d09aa.gif\"/>"
      ],
      "text/plain": [
       "<IPython.core.display.Image object>"
      ]
     },
     "metadata": {},
     "output_type": "display_data"
    }
   ],
   "source": [
    "active_middle = cnn_scores_active[(cnn_scores_active['prediction'] >= REAL_THRESHOLD) & (cnn_scores_active['prediction'] < JUNK_THRESHOLD)]\n",
    "display(len(active_middle))\n",
    "for url in active_middle.head(10)['location']:\n",
    "    display(Image(url=url))"
   ]
  }
 ],
 "metadata": {
  "kernelspec": {
   "display_name": "Python 3 (ipykernel)",
   "language": "python",
   "name": "python3"
  },
  "language_info": {
   "codemirror_mode": {
    "name": "ipython",
    "version": 3
   },
   "file_extension": ".py",
   "mimetype": "text/x-python",
   "name": "python",
   "nbconvert_exporter": "python",
   "pygments_lexer": "ipython3",
   "version": "3.8.5"
  }
 },
 "nbformat": 4,
 "nbformat_minor": 2
}
