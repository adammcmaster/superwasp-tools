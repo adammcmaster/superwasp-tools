{
 "cells": [
  {
   "cell_type": "code",
   "execution_count": null,
   "metadata": {},
   "outputs": [],
   "source": [
    "import pandas\n",
    "\n",
    "import seaborn\n",
    "from matplotlib import pyplot\n",
    "from IPython.display import Image, display\n",
    "\n",
    "from pathlib import Path\n",
    "\n",
    "import json"
   ]
  },
  {
   "cell_type": "code",
   "execution_count": null,
   "metadata": {},
   "outputs": [],
   "source": [
    "FILTERED_REAL_SET = 91123\n",
    "FILTERING_WORKFLOW = 17313 \n",
    "DATA_LOCATION = Path('../../superwasp-data/')"
   ]
  },
  {
   "cell_type": "markdown",
   "metadata": {},
   "source": [
    "## Merge subject metadata with CNN scores"
   ]
  },
  {
   "cell_type": "code",
   "execution_count": null,
   "metadata": {},
   "outputs": [],
   "source": [
    "zoo_lookup = pandas.read_csv(\n",
    "    DATA_LOCATION / 'lookup.dat',\n",
    "    delim_whitespace=True,\n",
    "    header=None,\n",
    ")\n",
    "zoo_lookup.columns = [\n",
    "    'subject_id',\n",
    "    'SWASP ID',\n",
    "    'Period',\n",
    "    'Period Number',\n",
    "]"
   ]
  },
  {
   "cell_type": "code",
   "execution_count": null,
   "metadata": {},
   "outputs": [
    {
     "data": {
      "text/html": [
       "<div>\n",
       "<style scoped>\n",
       "    .dataframe tbody tr th:only-of-type {\n",
       "        vertical-align: middle;\n",
       "    }\n",
       "\n",
       "    .dataframe tbody tr th {\n",
       "        vertical-align: top;\n",
       "    }\n",
       "\n",
       "    .dataframe thead th {\n",
       "        text-align: right;\n",
       "    }\n",
       "</style>\n",
       "<table border=\"1\" class=\"dataframe\">\n",
       "  <thead>\n",
       "    <tr style=\"text-align: right;\">\n",
       "      <th></th>\n",
       "      <th>subject_id</th>\n",
       "      <th>subject_set_id</th>\n",
       "      <th>workflow_id</th>\n",
       "      <th>retired_at</th>\n",
       "      <th>location</th>\n",
       "      <th>SWASP ID</th>\n",
       "      <th>Period</th>\n",
       "      <th>Period Number</th>\n",
       "      <th>file</th>\n",
       "    </tr>\n",
       "  </thead>\n",
       "  <tbody>\n",
       "    <tr>\n",
       "      <th>0</th>\n",
       "      <td>21803097</td>\n",
       "      <td>25294</td>\n",
       "      <td>NaN</td>\n",
       "      <td>NaN</td>\n",
       "      <td>https://panoptes-uploads.zooniverse.org/subjec...</td>\n",
       "      <td>1SWASPJ235711.82+203913.7</td>\n",
       "      <td>1039108.812</td>\n",
       "      <td>1</td>\n",
       "      <td>1SWASPJ235711.82+203913.7_P1_fold.gif</td>\n",
       "    </tr>\n",
       "    <tr>\n",
       "      <th>1</th>\n",
       "      <td>21803099</td>\n",
       "      <td>25294</td>\n",
       "      <td>NaN</td>\n",
       "      <td>NaN</td>\n",
       "      <td>https://panoptes-uploads.zooniverse.org/subjec...</td>\n",
       "      <td>1SWASPJ235711.86-443012.2</td>\n",
       "      <td>8565206.000</td>\n",
       "      <td>1</td>\n",
       "      <td>1SWASPJ235711.86-443012.2_P1_fold.gif</td>\n",
       "    </tr>\n",
       "    <tr>\n",
       "      <th>2</th>\n",
       "      <td>21803099</td>\n",
       "      <td>99480</td>\n",
       "      <td>17313.0</td>\n",
       "      <td>2022-03-03 18:29:16 UTC</td>\n",
       "      <td>https://panoptes-uploads.zooniverse.org/subjec...</td>\n",
       "      <td>1SWASPJ235711.86-443012.2</td>\n",
       "      <td>8565206.000</td>\n",
       "      <td>1</td>\n",
       "      <td>1SWASPJ235711.86-443012.2_P1_fold.gif</td>\n",
       "    </tr>\n",
       "    <tr>\n",
       "      <th>3</th>\n",
       "      <td>21803102</td>\n",
       "      <td>25294</td>\n",
       "      <td>NaN</td>\n",
       "      <td>NaN</td>\n",
       "      <td>https://panoptes-uploads.zooniverse.org/subjec...</td>\n",
       "      <td>1SWASPJ235712.73+560850.9</td>\n",
       "      <td>427987.000</td>\n",
       "      <td>1</td>\n",
       "      <td>1SWASPJ235712.73+560850.9_P1_fold.gif</td>\n",
       "    </tr>\n",
       "    <tr>\n",
       "      <th>4</th>\n",
       "      <td>21803103</td>\n",
       "      <td>25294</td>\n",
       "      <td>NaN</td>\n",
       "      <td>NaN</td>\n",
       "      <td>https://panoptes-uploads.zooniverse.org/subjec...</td>\n",
       "      <td>1SWASPJ235712.73+560850.9</td>\n",
       "      <td>325253.969</td>\n",
       "      <td>3</td>\n",
       "      <td>1SWASPJ235712.73+560850.9_P3_fold.gif</td>\n",
       "    </tr>\n",
       "    <tr>\n",
       "      <th>...</th>\n",
       "      <td>...</td>\n",
       "      <td>...</td>\n",
       "      <td>...</td>\n",
       "      <td>...</td>\n",
       "      <td>...</td>\n",
       "      <td>...</td>\n",
       "      <td>...</td>\n",
       "      <td>...</td>\n",
       "      <td>...</td>\n",
       "    </tr>\n",
       "    <tr>\n",
       "      <th>3413055</th>\n",
       "      <td>27472158</td>\n",
       "      <td>61241</td>\n",
       "      <td>NaN</td>\n",
       "      <td>NaN</td>\n",
       "      <td>https://panoptes-uploads.zooniverse.org/subjec...</td>\n",
       "      <td>1SWASPJ235711.12+554414.6</td>\n",
       "      <td>275688.125</td>\n",
       "      <td>1</td>\n",
       "      <td>1SWASPJ235711.12+554414.6_P1_fold.gif</td>\n",
       "    </tr>\n",
       "    <tr>\n",
       "      <th>3413056</th>\n",
       "      <td>27472159</td>\n",
       "      <td>61241</td>\n",
       "      <td>NaN</td>\n",
       "      <td>NaN</td>\n",
       "      <td>https://panoptes-uploads.zooniverse.org/subjec...</td>\n",
       "      <td>1SWASPJ235711.21-644054.6</td>\n",
       "      <td>9000393.000</td>\n",
       "      <td>1</td>\n",
       "      <td>1SWASPJ235711.21-644054.6_P1_fold.gif</td>\n",
       "    </tr>\n",
       "    <tr>\n",
       "      <th>3413057</th>\n",
       "      <td>27472159</td>\n",
       "      <td>99480</td>\n",
       "      <td>17313.0</td>\n",
       "      <td>2022-04-06 11:58:06 UTC</td>\n",
       "      <td>https://panoptes-uploads.zooniverse.org/subjec...</td>\n",
       "      <td>1SWASPJ235711.21-644054.6</td>\n",
       "      <td>9000393.000</td>\n",
       "      <td>1</td>\n",
       "      <td>1SWASPJ235711.21-644054.6_P1_fold.gif</td>\n",
       "    </tr>\n",
       "    <tr>\n",
       "      <th>3413058</th>\n",
       "      <td>27472160</td>\n",
       "      <td>61241</td>\n",
       "      <td>NaN</td>\n",
       "      <td>NaN</td>\n",
       "      <td>https://panoptes-uploads.zooniverse.org/subjec...</td>\n",
       "      <td>1SWASPJ235711.22-644053.9</td>\n",
       "      <td>9002109.000</td>\n",
       "      <td>1</td>\n",
       "      <td>1SWASPJ235711.22-644053.9_P1_fold.gif</td>\n",
       "    </tr>\n",
       "    <tr>\n",
       "      <th>3413059</th>\n",
       "      <td>27472160</td>\n",
       "      <td>99480</td>\n",
       "      <td>17313.0</td>\n",
       "      <td>2022-02-25 15:08:48 UTC</td>\n",
       "      <td>https://panoptes-uploads.zooniverse.org/subjec...</td>\n",
       "      <td>1SWASPJ235711.22-644053.9</td>\n",
       "      <td>9002109.000</td>\n",
       "      <td>1</td>\n",
       "      <td>1SWASPJ235711.22-644053.9_P1_fold.gif</td>\n",
       "    </tr>\n",
       "  </tbody>\n",
       "</table>\n",
       "<p>3413060 rows × 9 columns</p>\n",
       "</div>"
      ],
      "text/plain": [
       "         subject_id  subject_set_id  workflow_id               retired_at  \\\n",
       "0          21803097           25294          NaN                      NaN   \n",
       "1          21803099           25294          NaN                      NaN   \n",
       "2          21803099           99480      17313.0  2022-03-03 18:29:16 UTC   \n",
       "3          21803102           25294          NaN                      NaN   \n",
       "4          21803103           25294          NaN                      NaN   \n",
       "...             ...             ...          ...                      ...   \n",
       "3413055    27472158           61241          NaN                      NaN   \n",
       "3413056    27472159           61241          NaN                      NaN   \n",
       "3413057    27472159           99480      17313.0  2022-04-06 11:58:06 UTC   \n",
       "3413058    27472160           61241          NaN                      NaN   \n",
       "3413059    27472160           99480      17313.0  2022-02-25 15:08:48 UTC   \n",
       "\n",
       "                                                  location  \\\n",
       "0        https://panoptes-uploads.zooniverse.org/subjec...   \n",
       "1        https://panoptes-uploads.zooniverse.org/subjec...   \n",
       "2        https://panoptes-uploads.zooniverse.org/subjec...   \n",
       "3        https://panoptes-uploads.zooniverse.org/subjec...   \n",
       "4        https://panoptes-uploads.zooniverse.org/subjec...   \n",
       "...                                                    ...   \n",
       "3413055  https://panoptes-uploads.zooniverse.org/subjec...   \n",
       "3413056  https://panoptes-uploads.zooniverse.org/subjec...   \n",
       "3413057  https://panoptes-uploads.zooniverse.org/subjec...   \n",
       "3413058  https://panoptes-uploads.zooniverse.org/subjec...   \n",
       "3413059  https://panoptes-uploads.zooniverse.org/subjec...   \n",
       "\n",
       "                          SWASP ID       Period  Period Number  \\\n",
       "0        1SWASPJ235711.82+203913.7  1039108.812              1   \n",
       "1        1SWASPJ235711.86-443012.2  8565206.000              1   \n",
       "2        1SWASPJ235711.86-443012.2  8565206.000              1   \n",
       "3        1SWASPJ235712.73+560850.9   427987.000              1   \n",
       "4        1SWASPJ235712.73+560850.9   325253.969              3   \n",
       "...                            ...          ...            ...   \n",
       "3413055  1SWASPJ235711.12+554414.6   275688.125              1   \n",
       "3413056  1SWASPJ235711.21-644054.6  9000393.000              1   \n",
       "3413057  1SWASPJ235711.21-644054.6  9000393.000              1   \n",
       "3413058  1SWASPJ235711.22-644053.9  9002109.000              1   \n",
       "3413059  1SWASPJ235711.22-644053.9  9002109.000              1   \n",
       "\n",
       "                                          file  \n",
       "0        1SWASPJ235711.82+203913.7_P1_fold.gif  \n",
       "1        1SWASPJ235711.86-443012.2_P1_fold.gif  \n",
       "2        1SWASPJ235711.86-443012.2_P1_fold.gif  \n",
       "3        1SWASPJ235712.73+560850.9_P1_fold.gif  \n",
       "4        1SWASPJ235712.73+560850.9_P3_fold.gif  \n",
       "...                                        ...  \n",
       "3413055  1SWASPJ235711.12+554414.6_P1_fold.gif  \n",
       "3413056  1SWASPJ235711.21-644054.6_P1_fold.gif  \n",
       "3413057  1SWASPJ235711.21-644054.6_P1_fold.gif  \n",
       "3413058  1SWASPJ235711.22-644053.9_P1_fold.gif  \n",
       "3413059  1SWASPJ235711.22-644053.9_P1_fold.gif  \n",
       "\n",
       "[3413060 rows x 9 columns]"
      ]
     },
     "execution_count": 4,
     "metadata": {},
     "output_type": "execute_result"
    }
   ],
   "source": [
    "zoo_subjects = pandas.read_csv(\n",
    "    DATA_LOCATION / 'superwasp-variable-stars-subjects.csv',\n",
    ")\n",
    "zoo_subjects = zoo_subjects[['subject_id', 'subject_set_id', 'workflow_id', 'retired_at', 'locations']]\n",
    "zoo_subjects = zoo_subjects.merge(zoo_lookup)\n",
    "zoo_subjects['file'] = zoo_subjects.apply(lambda r: f\"{r['SWASP ID']}_P{r['Period Number']}_fold.gif\", axis=1)\n",
    "zoo_subjects['locations'] = zoo_subjects.apply(lambda r: list(json.loads(r['locations']).values())[0], axis=1)\n",
    "zoo_subjects.rename({'locations': 'location'}, axis=1, inplace=True)\n",
    "zoo_subjects"
   ]
  },
  {
   "cell_type": "code",
   "execution_count": null,
   "metadata": {},
   "outputs": [],
   "source": [
    "filtering_workflow = zoo_subjects[(zoo_subjects['workflow_id'] == FILTERING_WORKFLOW) & zoo_subjects['retired_at'].notna()]\n",
    "filtered_real_subjects = zoo_subjects[zoo_subjects['subject_set_id'] == FILTERED_REAL_SET]"
   ]
  },
  {
   "cell_type": "code",
   "execution_count": null,
   "metadata": {},
   "outputs": [],
   "source": [
    "cnn_scores = pandas.read_csv(DATA_LOCATION / 'svs-junk-predictions.csv', header=0, names=['file', 'prediction'])\n",
    "cnn_scores = cnn_scores.merge(filtering_workflow)\n",
    "cnn_scores['zoo_classification_real'] = cnn_scores['subject_id'].isin(filtered_real_subjects['subject_id'])\n",
    "cnn_scores = cnn_scores[['file', 'subject_id', 'prediction', 'zoo_classification_real', 'location']]"
   ]
  },
  {
   "cell_type": "markdown",
   "metadata": {},
   "source": [
    "## Plot distribution of scores vs human classifications"
   ]
  },
  {
   "cell_type": "code",
   "execution_count": null,
   "metadata": {},
   "outputs": [
    {
     "data": {
      "text/plain": [
       "<AxesSubplot:xlabel='zoo_classification_real', ylabel='prediction'>"
      ]
     },
     "execution_count": 7,
     "metadata": {},
     "output_type": "execute_result"
    },
    {
     "data": {
      "image/png": "[encoded data removed]",
      "text/plain": [
       "<Figure size 432x288 with 1 Axes>"
      ]
     },
     "metadata": {
      "needs_background": "light"
     },
     "output_type": "display_data"
    }
   ],
   "source": [
    "seaborn.boxplot(data=cnn_scores, x='zoo_classification_real', y='prediction')"
   ]
  },
  {
   "cell_type": "code",
   "execution_count": null,
   "metadata": {},
   "outputs": [
    {
     "data": {
      "text/plain": [
       "<AxesSubplot:ylabel='Frequency'>"
      ]
     },
     "execution_count": 8,
     "metadata": {},
     "output_type": "execute_result"
    },
    {
     "data": {
      "image/png": "[encoded data removed]",
      "text/plain": [
       "<Figure size 432x288 with 1 Axes>"
      ]
     },
     "metadata": {
      "needs_background": "light"
     },
     "output_type": "display_data"
    }
   ],
   "source": [
    "cnn_scores[cnn_scores['zoo_classification_real']]['prediction'].plot.hist()"
   ]
  },
  {
   "cell_type": "code",
   "execution_count": null,
   "metadata": {},
   "outputs": [
    {
     "data": {
      "text/plain": [
       "<AxesSubplot:ylabel='Frequency'>"
      ]
     },
     "execution_count": 9,
     "metadata": {},
     "output_type": "execute_result"
    },
    {
     "data": {
      "image/png": "[encoded data removed]",
      "text/plain": [
       "<Figure size 432x288 with 1 Axes>"
      ]
     },
     "metadata": {
      "needs_background": "light"
     },
     "output_type": "display_data"
    }
   ],
   "source": [
    "cnn_scores[~cnn_scores['zoo_classification_real']]['prediction'].plot.hist()"
   ]
  },
  {
   "cell_type": "markdown",
   "metadata": {},
   "source": [
    "## Count classifications"
   ]
  },
  {
   "cell_type": "code",
   "execution_count": null,
   "metadata": {},
   "outputs": [
    {
     "name": "stderr",
     "output_type": "stream",
     "text": [
      "c:\\Users\\anm83\\Anaconda3\\lib\\site-packages\\IPython\\core\\interactiveshell.py:3457: DtypeWarning: Columns (8,9) have mixed types.Specify dtype option on import or set low_memory=False.\n",
      "  exec(code_obj, self.user_global_ns, self.user_ns)\n"
     ]
    }
   ],
   "source": [
    "zoo_classifications = pandas.read_csv(\n",
    "    DATA_LOCATION / 'superwasp-variable-stars-classifications.csv',\n",
    ")\n",
    "zoo_classifications.rename({'subject_ids': 'subject_id'}, axis=1, inplace=True)"
   ]
  },
  {
   "cell_type": "code",
   "execution_count": null,
   "metadata": {},
   "outputs": [],
   "source": [
    "misclassified_subject_classifications = zoo_classifications[\n",
    "    (zoo_classifications['workflow_id'] == FILTERING_WORKFLOW)\n",
    "]"
   ]
  },
  {
   "cell_type": "code",
   "execution_count": null,
   "metadata": {},
   "outputs": [],
   "source": [
    "classification_counts = pandas.pivot_table(\n",
    "    misclassified_subject_classifications[misclassified_subject_classifications['subject_id'].isin(misclassified_real_as_junk['subject_id'])],\n",
    "    values='classification_id',\n",
    "    aggfunc=len,\n",
    "    index='subject_id',\n",
    ")\n",
    "classification_counts.rename({'classification_id': 'classification_count'}, axis=1, inplace=True)\n",
    "classification_counts"
   ]
  },
  {
   "cell_type": "code",
   "execution_count": null,
   "metadata": {},
   "outputs": [
    {
     "data": {
      "text/plain": [
       "<AxesSubplot:ylabel='Frequency'>"
      ]
     },
     "execution_count": 36,
     "metadata": {},
     "output_type": "execute_result"
    },
    {
     "data": {
      "image/png": "[encoded data removed]",
      "text/plain": [
       "<Figure size 432x288 with 1 Axes>"
      ]
     },
     "metadata": {
      "needs_background": "light"
     },
     "output_type": "display_data"
    }
   ],
   "source": [
    "classification_counts['classification_count'].plot.hist(logy=True, bins=max(classification_counts['classification_count']))"
   ]
  },
  {
   "cell_type": "markdown",
   "metadata": {},
   "source": [
    "# Plot sample of misclassified subjects"
   ]
  },
  {
   "cell_type": "code",
   "execution_count": null,
   "metadata": {},
   "outputs": [],
   "source": [
    "misclassified_real_as_junk = cnn_scores[cnn_scores['zoo_classification_real'] & (cnn_scores['prediction'] > 0.5)]\n",
    "misclassified_real_as_junk = misclassified_real_as_junk.merge(classification_counts)\n"
   ]
  },
  {
   "cell_type": "code",
   "execution_count": null,
   "metadata": {},
   "outputs": [],
   "source": [
    "for url in misclassified_real_as_junk.head(10)['location']:\n",
    "    display(Image(url=url))"
   ]
  }
 ],
 "metadata": {
  "kernelspec": {
   "display_name": "Python 3 (ipykernel)",
   "language": "python",
   "name": "python3"
  },
  "language_info": {
   "codemirror_mode": {
    "name": "ipython",
    "version": 3
   },
   "file_extension": ".py",
   "mimetype": "text/x-python",
   "name": "python",
   "nbconvert_exporter": "python",
   "pygments_lexer": "ipython3",
   "version": "3.8.5"
  }
 },
 "nbformat": 4,
 "nbformat_minor": 2
}
