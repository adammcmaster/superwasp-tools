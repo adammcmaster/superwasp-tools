{
 "cells": [
  {
   "cell_type": "code",
   "execution_count": 1,
   "metadata": {},
   "outputs": [],
   "source": [
    "import pandas\n",
    "\n",
    "import seaborn\n",
    "from matplotlib import pyplot\n",
    "from IPython.display import Image, display\n",
    "\n",
    "from pathlib import Path\n",
    "\n",
    "import json"
   ]
  },
  {
   "cell_type": "code",
   "execution_count": 2,
   "metadata": {},
   "outputs": [],
   "source": [
    "FILTERED_REAL_SET = 91123\n",
    "FILTERING_WORKFLOW = 17313 \n",
    "DATA_LOCATION = Path('../../superwasp-data/')"
   ]
  },
  {
   "cell_type": "markdown",
   "metadata": {},
   "source": [
    "## Merge subject metadata with CNN scores"
   ]
  },
  {
   "cell_type": "code",
   "execution_count": 3,
   "metadata": {},
   "outputs": [
    {
     "data": {
      "text/html": [
       "<div>\n",
       "<style scoped>\n",
       "    .dataframe tbody tr th:only-of-type {\n",
       "        vertical-align: middle;\n",
       "    }\n",
       "\n",
       "    .dataframe tbody tr th {\n",
       "        vertical-align: top;\n",
       "    }\n",
       "\n",
       "    .dataframe thead th {\n",
       "        text-align: right;\n",
       "    }\n",
       "</style>\n",
       "<table border=\"1\" class=\"dataframe\">\n",
       "  <thead>\n",
       "    <tr style=\"text-align: right;\">\n",
       "      <th></th>\n",
       "      <th>subject_id</th>\n",
       "      <th>subject_set_id</th>\n",
       "      <th>workflow_id</th>\n",
       "      <th>retired_at</th>\n",
       "      <th>location</th>\n",
       "      <th>SWASP ID</th>\n",
       "      <th>Period</th>\n",
       "      <th>Period Number</th>\n",
       "      <th>file</th>\n",
       "    </tr>\n",
       "  </thead>\n",
       "  <tbody>\n",
       "    <tr>\n",
       "      <th>0</th>\n",
       "      <td>21803097</td>\n",
       "      <td>25294</td>\n",
       "      <td>NaN</td>\n",
       "      <td>NaT</td>\n",
       "      <td>https://panoptes-uploads.zooniverse.org/subjec...</td>\n",
       "      <td>1SWASPJ235711.82+203913.7</td>\n",
       "      <td>1039108.812</td>\n",
       "      <td>1</td>\n",
       "      <td>1SWASPJ235711.82+203913.7_P1_fold.gif</td>\n",
       "    </tr>\n",
       "    <tr>\n",
       "      <th>1</th>\n",
       "      <td>21803099</td>\n",
       "      <td>25294</td>\n",
       "      <td>NaN</td>\n",
       "      <td>NaT</td>\n",
       "      <td>https://panoptes-uploads.zooniverse.org/subjec...</td>\n",
       "      <td>1SWASPJ235711.86-443012.2</td>\n",
       "      <td>8565206.000</td>\n",
       "      <td>1</td>\n",
       "      <td>1SWASPJ235711.86-443012.2_P1_fold.gif</td>\n",
       "    </tr>\n",
       "    <tr>\n",
       "      <th>2</th>\n",
       "      <td>21803099</td>\n",
       "      <td>99480</td>\n",
       "      <td>17313.0</td>\n",
       "      <td>2022-03-03 18:29:16+00:00</td>\n",
       "      <td>https://panoptes-uploads.zooniverse.org/subjec...</td>\n",
       "      <td>1SWASPJ235711.86-443012.2</td>\n",
       "      <td>8565206.000</td>\n",
       "      <td>1</td>\n",
       "      <td>1SWASPJ235711.86-443012.2_P1_fold.gif</td>\n",
       "    </tr>\n",
       "    <tr>\n",
       "      <th>3</th>\n",
       "      <td>21803102</td>\n",
       "      <td>25294</td>\n",
       "      <td>NaN</td>\n",
       "      <td>NaT</td>\n",
       "      <td>https://panoptes-uploads.zooniverse.org/subjec...</td>\n",
       "      <td>1SWASPJ235712.73+560850.9</td>\n",
       "      <td>427987.000</td>\n",
       "      <td>1</td>\n",
       "      <td>1SWASPJ235712.73+560850.9_P1_fold.gif</td>\n",
       "    </tr>\n",
       "    <tr>\n",
       "      <th>4</th>\n",
       "      <td>21803103</td>\n",
       "      <td>25294</td>\n",
       "      <td>NaN</td>\n",
       "      <td>NaT</td>\n",
       "      <td>https://panoptes-uploads.zooniverse.org/subjec...</td>\n",
       "      <td>1SWASPJ235712.73+560850.9</td>\n",
       "      <td>325253.969</td>\n",
       "      <td>3</td>\n",
       "      <td>1SWASPJ235712.73+560850.9_P3_fold.gif</td>\n",
       "    </tr>\n",
       "    <tr>\n",
       "      <th>...</th>\n",
       "      <td>...</td>\n",
       "      <td>...</td>\n",
       "      <td>...</td>\n",
       "      <td>...</td>\n",
       "      <td>...</td>\n",
       "      <td>...</td>\n",
       "      <td>...</td>\n",
       "      <td>...</td>\n",
       "      <td>...</td>\n",
       "    </tr>\n",
       "    <tr>\n",
       "      <th>3413055</th>\n",
       "      <td>27472158</td>\n",
       "      <td>61241</td>\n",
       "      <td>NaN</td>\n",
       "      <td>NaT</td>\n",
       "      <td>https://panoptes-uploads.zooniverse.org/subjec...</td>\n",
       "      <td>1SWASPJ235711.12+554414.6</td>\n",
       "      <td>275688.125</td>\n",
       "      <td>1</td>\n",
       "      <td>1SWASPJ235711.12+554414.6_P1_fold.gif</td>\n",
       "    </tr>\n",
       "    <tr>\n",
       "      <th>3413056</th>\n",
       "      <td>27472159</td>\n",
       "      <td>61241</td>\n",
       "      <td>NaN</td>\n",
       "      <td>NaT</td>\n",
       "      <td>https://panoptes-uploads.zooniverse.org/subjec...</td>\n",
       "      <td>1SWASPJ235711.21-644054.6</td>\n",
       "      <td>9000393.000</td>\n",
       "      <td>1</td>\n",
       "      <td>1SWASPJ235711.21-644054.6_P1_fold.gif</td>\n",
       "    </tr>\n",
       "    <tr>\n",
       "      <th>3413057</th>\n",
       "      <td>27472159</td>\n",
       "      <td>99480</td>\n",
       "      <td>17313.0</td>\n",
       "      <td>2022-04-06 11:58:06+00:00</td>\n",
       "      <td>https://panoptes-uploads.zooniverse.org/subjec...</td>\n",
       "      <td>1SWASPJ235711.21-644054.6</td>\n",
       "      <td>9000393.000</td>\n",
       "      <td>1</td>\n",
       "      <td>1SWASPJ235711.21-644054.6_P1_fold.gif</td>\n",
       "    </tr>\n",
       "    <tr>\n",
       "      <th>3413058</th>\n",
       "      <td>27472160</td>\n",
       "      <td>61241</td>\n",
       "      <td>NaN</td>\n",
       "      <td>NaT</td>\n",
       "      <td>https://panoptes-uploads.zooniverse.org/subjec...</td>\n",
       "      <td>1SWASPJ235711.22-644053.9</td>\n",
       "      <td>9002109.000</td>\n",
       "      <td>1</td>\n",
       "      <td>1SWASPJ235711.22-644053.9_P1_fold.gif</td>\n",
       "    </tr>\n",
       "    <tr>\n",
       "      <th>3413059</th>\n",
       "      <td>27472160</td>\n",
       "      <td>99480</td>\n",
       "      <td>17313.0</td>\n",
       "      <td>2022-02-25 15:08:48+00:00</td>\n",
       "      <td>https://panoptes-uploads.zooniverse.org/subjec...</td>\n",
       "      <td>1SWASPJ235711.22-644053.9</td>\n",
       "      <td>9002109.000</td>\n",
       "      <td>1</td>\n",
       "      <td>1SWASPJ235711.22-644053.9_P1_fold.gif</td>\n",
       "    </tr>\n",
       "  </tbody>\n",
       "</table>\n",
       "<p>3413060 rows × 9 columns</p>\n",
       "</div>"
      ],
      "text/plain": [
       "         subject_id  subject_set_id  workflow_id                retired_at  \\\n",
       "0          21803097           25294          NaN                       NaT   \n",
       "1          21803099           25294          NaN                       NaT   \n",
       "2          21803099           99480      17313.0 2022-03-03 18:29:16+00:00   \n",
       "3          21803102           25294          NaN                       NaT   \n",
       "4          21803103           25294          NaN                       NaT   \n",
       "...             ...             ...          ...                       ...   \n",
       "3413055    27472158           61241          NaN                       NaT   \n",
       "3413056    27472159           61241          NaN                       NaT   \n",
       "3413057    27472159           99480      17313.0 2022-04-06 11:58:06+00:00   \n",
       "3413058    27472160           61241          NaN                       NaT   \n",
       "3413059    27472160           99480      17313.0 2022-02-25 15:08:48+00:00   \n",
       "\n",
       "                                                  location  \\\n",
       "0        https://panoptes-uploads.zooniverse.org/subjec...   \n",
       "1        https://panoptes-uploads.zooniverse.org/subjec...   \n",
       "2        https://panoptes-uploads.zooniverse.org/subjec...   \n",
       "3        https://panoptes-uploads.zooniverse.org/subjec...   \n",
       "4        https://panoptes-uploads.zooniverse.org/subjec...   \n",
       "...                                                    ...   \n",
       "3413055  https://panoptes-uploads.zooniverse.org/subjec...   \n",
       "3413056  https://panoptes-uploads.zooniverse.org/subjec...   \n",
       "3413057  https://panoptes-uploads.zooniverse.org/subjec...   \n",
       "3413058  https://panoptes-uploads.zooniverse.org/subjec...   \n",
       "3413059  https://panoptes-uploads.zooniverse.org/subjec...   \n",
       "\n",
       "                          SWASP ID       Period  Period Number  \\\n",
       "0        1SWASPJ235711.82+203913.7  1039108.812              1   \n",
       "1        1SWASPJ235711.86-443012.2  8565206.000              1   \n",
       "2        1SWASPJ235711.86-443012.2  8565206.000              1   \n",
       "3        1SWASPJ235712.73+560850.9   427987.000              1   \n",
       "4        1SWASPJ235712.73+560850.9   325253.969              3   \n",
       "...                            ...          ...            ...   \n",
       "3413055  1SWASPJ235711.12+554414.6   275688.125              1   \n",
       "3413056  1SWASPJ235711.21-644054.6  9000393.000              1   \n",
       "3413057  1SWASPJ235711.21-644054.6  9000393.000              1   \n",
       "3413058  1SWASPJ235711.22-644053.9  9002109.000              1   \n",
       "3413059  1SWASPJ235711.22-644053.9  9002109.000              1   \n",
       "\n",
       "                                          file  \n",
       "0        1SWASPJ235711.82+203913.7_P1_fold.gif  \n",
       "1        1SWASPJ235711.86-443012.2_P1_fold.gif  \n",
       "2        1SWASPJ235711.86-443012.2_P1_fold.gif  \n",
       "3        1SWASPJ235712.73+560850.9_P1_fold.gif  \n",
       "4        1SWASPJ235712.73+560850.9_P3_fold.gif  \n",
       "...                                        ...  \n",
       "3413055  1SWASPJ235711.12+554414.6_P1_fold.gif  \n",
       "3413056  1SWASPJ235711.21-644054.6_P1_fold.gif  \n",
       "3413057  1SWASPJ235711.21-644054.6_P1_fold.gif  \n",
       "3413058  1SWASPJ235711.22-644053.9_P1_fold.gif  \n",
       "3413059  1SWASPJ235711.22-644053.9_P1_fold.gif  \n",
       "\n",
       "[3413060 rows x 9 columns]"
      ]
     },
     "execution_count": 3,
     "metadata": {},
     "output_type": "execute_result"
    }
   ],
   "source": [
    "zoo_subjects_cache = DATA_LOCATION / 'junk-filtering-cnn-subjects.pkl'\n",
    "if zoo_subjects_cache.exists():\n",
    "    zoo_subjects = pandas.read_pickle(zoo_subjects_cache)\n",
    "else:\n",
    "    zoo_lookup = pandas.read_csv(\n",
    "        DATA_LOCATION / 'lookup.dat',\n",
    "        delim_whitespace=True,\n",
    "        header=None,\n",
    "    )\n",
    "    zoo_lookup.columns = [\n",
    "        'subject_id',\n",
    "        'SWASP ID',\n",
    "        'Period',\n",
    "        'Period Number',\n",
    "    ]\n",
    "    zoo_subjects = pandas.read_csv(\n",
    "        DATA_LOCATION / 'superwasp-variable-stars-subjects.csv',\n",
    "    )\n",
    "    zoo_subjects = zoo_subjects[['subject_id', 'subject_set_id', 'workflow_id', 'retired_at', 'locations']]\n",
    "    zoo_subjects = zoo_subjects.merge(zoo_lookup)\n",
    "    zoo_subjects['file'] = zoo_subjects.apply(lambda r: f\"{r['SWASP ID']}_P{r['Period Number']}_fold.gif\", axis=1)\n",
    "    zoo_subjects['locations'] = zoo_subjects.apply(lambda r: list(json.loads(r['locations']).values())[0], axis=1)\n",
    "    zoo_subjects['retired_at'] = pandas.to_datetime(zoo_subjects['retired_at'])\n",
    "    zoo_subjects.rename({'locations': 'location'}, axis=1, inplace=True)\n",
    "    zoo_subjects.to_pickle(zoo_subjects_cache)\n",
    "zoo_subjects"
   ]
  },
  {
   "cell_type": "code",
   "execution_count": 4,
   "metadata": {},
   "outputs": [],
   "source": [
    "filtered_real_subjects = zoo_subjects[zoo_subjects['subject_set_id'] == FILTERED_REAL_SET]\n",
    "zoo_subjects = zoo_subjects[(zoo_subjects['workflow_id'] == FILTERING_WORKFLOW) & zoo_subjects['retired_at'].notna()]"
   ]
  },
  {
   "cell_type": "code",
   "execution_count": 5,
   "metadata": {},
   "outputs": [],
   "source": [
    "cnn_scores = pandas.read_csv(DATA_LOCATION / 'svs-junk-predictions.csv', header=0, names=['file', 'prediction'])\n",
    "cnn_scores = cnn_scores.merge(zoo_subjects)\n",
    "cnn_scores['zoo_classification_real'] = cnn_scores['subject_id'].isin(filtered_real_subjects['subject_id'])\n",
    "cnn_scores = cnn_scores[['file', 'subject_id', 'prediction', 'zoo_classification_real', 'location']]"
   ]
  },
  {
   "cell_type": "markdown",
   "metadata": {},
   "source": [
    "## Plot distribution of scores vs human classifications"
   ]
  },
  {
   "cell_type": "code",
   "execution_count": 6,
   "metadata": {},
   "outputs": [
    {
     "data": {
      "text/plain": [
       "<AxesSubplot:xlabel='zoo_classification_real', ylabel='prediction'>"
      ]
     },
     "execution_count": 6,
     "metadata": {},
     "output_type": "execute_result"
    },
    {
     "data": {
      "image/png": "[encoded data removed]",
      "text/plain": [
       "<Figure size 432x288 with 1 Axes>"
      ]
     },
     "metadata": {
      "needs_background": "light"
     },
     "output_type": "display_data"
    }
   ],
   "source": [
    "seaborn.boxplot(data=cnn_scores, x='zoo_classification_real', y='prediction')"
   ]
  },
  {
   "cell_type": "code",
   "execution_count": 7,
   "metadata": {},
   "outputs": [
    {
     "data": {
      "text/plain": [
       "<AxesSubplot:ylabel='Frequency'>"
      ]
     },
     "execution_count": 7,
     "metadata": {},
     "output_type": "execute_result"
    },
    {
     "data": {
      "image/png": "[encoded data removed]",
      "text/plain": [
       "<Figure size 432x288 with 1 Axes>"
      ]
     },
     "metadata": {
      "needs_background": "light"
     },
     "output_type": "display_data"
    }
   ],
   "source": [
    "cnn_scores[cnn_scores['zoo_classification_real']]['prediction'].plot.hist()"
   ]
  },
  {
   "cell_type": "code",
   "execution_count": 8,
   "metadata": {},
   "outputs": [
    {
     "data": {
      "text/plain": [
       "<AxesSubplot:ylabel='Frequency'>"
      ]
     },
     "execution_count": 8,
     "metadata": {},
     "output_type": "execute_result"
    },
    {
     "data": {
      "image/png": "[encoded data removed]",
      "text/plain": [
       "<Figure size 432x288 with 1 Axes>"
      ]
     },
     "metadata": {
      "needs_background": "light"
     },
     "output_type": "display_data"
    }
   ],
   "source": [
    "cnn_scores[~cnn_scores['zoo_classification_real']]['prediction'].plot.hist()"
   ]
  },
  {
   "cell_type": "markdown",
   "metadata": {},
   "source": [
    "## Count classifications"
   ]
  },
  {
   "cell_type": "code",
   "execution_count": 42,
   "metadata": {},
   "outputs": [
    {
     "data": {
      "text/html": [
       "<div>\n",
       "<style scoped>\n",
       "    .dataframe tbody tr th:only-of-type {\n",
       "        vertical-align: middle;\n",
       "    }\n",
       "\n",
       "    .dataframe tbody tr th {\n",
       "        vertical-align: top;\n",
       "    }\n",
       "\n",
       "    .dataframe thead th {\n",
       "        text-align: right;\n",
       "    }\n",
       "</style>\n",
       "<table border=\"1\" class=\"dataframe\">\n",
       "  <thead>\n",
       "    <tr style=\"text-align: right;\">\n",
       "      <th></th>\n",
       "      <th>classification_id</th>\n",
       "      <th>user_name</th>\n",
       "      <th>user_id</th>\n",
       "      <th>user_ip</th>\n",
       "      <th>workflow_id</th>\n",
       "      <th>workflow_name</th>\n",
       "      <th>workflow_version</th>\n",
       "      <th>created_at</th>\n",
       "      <th>gold_standard</th>\n",
       "      <th>expert</th>\n",
       "      <th>metadata</th>\n",
       "      <th>annotations</th>\n",
       "      <th>subject_data</th>\n",
       "      <th>subject_id</th>\n",
       "      <th>retired_at</th>\n",
       "    </tr>\n",
       "  </thead>\n",
       "  <tbody>\n",
       "    <tr>\n",
       "      <th>0</th>\n",
       "      <td>300129666</td>\n",
       "      <td>astopy</td>\n",
       "      <td>10.0</td>\n",
       "      <td>b0278f65e4c54553a5ee</td>\n",
       "      <td>17313</td>\n",
       "      <td>Real or junk?</td>\n",
       "      <td>5.12</td>\n",
       "      <td>2021-01-08 15:03:41+00:00</td>\n",
       "      <td>NaN</td>\n",
       "      <td>NaN</td>\n",
       "      <td>{\"source\":\"api\",\"session\":\"4b5661ac01d7a644ca2...</td>\n",
       "      <td>[{\"task\":\"T0\",\"task_label\":\"Is this real or ju...</td>\n",
       "      <td>{\"24621040\":{\"retired\":{\"id\":76114927,\"workflo...</td>\n",
       "      <td>24621040</td>\n",
       "      <td>2021-01-08 15:03:42+00:00</td>\n",
       "    </tr>\n",
       "    <tr>\n",
       "      <th>1</th>\n",
       "      <td>300129701</td>\n",
       "      <td>astopy</td>\n",
       "      <td>10.0</td>\n",
       "      <td>b0278f65e4c54553a5ee</td>\n",
       "      <td>17313</td>\n",
       "      <td>Real or junk?</td>\n",
       "      <td>5.12</td>\n",
       "      <td>2021-01-08 15:03:46+00:00</td>\n",
       "      <td>NaN</td>\n",
       "      <td>NaN</td>\n",
       "      <td>{\"source\":\"api\",\"session\":\"4b5661ac01d7a644ca2...</td>\n",
       "      <td>[{\"task\":\"T0\",\"task_label\":\"Is this real or ju...</td>\n",
       "      <td>{\"24585306\":{\"retired\":{\"id\":76114928,\"workflo...</td>\n",
       "      <td>24585306</td>\n",
       "      <td>2021-03-16 23:29:46+00:00</td>\n",
       "    </tr>\n",
       "    <tr>\n",
       "      <th>3</th>\n",
       "      <td>300198253</td>\n",
       "      <td>gallucci2789</td>\n",
       "      <td>2132898.0</td>\n",
       "      <td>475ce8d890b21b12033c</td>\n",
       "      <td>17313</td>\n",
       "      <td>Real or junk?</td>\n",
       "      <td>5.12</td>\n",
       "      <td>2021-01-08 18:51:28+00:00</td>\n",
       "      <td>NaN</td>\n",
       "      <td>NaN</td>\n",
       "      <td>{\"session\":\"3781d35bbf8e75385c7de5cd1ca160a3ab...</td>\n",
       "      <td>[{\"task\":\"T0\",\"task_label\":\"Is this real or ju...</td>\n",
       "      <td>{\"24585306\":{\"retired\":{\"id\":76114928,\"workflo...</td>\n",
       "      <td>24585306</td>\n",
       "      <td>2021-03-16 23:29:46+00:00</td>\n",
       "    </tr>\n",
       "    <tr>\n",
       "      <th>5</th>\n",
       "      <td>317449370</td>\n",
       "      <td>Ycanopalacios</td>\n",
       "      <td>2135368.0</td>\n",
       "      <td>e8ef16cbffa934b30794</td>\n",
       "      <td>17313</td>\n",
       "      <td>Real or junk?</td>\n",
       "      <td>5.12</td>\n",
       "      <td>2021-03-16 23:29:46+00:00</td>\n",
       "      <td>NaN</td>\n",
       "      <td>NaN</td>\n",
       "      <td>{\"source\":\"api\",\"session\":\"fa932041046eabc8c49...</td>\n",
       "      <td>[{\"task\":\"T0\",\"task_label\":\"Is this real or ju...</td>\n",
       "      <td>{\"24585306\":{\"retired\":{\"id\":76114928,\"workflo...</td>\n",
       "      <td>24585306</td>\n",
       "      <td>2021-03-16 23:29:46+00:00</td>\n",
       "    </tr>\n",
       "    <tr>\n",
       "      <th>7</th>\n",
       "      <td>300130315</td>\n",
       "      <td>astopy</td>\n",
       "      <td>10.0</td>\n",
       "      <td>5f1012f448614e8f4ba3</td>\n",
       "      <td>17313</td>\n",
       "      <td>Real or junk?</td>\n",
       "      <td>5.12</td>\n",
       "      <td>2021-01-08 15:05:59+00:00</td>\n",
       "      <td>NaN</td>\n",
       "      <td>NaN</td>\n",
       "      <td>{\"session\":\"c45a7f58838e4ba41be5d0bb92ae95e496...</td>\n",
       "      <td>[{\"task\":\"T0\",\"task_label\":\"Is this real or ju...</td>\n",
       "      <td>{\"24631107\":{\"retired\":{\"id\":76115515,\"workflo...</td>\n",
       "      <td>24631107</td>\n",
       "      <td>2021-01-08 15:06:00+00:00</td>\n",
       "    </tr>\n",
       "    <tr>\n",
       "      <th>...</th>\n",
       "      <td>...</td>\n",
       "      <td>...</td>\n",
       "      <td>...</td>\n",
       "      <td>...</td>\n",
       "      <td>...</td>\n",
       "      <td>...</td>\n",
       "      <td>...</td>\n",
       "      <td>...</td>\n",
       "      <td>...</td>\n",
       "      <td>...</td>\n",
       "      <td>...</td>\n",
       "      <td>...</td>\n",
       "      <td>...</td>\n",
       "      <td>...</td>\n",
       "      <td>...</td>\n",
       "    </tr>\n",
       "    <tr>\n",
       "      <th>2952797</th>\n",
       "      <td>546050008</td>\n",
       "      <td>gatoreasy1</td>\n",
       "      <td>1810454.0</td>\n",
       "      <td>e8ef16cbffa934b30794</td>\n",
       "      <td>17313</td>\n",
       "      <td>Real or junk?</td>\n",
       "      <td>5.12</td>\n",
       "      <td>2024-03-07 04:12:18+00:00</td>\n",
       "      <td>NaN</td>\n",
       "      <td>NaN</td>\n",
       "      <td>{\"source\":\"api\",\"session\":\"9fdb5f30533d7e97425...</td>\n",
       "      <td>[{\"task\":\"T0\",\"task_label\":\"Is this real or ju...</td>\n",
       "      <td>{\"23318616\":{\"retired\":{\"id\":125180919,\"workfl...</td>\n",
       "      <td>23318616</td>\n",
       "      <td>2024-03-07 04:12:20+00:00</td>\n",
       "    </tr>\n",
       "    <tr>\n",
       "      <th>2952798</th>\n",
       "      <td>546050067</td>\n",
       "      <td>gatoreasy1</td>\n",
       "      <td>1810454.0</td>\n",
       "      <td>e8ef16cbffa934b30794</td>\n",
       "      <td>17313</td>\n",
       "      <td>Real or junk?</td>\n",
       "      <td>5.12</td>\n",
       "      <td>2024-03-07 04:12:45+00:00</td>\n",
       "      <td>NaN</td>\n",
       "      <td>NaN</td>\n",
       "      <td>{\"source\":\"api\",\"session\":\"9fdb5f30533d7e97425...</td>\n",
       "      <td>[{\"task\":\"T0\",\"task_label\":\"Is this real or ju...</td>\n",
       "      <td>{\"22480864\":{\"retired\":{\"id\":125353949,\"workfl...</td>\n",
       "      <td>22480864</td>\n",
       "      <td>2024-03-07 04:12:46+00:00</td>\n",
       "    </tr>\n",
       "    <tr>\n",
       "      <th>2952799</th>\n",
       "      <td>546096493</td>\n",
       "      <td>danie_identifies</td>\n",
       "      <td>2710910.0</td>\n",
       "      <td>99489dd7c79eab61d267</td>\n",
       "      <td>17313</td>\n",
       "      <td>Real or junk?</td>\n",
       "      <td>5.12</td>\n",
       "      <td>2024-03-07 13:43:53+00:00</td>\n",
       "      <td>NaN</td>\n",
       "      <td>NaN</td>\n",
       "      <td>{\"session\":\"12a51cc75a24358363f006477845a0d22b...</td>\n",
       "      <td>[{\"task\":\"T0\",\"task_label\":\"Is this real or ju...</td>\n",
       "      <td>{\"24545919\":{\"retired\":{\"id\":125369072,\"workfl...</td>\n",
       "      <td>24545919</td>\n",
       "      <td>2024-03-07 13:43:55+00:00</td>\n",
       "    </tr>\n",
       "    <tr>\n",
       "      <th>2952800</th>\n",
       "      <td>546096785</td>\n",
       "      <td>danie_identifies</td>\n",
       "      <td>2710910.0</td>\n",
       "      <td>99489dd7c79eab61d267</td>\n",
       "      <td>17313</td>\n",
       "      <td>Real or junk?</td>\n",
       "      <td>5.12</td>\n",
       "      <td>2024-03-07 13:45:47+00:00</td>\n",
       "      <td>NaN</td>\n",
       "      <td>NaN</td>\n",
       "      <td>{\"session\":\"12a51cc75a24358363f006477845a0d22b...</td>\n",
       "      <td>[{\"task\":\"T0\",\"task_label\":\"Is this real or ju...</td>\n",
       "      <td>{\"24561967\":{\"retired\":{\"id\":125372427,\"workfl...</td>\n",
       "      <td>24561967</td>\n",
       "      <td>2024-03-07 13:45:48+00:00</td>\n",
       "    </tr>\n",
       "    <tr>\n",
       "      <th>2952801</th>\n",
       "      <td>546096963</td>\n",
       "      <td>danie_identifies</td>\n",
       "      <td>2710910.0</td>\n",
       "      <td>99489dd7c79eab61d267</td>\n",
       "      <td>17313</td>\n",
       "      <td>Real or junk?</td>\n",
       "      <td>5.12</td>\n",
       "      <td>2024-03-07 13:46:57+00:00</td>\n",
       "      <td>NaN</td>\n",
       "      <td>NaN</td>\n",
       "      <td>{\"session\":\"12a51cc75a24358363f006477845a0d22b...</td>\n",
       "      <td>[{\"task\":\"T0\",\"task_label\":\"Is this real or ju...</td>\n",
       "      <td>{\"24760993\":{\"retired\":{\"id\":125342638,\"workfl...</td>\n",
       "      <td>24760993</td>\n",
       "      <td>2024-03-07 13:46:59+00:00</td>\n",
       "    </tr>\n",
       "  </tbody>\n",
       "</table>\n",
       "<p>2270293 rows × 15 columns</p>\n",
       "</div>"
      ],
      "text/plain": [
       "         classification_id         user_name    user_id               user_ip  \\\n",
       "0                300129666            astopy       10.0  b0278f65e4c54553a5ee   \n",
       "1                300129701            astopy       10.0  b0278f65e4c54553a5ee   \n",
       "3                300198253      gallucci2789  2132898.0  475ce8d890b21b12033c   \n",
       "5                317449370     Ycanopalacios  2135368.0  e8ef16cbffa934b30794   \n",
       "7                300130315            astopy       10.0  5f1012f448614e8f4ba3   \n",
       "...                    ...               ...        ...                   ...   \n",
       "2952797          546050008        gatoreasy1  1810454.0  e8ef16cbffa934b30794   \n",
       "2952798          546050067        gatoreasy1  1810454.0  e8ef16cbffa934b30794   \n",
       "2952799          546096493  danie_identifies  2710910.0  99489dd7c79eab61d267   \n",
       "2952800          546096785  danie_identifies  2710910.0  99489dd7c79eab61d267   \n",
       "2952801          546096963  danie_identifies  2710910.0  99489dd7c79eab61d267   \n",
       "\n",
       "         workflow_id  workflow_name  workflow_version  \\\n",
       "0              17313  Real or junk?              5.12   \n",
       "1              17313  Real or junk?              5.12   \n",
       "3              17313  Real or junk?              5.12   \n",
       "5              17313  Real or junk?              5.12   \n",
       "7              17313  Real or junk?              5.12   \n",
       "...              ...            ...               ...   \n",
       "2952797        17313  Real or junk?              5.12   \n",
       "2952798        17313  Real or junk?              5.12   \n",
       "2952799        17313  Real or junk?              5.12   \n",
       "2952800        17313  Real or junk?              5.12   \n",
       "2952801        17313  Real or junk?              5.12   \n",
       "\n",
       "                       created_at gold_standard expert  \\\n",
       "0       2021-01-08 15:03:41+00:00           NaN    NaN   \n",
       "1       2021-01-08 15:03:46+00:00           NaN    NaN   \n",
       "3       2021-01-08 18:51:28+00:00           NaN    NaN   \n",
       "5       2021-03-16 23:29:46+00:00           NaN    NaN   \n",
       "7       2021-01-08 15:05:59+00:00           NaN    NaN   \n",
       "...                           ...           ...    ...   \n",
       "2952797 2024-03-07 04:12:18+00:00           NaN    NaN   \n",
       "2952798 2024-03-07 04:12:45+00:00           NaN    NaN   \n",
       "2952799 2024-03-07 13:43:53+00:00           NaN    NaN   \n",
       "2952800 2024-03-07 13:45:47+00:00           NaN    NaN   \n",
       "2952801 2024-03-07 13:46:57+00:00           NaN    NaN   \n",
       "\n",
       "                                                  metadata  \\\n",
       "0        {\"source\":\"api\",\"session\":\"4b5661ac01d7a644ca2...   \n",
       "1        {\"source\":\"api\",\"session\":\"4b5661ac01d7a644ca2...   \n",
       "3        {\"session\":\"3781d35bbf8e75385c7de5cd1ca160a3ab...   \n",
       "5        {\"source\":\"api\",\"session\":\"fa932041046eabc8c49...   \n",
       "7        {\"session\":\"c45a7f58838e4ba41be5d0bb92ae95e496...   \n",
       "...                                                    ...   \n",
       "2952797  {\"source\":\"api\",\"session\":\"9fdb5f30533d7e97425...   \n",
       "2952798  {\"source\":\"api\",\"session\":\"9fdb5f30533d7e97425...   \n",
       "2952799  {\"session\":\"12a51cc75a24358363f006477845a0d22b...   \n",
       "2952800  {\"session\":\"12a51cc75a24358363f006477845a0d22b...   \n",
       "2952801  {\"session\":\"12a51cc75a24358363f006477845a0d22b...   \n",
       "\n",
       "                                               annotations  \\\n",
       "0        [{\"task\":\"T0\",\"task_label\":\"Is this real or ju...   \n",
       "1        [{\"task\":\"T0\",\"task_label\":\"Is this real or ju...   \n",
       "3        [{\"task\":\"T0\",\"task_label\":\"Is this real or ju...   \n",
       "5        [{\"task\":\"T0\",\"task_label\":\"Is this real or ju...   \n",
       "7        [{\"task\":\"T0\",\"task_label\":\"Is this real or ju...   \n",
       "...                                                    ...   \n",
       "2952797  [{\"task\":\"T0\",\"task_label\":\"Is this real or ju...   \n",
       "2952798  [{\"task\":\"T0\",\"task_label\":\"Is this real or ju...   \n",
       "2952799  [{\"task\":\"T0\",\"task_label\":\"Is this real or ju...   \n",
       "2952800  [{\"task\":\"T0\",\"task_label\":\"Is this real or ju...   \n",
       "2952801  [{\"task\":\"T0\",\"task_label\":\"Is this real or ju...   \n",
       "\n",
       "                                              subject_data  subject_id  \\\n",
       "0        {\"24621040\":{\"retired\":{\"id\":76114927,\"workflo...    24621040   \n",
       "1        {\"24585306\":{\"retired\":{\"id\":76114928,\"workflo...    24585306   \n",
       "3        {\"24585306\":{\"retired\":{\"id\":76114928,\"workflo...    24585306   \n",
       "5        {\"24585306\":{\"retired\":{\"id\":76114928,\"workflo...    24585306   \n",
       "7        {\"24631107\":{\"retired\":{\"id\":76115515,\"workflo...    24631107   \n",
       "...                                                    ...         ...   \n",
       "2952797  {\"23318616\":{\"retired\":{\"id\":125180919,\"workfl...    23318616   \n",
       "2952798  {\"22480864\":{\"retired\":{\"id\":125353949,\"workfl...    22480864   \n",
       "2952799  {\"24545919\":{\"retired\":{\"id\":125369072,\"workfl...    24545919   \n",
       "2952800  {\"24561967\":{\"retired\":{\"id\":125372427,\"workfl...    24561967   \n",
       "2952801  {\"24760993\":{\"retired\":{\"id\":125342638,\"workfl...    24760993   \n",
       "\n",
       "                       retired_at  \n",
       "0       2021-01-08 15:03:42+00:00  \n",
       "1       2021-03-16 23:29:46+00:00  \n",
       "3       2021-03-16 23:29:46+00:00  \n",
       "5       2021-03-16 23:29:46+00:00  \n",
       "7       2021-01-08 15:06:00+00:00  \n",
       "...                           ...  \n",
       "2952797 2024-03-07 04:12:20+00:00  \n",
       "2952798 2024-03-07 04:12:46+00:00  \n",
       "2952799 2024-03-07 13:43:55+00:00  \n",
       "2952800 2024-03-07 13:45:48+00:00  \n",
       "2952801 2024-03-07 13:46:59+00:00  \n",
       "\n",
       "[2270293 rows x 15 columns]"
      ]
     },
     "execution_count": 42,
     "metadata": {},
     "output_type": "execute_result"
    }
   ],
   "source": [
    "zoo_classifications_cache = DATA_LOCATION / 'junk-filtering-cnn-classifications.pkl'\n",
    "if zoo_classifications_cache.exists():\n",
    "    zoo_classifications = pandas.read_pickle(zoo_classifications_cache)\n",
    "else:\n",
    "    zoo_classifications = pandas.read_csv(\n",
    "        DATA_LOCATION / 'superwasp-variable-stars-classifications.csv',\n",
    "    )\n",
    "    zoo_classifications = zoo_classifications[zoo_classifications['workflow_id'] == FILTERING_WORKFLOW]\n",
    "    zoo_classifications.rename({'subject_ids': 'subject_id'}, axis=1, inplace=True)\n",
    "    zoo_classifications['created_at'] = pandas.to_datetime(zoo_classifications['created_at'])\n",
    "    zoo_classifications.to_pickle(zoo_classifications_cache)\n",
    "zoo_classifications.drop_duplicates(subset=['user_name', 'subject_id'], inplace=True)\n",
    "zoo_classifications = zoo_classifications.merge(zoo_subjects[['subject_id', 'retired_at']]).drop_duplicates()\n",
    "zoo_classifications = zoo_classifications[zoo_classifications['created_at'] <= zoo_classifications['retired_at']]\n",
    "zoo_classifications"
   ]
  },
  {
   "cell_type": "code",
   "execution_count": 43,
   "metadata": {},
   "outputs": [
    {
     "data": {
      "text/html": [
       "<div>\n",
       "<style scoped>\n",
       "    .dataframe tbody tr th:only-of-type {\n",
       "        vertical-align: middle;\n",
       "    }\n",
       "\n",
       "    .dataframe tbody tr th {\n",
       "        vertical-align: top;\n",
       "    }\n",
       "\n",
       "    .dataframe thead th {\n",
       "        text-align: right;\n",
       "    }\n",
       "</style>\n",
       "<table border=\"1\" class=\"dataframe\">\n",
       "  <thead>\n",
       "    <tr style=\"text-align: right;\">\n",
       "      <th></th>\n",
       "      <th>subject_id</th>\n",
       "      <th>classification_count</th>\n",
       "    </tr>\n",
       "  </thead>\n",
       "  <tbody>\n",
       "    <tr>\n",
       "      <th>0</th>\n",
       "      <td>21803099</td>\n",
       "      <td>3</td>\n",
       "    </tr>\n",
       "    <tr>\n",
       "      <th>1</th>\n",
       "      <td>21803128</td>\n",
       "      <td>3</td>\n",
       "    </tr>\n",
       "    <tr>\n",
       "      <th>2</th>\n",
       "      <td>21803130</td>\n",
       "      <td>3</td>\n",
       "    </tr>\n",
       "    <tr>\n",
       "      <th>3</th>\n",
       "      <td>21803155</td>\n",
       "      <td>3</td>\n",
       "    </tr>\n",
       "    <tr>\n",
       "      <th>4</th>\n",
       "      <td>21803223</td>\n",
       "      <td>1</td>\n",
       "    </tr>\n",
       "    <tr>\n",
       "      <th>...</th>\n",
       "      <td>...</td>\n",
       "      <td>...</td>\n",
       "    </tr>\n",
       "    <tr>\n",
       "      <th>951979</th>\n",
       "      <td>27472147</td>\n",
       "      <td>3</td>\n",
       "    </tr>\n",
       "    <tr>\n",
       "      <th>951980</th>\n",
       "      <td>27472151</td>\n",
       "      <td>3</td>\n",
       "    </tr>\n",
       "    <tr>\n",
       "      <th>951981</th>\n",
       "      <td>27472152</td>\n",
       "      <td>3</td>\n",
       "    </tr>\n",
       "    <tr>\n",
       "      <th>951982</th>\n",
       "      <td>27472159</td>\n",
       "      <td>3</td>\n",
       "    </tr>\n",
       "    <tr>\n",
       "      <th>951983</th>\n",
       "      <td>27472160</td>\n",
       "      <td>3</td>\n",
       "    </tr>\n",
       "  </tbody>\n",
       "</table>\n",
       "<p>951984 rows × 2 columns</p>\n",
       "</div>"
      ],
      "text/plain": [
       "        subject_id  classification_count\n",
       "0         21803099                     3\n",
       "1         21803128                     3\n",
       "2         21803130                     3\n",
       "3         21803155                     3\n",
       "4         21803223                     1\n",
       "...            ...                   ...\n",
       "951979    27472147                     3\n",
       "951980    27472151                     3\n",
       "951981    27472152                     3\n",
       "951982    27472159                     3\n",
       "951983    27472160                     3\n",
       "\n",
       "[951984 rows x 2 columns]"
      ]
     },
     "execution_count": 43,
     "metadata": {},
     "output_type": "execute_result"
    }
   ],
   "source": [
    "classification_counts = pandas.pivot_table(\n",
    "    zoo_classifications,\n",
    "    values='classification_id',\n",
    "    aggfunc=len,\n",
    "    index='subject_id',\n",
    ")\n",
    "classification_counts.rename({'classification_id': 'classification_count'}, axis=1, inplace=True)\n",
    "classification_counts.reset_index(inplace=True)\n",
    "classification_counts"
   ]
  },
  {
   "cell_type": "code",
   "execution_count": 44,
   "metadata": {},
   "outputs": [
    {
     "data": {
      "text/plain": [
       "<AxesSubplot:ylabel='Frequency'>"
      ]
     },
     "execution_count": 44,
     "metadata": {},
     "output_type": "execute_result"
    },
    {
     "data": {
      "image/png": "[encoded data removed]",
      "text/plain": [
       "<Figure size 432x288 with 1 Axes>"
      ]
     },
     "metadata": {
      "needs_background": "light"
     },
     "output_type": "display_data"
    }
   ],
   "source": [
    "classification_counts['classification_count'].plot.hist(logy=True, bins=max(classification_counts['classification_count']))"
   ]
  },
  {
   "cell_type": "markdown",
   "metadata": {},
   "source": [
    "# Plot sample of misclassified subjects"
   ]
  },
  {
   "cell_type": "markdown",
   "metadata": {},
   "source": [
    "NEXT: Since subjects have been overclassified, we can't assume e.g. ones with three classifications received three _junk_ classifications. They might all be _real_, or any other combination. Need to discard all classifications after retirement."
   ]
  },
  {
   "cell_type": "code",
   "execution_count": 51,
   "metadata": {},
   "outputs": [
    {
     "data": {
      "text/html": [
       "<div>\n",
       "<style scoped>\n",
       "    .dataframe tbody tr th:only-of-type {\n",
       "        vertical-align: middle;\n",
       "    }\n",
       "\n",
       "    .dataframe tbody tr th {\n",
       "        vertical-align: top;\n",
       "    }\n",
       "\n",
       "    .dataframe thead th {\n",
       "        text-align: right;\n",
       "    }\n",
       "</style>\n",
       "<table border=\"1\" class=\"dataframe\">\n",
       "  <thead>\n",
       "    <tr style=\"text-align: right;\">\n",
       "      <th></th>\n",
       "      <th>file</th>\n",
       "      <th>subject_id</th>\n",
       "      <th>prediction</th>\n",
       "      <th>zoo_classification_real</th>\n",
       "      <th>location</th>\n",
       "      <th>classification_count</th>\n",
       "    </tr>\n",
       "  </thead>\n",
       "  <tbody>\n",
       "    <tr>\n",
       "      <th>0</th>\n",
       "      <td>1SWASPJ191851.17-181611.2_P1_fold.gif</td>\n",
       "      <td>23680962</td>\n",
       "      <td>1.000000</td>\n",
       "      <td>True</td>\n",
       "      <td>https://panoptes-uploads.zooniverse.org/subjec...</td>\n",
       "      <td>1</td>\n",
       "    </tr>\n",
       "    <tr>\n",
       "      <th>1</th>\n",
       "      <td>1SWASPJ193134.23-204007.3_P1_fold.gif</td>\n",
       "      <td>23727327</td>\n",
       "      <td>0.999987</td>\n",
       "      <td>True</td>\n",
       "      <td>https://panoptes-uploads.zooniverse.org/subjec...</td>\n",
       "      <td>1</td>\n",
       "    </tr>\n",
       "    <tr>\n",
       "      <th>2</th>\n",
       "      <td>1SWASPJ192637.84-191505.6_P3_fold.gif</td>\n",
       "      <td>23701332</td>\n",
       "      <td>0.658785</td>\n",
       "      <td>True</td>\n",
       "      <td>https://panoptes-uploads.zooniverse.org/subjec...</td>\n",
       "      <td>3</td>\n",
       "    </tr>\n",
       "    <tr>\n",
       "      <th>3</th>\n",
       "      <td>1SWASPJ193206.03+514729.8_P3_fold.gif</td>\n",
       "      <td>23732167</td>\n",
       "      <td>0.999991</td>\n",
       "      <td>True</td>\n",
       "      <td>https://panoptes-uploads.zooniverse.org/subjec...</td>\n",
       "      <td>1</td>\n",
       "    </tr>\n",
       "    <tr>\n",
       "      <th>4</th>\n",
       "      <td>1SWASPJ192819.14-101839.7_P3_fold.gif</td>\n",
       "      <td>23707606</td>\n",
       "      <td>0.990684</td>\n",
       "      <td>True</td>\n",
       "      <td>https://panoptes-uploads.zooniverse.org/subjec...</td>\n",
       "      <td>2</td>\n",
       "    </tr>\n",
       "    <tr>\n",
       "      <th>...</th>\n",
       "      <td>...</td>\n",
       "      <td>...</td>\n",
       "      <td>...</td>\n",
       "      <td>...</td>\n",
       "      <td>...</td>\n",
       "      <td>...</td>\n",
       "    </tr>\n",
       "    <tr>\n",
       "      <th>206807</th>\n",
       "      <td>1SWASPJ203444.63+063744.9_P1_fold.gif</td>\n",
       "      <td>24048083</td>\n",
       "      <td>0.995545</td>\n",
       "      <td>True</td>\n",
       "      <td>https://panoptes-uploads.zooniverse.org/subjec...</td>\n",
       "      <td>2</td>\n",
       "    </tr>\n",
       "    <tr>\n",
       "      <th>206808</th>\n",
       "      <td>1SWASPJ203054.11+052207.7_P1_fold.gif</td>\n",
       "      <td>24028608</td>\n",
       "      <td>0.980465</td>\n",
       "      <td>True</td>\n",
       "      <td>https://panoptes-uploads.zooniverse.org/subjec...</td>\n",
       "      <td>1</td>\n",
       "    </tr>\n",
       "    <tr>\n",
       "      <th>206809</th>\n",
       "      <td>1SWASPJ204039.25-495734.5_P1_fold.gif</td>\n",
       "      <td>24060619</td>\n",
       "      <td>0.999885</td>\n",
       "      <td>True</td>\n",
       "      <td>https://panoptes-uploads.zooniverse.org/subjec...</td>\n",
       "      <td>1</td>\n",
       "    </tr>\n",
       "    <tr>\n",
       "      <th>206810</th>\n",
       "      <td>1SWASPJ205254.57+014844.0_P1_fold.gif</td>\n",
       "      <td>24812174</td>\n",
       "      <td>0.863901</td>\n",
       "      <td>True</td>\n",
       "      <td>https://panoptes-uploads.zooniverse.org/subjec...</td>\n",
       "      <td>1</td>\n",
       "    </tr>\n",
       "    <tr>\n",
       "      <th>206811</th>\n",
       "      <td>1SWASPJ205326.96+041833.2_P1_fold.gif</td>\n",
       "      <td>24814484</td>\n",
       "      <td>0.999159</td>\n",
       "      <td>True</td>\n",
       "      <td>https://panoptes-uploads.zooniverse.org/subjec...</td>\n",
       "      <td>3</td>\n",
       "    </tr>\n",
       "  </tbody>\n",
       "</table>\n",
       "<p>206812 rows × 6 columns</p>\n",
       "</div>"
      ],
      "text/plain": [
       "                                         file  subject_id  prediction  \\\n",
       "0       1SWASPJ191851.17-181611.2_P1_fold.gif    23680962    1.000000   \n",
       "1       1SWASPJ193134.23-204007.3_P1_fold.gif    23727327    0.999987   \n",
       "2       1SWASPJ192637.84-191505.6_P3_fold.gif    23701332    0.658785   \n",
       "3       1SWASPJ193206.03+514729.8_P3_fold.gif    23732167    0.999991   \n",
       "4       1SWASPJ192819.14-101839.7_P3_fold.gif    23707606    0.990684   \n",
       "...                                       ...         ...         ...   \n",
       "206807  1SWASPJ203444.63+063744.9_P1_fold.gif    24048083    0.995545   \n",
       "206808  1SWASPJ203054.11+052207.7_P1_fold.gif    24028608    0.980465   \n",
       "206809  1SWASPJ204039.25-495734.5_P1_fold.gif    24060619    0.999885   \n",
       "206810  1SWASPJ205254.57+014844.0_P1_fold.gif    24812174    0.863901   \n",
       "206811  1SWASPJ205326.96+041833.2_P1_fold.gif    24814484    0.999159   \n",
       "\n",
       "        zoo_classification_real  \\\n",
       "0                          True   \n",
       "1                          True   \n",
       "2                          True   \n",
       "3                          True   \n",
       "4                          True   \n",
       "...                         ...   \n",
       "206807                     True   \n",
       "206808                     True   \n",
       "206809                     True   \n",
       "206810                     True   \n",
       "206811                     True   \n",
       "\n",
       "                                                 location  \\\n",
       "0       https://panoptes-uploads.zooniverse.org/subjec...   \n",
       "1       https://panoptes-uploads.zooniverse.org/subjec...   \n",
       "2       https://panoptes-uploads.zooniverse.org/subjec...   \n",
       "3       https://panoptes-uploads.zooniverse.org/subjec...   \n",
       "4       https://panoptes-uploads.zooniverse.org/subjec...   \n",
       "...                                                   ...   \n",
       "206807  https://panoptes-uploads.zooniverse.org/subjec...   \n",
       "206808  https://panoptes-uploads.zooniverse.org/subjec...   \n",
       "206809  https://panoptes-uploads.zooniverse.org/subjec...   \n",
       "206810  https://panoptes-uploads.zooniverse.org/subjec...   \n",
       "206811  https://panoptes-uploads.zooniverse.org/subjec...   \n",
       "\n",
       "        classification_count  \n",
       "0                          1  \n",
       "1                          1  \n",
       "2                          3  \n",
       "3                          1  \n",
       "4                          2  \n",
       "...                      ...  \n",
       "206807                     2  \n",
       "206808                     1  \n",
       "206809                     1  \n",
       "206810                     1  \n",
       "206811                     3  \n",
       "\n",
       "[206812 rows x 6 columns]"
      ]
     },
     "execution_count": 51,
     "metadata": {},
     "output_type": "execute_result"
    }
   ],
   "source": [
    "misclassified_real_as_junk = cnn_scores[cnn_scores['zoo_classification_real'] & (cnn_scores['prediction'] > 0.5)]\n",
    "misclassified_real_as_junk = misclassified_real_as_junk.merge(classification_counts)\n",
    "misclassified_real_as_junk"
   ]
  },
  {
   "cell_type": "code",
   "execution_count": 52,
   "metadata": {},
   "outputs": [
    {
     "name": "stdout",
     "output_type": "stream",
     "text": [
      "Classification count:  1\n"
     ]
    },
    {
     "data": {
      "text/html": [
       "<img src=\"https://panoptes-uploads.zooniverse.org/subject_location/5018dfbc-4ed0-4abc-8f36-598fe839978d.gif\"/>"
      ],
      "text/plain": [
       "<IPython.core.display.Image object>"
      ]
     },
     "metadata": {},
     "output_type": "display_data"
    },
    {
     "data": {
      "text/html": [
       "<img src=\"https://panoptes-uploads.zooniverse.org/subject_location/779e07b8-d533-452e-b8e8-1946fbc753ce.gif\"/>"
      ],
      "text/plain": [
       "<IPython.core.display.Image object>"
      ]
     },
     "metadata": {},
     "output_type": "display_data"
    },
    {
     "data": {
      "text/html": [
       "<img src=\"https://panoptes-uploads.zooniverse.org/subject_location/fb8a9735-3272-4693-91a1-34c37bdd8fde.gif\"/>"
      ],
      "text/plain": [
       "<IPython.core.display.Image object>"
      ]
     },
     "metadata": {},
     "output_type": "display_data"
    },
    {
     "data": {
      "text/html": [
       "<img src=\"https://panoptes-uploads.zooniverse.org/subject_location/c144752b-5969-4da6-9d64-0cdbba62bc0e.gif\"/>"
      ],
      "text/plain": [
       "<IPython.core.display.Image object>"
      ]
     },
     "metadata": {},
     "output_type": "display_data"
    },
    {
     "data": {
      "text/html": [
       "<img src=\"https://panoptes-uploads.zooniverse.org/subject_location/dac77292-a880-417b-bc47-e09580701d2e.gif\"/>"
      ],
      "text/plain": [
       "<IPython.core.display.Image object>"
      ]
     },
     "metadata": {},
     "output_type": "display_data"
    },
    {
     "data": {
      "text/html": [
       "<img src=\"https://panoptes-uploads.zooniverse.org/subject_location/69b7c605-ba82-4216-9813-d8b3bc550647.gif\"/>"
      ],
      "text/plain": [
       "<IPython.core.display.Image object>"
      ]
     },
     "metadata": {},
     "output_type": "display_data"
    },
    {
     "data": {
      "text/html": [
       "<img src=\"https://panoptes-uploads.zooniverse.org/subject_location/64add07f-d34f-4e67-96f9-e0db842849fb.gif\"/>"
      ],
      "text/plain": [
       "<IPython.core.display.Image object>"
      ]
     },
     "metadata": {},
     "output_type": "display_data"
    },
    {
     "data": {
      "text/html": [
       "<img src=\"https://panoptes-uploads.zooniverse.org/subject_location/ef7e491e-4898-49f2-8389-85d304eb3148.gif\"/>"
      ],
      "text/plain": [
       "<IPython.core.display.Image object>"
      ]
     },
     "metadata": {},
     "output_type": "display_data"
    },
    {
     "data": {
      "text/html": [
       "<img src=\"https://panoptes-uploads.zooniverse.org/subject_location/4b80efee-f2bb-476d-b01b-7acdeaff96be.gif\"/>"
      ],
      "text/plain": [
       "<IPython.core.display.Image object>"
      ]
     },
     "metadata": {},
     "output_type": "display_data"
    },
    {
     "data": {
      "text/html": [
       "<img src=\"https://panoptes-uploads.zooniverse.org/subject_location/a50baba6-548a-48f4-b16a-dd564859792d.gif\"/>"
      ],
      "text/plain": [
       "<IPython.core.display.Image object>"
      ]
     },
     "metadata": {},
     "output_type": "display_data"
    },
    {
     "name": "stdout",
     "output_type": "stream",
     "text": [
      "Classification count:  2\n"
     ]
    },
    {
     "data": {
      "text/html": [
       "<img src=\"https://panoptes-uploads.zooniverse.org/subject_location/6e3a747c-e492-4503-8db2-1c631ac531cf.gif\"/>"
      ],
      "text/plain": [
       "<IPython.core.display.Image object>"
      ]
     },
     "metadata": {},
     "output_type": "display_data"
    },
    {
     "data": {
      "text/html": [
       "<img src=\"https://panoptes-uploads.zooniverse.org/subject_location/51d5b7f1-6126-4003-bfbe-d82a7e897dac.gif\"/>"
      ],
      "text/plain": [
       "<IPython.core.display.Image object>"
      ]
     },
     "metadata": {},
     "output_type": "display_data"
    },
    {
     "data": {
      "text/html": [
       "<img src=\"https://panoptes-uploads.zooniverse.org/subject_location/3a08387b-5d56-4139-8e73-9803e4fa3b2a.gif\"/>"
      ],
      "text/plain": [
       "<IPython.core.display.Image object>"
      ]
     },
     "metadata": {},
     "output_type": "display_data"
    },
    {
     "data": {
      "text/html": [
       "<img src=\"https://panoptes-uploads.zooniverse.org/subject_location/d70e1381-9058-48d2-a6d3-c1644ca7ce3e.gif\"/>"
      ],
      "text/plain": [
       "<IPython.core.display.Image object>"
      ]
     },
     "metadata": {},
     "output_type": "display_data"
    },
    {
     "data": {
      "text/html": [
       "<img src=\"https://panoptes-uploads.zooniverse.org/subject_location/ccd11e0d-7f62-400f-a340-0446cd614340.gif\"/>"
      ],
      "text/plain": [
       "<IPython.core.display.Image object>"
      ]
     },
     "metadata": {},
     "output_type": "display_data"
    },
    {
     "data": {
      "text/html": [
       "<img src=\"https://panoptes-uploads.zooniverse.org/subject_location/5a346749-ca72-4cfa-b871-cc46dbeec168.gif\"/>"
      ],
      "text/plain": [
       "<IPython.core.display.Image object>"
      ]
     },
     "metadata": {},
     "output_type": "display_data"
    },
    {
     "data": {
      "text/html": [
       "<img src=\"https://panoptes-uploads.zooniverse.org/subject_location/eecd1875-17f7-4ab6-a437-6998f64ab41c.gif\"/>"
      ],
      "text/plain": [
       "<IPython.core.display.Image object>"
      ]
     },
     "metadata": {},
     "output_type": "display_data"
    },
    {
     "data": {
      "text/html": [
       "<img src=\"https://panoptes-uploads.zooniverse.org/subject_location/25d78584-09c5-4b62-b74d-791849cece25.gif\"/>"
      ],
      "text/plain": [
       "<IPython.core.display.Image object>"
      ]
     },
     "metadata": {},
     "output_type": "display_data"
    },
    {
     "data": {
      "text/html": [
       "<img src=\"https://panoptes-uploads.zooniverse.org/subject_location/345323b2-5d6a-4c21-b892-22f41ec31a29.gif\"/>"
      ],
      "text/plain": [
       "<IPython.core.display.Image object>"
      ]
     },
     "metadata": {},
     "output_type": "display_data"
    },
    {
     "data": {
      "text/html": [
       "<img src=\"https://panoptes-uploads.zooniverse.org/subject_location/cb97fc46-89a4-4037-a3ae-323b8cedb32f.gif\"/>"
      ],
      "text/plain": [
       "<IPython.core.display.Image object>"
      ]
     },
     "metadata": {},
     "output_type": "display_data"
    },
    {
     "name": "stdout",
     "output_type": "stream",
     "text": [
      "Classification count:  3\n"
     ]
    },
    {
     "data": {
      "text/html": [
       "<img src=\"https://panoptes-uploads.zooniverse.org/subject_location/ea2963e5-1b78-4991-a6b3-83c3a4711bfa.gif\"/>"
      ],
      "text/plain": [
       "<IPython.core.display.Image object>"
      ]
     },
     "metadata": {},
     "output_type": "display_data"
    },
    {
     "data": {
      "text/html": [
       "<img src=\"https://panoptes-uploads.zooniverse.org/subject_location/9513ddbc-50f7-4972-8e08-8f6943e9b6b7.gif\"/>"
      ],
      "text/plain": [
       "<IPython.core.display.Image object>"
      ]
     },
     "metadata": {},
     "output_type": "display_data"
    },
    {
     "data": {
      "text/html": [
       "<img src=\"https://panoptes-uploads.zooniverse.org/subject_location/76212abb-2e02-4c96-badd-0e5a5c3d4cfe.gif\"/>"
      ],
      "text/plain": [
       "<IPython.core.display.Image object>"
      ]
     },
     "metadata": {},
     "output_type": "display_data"
    },
    {
     "data": {
      "text/html": [
       "<img src=\"https://panoptes-uploads.zooniverse.org/subject_location/ca816d25-0254-4b49-b81b-e4ddad720a91.gif\"/>"
      ],
      "text/plain": [
       "<IPython.core.display.Image object>"
      ]
     },
     "metadata": {},
     "output_type": "display_data"
    },
    {
     "data": {
      "text/html": [
       "<img src=\"https://panoptes-uploads.zooniverse.org/subject_location/6c8a6392-b9ae-4fc7-b3fb-8dc841185fff.gif\"/>"
      ],
      "text/plain": [
       "<IPython.core.display.Image object>"
      ]
     },
     "metadata": {},
     "output_type": "display_data"
    },
    {
     "data": {
      "text/html": [
       "<img src=\"https://panoptes-uploads.zooniverse.org/subject_location/fddf5d03-a480-4848-a6c8-f955f2650801.gif\"/>"
      ],
      "text/plain": [
       "<IPython.core.display.Image object>"
      ]
     },
     "metadata": {},
     "output_type": "display_data"
    },
    {
     "data": {
      "text/html": [
       "<img src=\"https://panoptes-uploads.zooniverse.org/subject_location/73010b25-e697-4276-8ce0-5dc9fe2c447a.gif\"/>"
      ],
      "text/plain": [
       "<IPython.core.display.Image object>"
      ]
     },
     "metadata": {},
     "output_type": "display_data"
    },
    {
     "data": {
      "text/html": [
       "<img src=\"https://panoptes-uploads.zooniverse.org/subject_location/5ce3b16c-7e9f-4e04-b9b3-4c48841c2c2b.gif\"/>"
      ],
      "text/plain": [
       "<IPython.core.display.Image object>"
      ]
     },
     "metadata": {},
     "output_type": "display_data"
    },
    {
     "data": {
      "text/html": [
       "<img src=\"https://panoptes-uploads.zooniverse.org/subject_location/01fedab6-15d0-4586-84c0-c8e6c46a94de.gif\"/>"
      ],
      "text/plain": [
       "<IPython.core.display.Image object>"
      ]
     },
     "metadata": {},
     "output_type": "display_data"
    },
    {
     "data": {
      "text/html": [
       "<img src=\"https://panoptes-uploads.zooniverse.org/subject_location/49f790c0-d0a0-41a6-8419-45c1cc606e7d.gif\"/>"
      ],
      "text/plain": [
       "<IPython.core.display.Image object>"
      ]
     },
     "metadata": {},
     "output_type": "display_data"
    }
   ],
   "source": [
    "for classification_count in range(1, 4):\n",
    "    print('Classification count: ', classification_count)\n",
    "    for url in misclassified_real_as_junk[misclassified_real_as_junk['classification_count'] == classification_count].head(10)['location']:\n",
    "        display(Image(url=url))"
   ]
  }
 ],
 "metadata": {
  "kernelspec": {
   "display_name": "Python 3 (ipykernel)",
   "language": "python",
   "name": "python3"
  },
  "language_info": {
   "codemirror_mode": {
    "name": "ipython",
    "version": 3
   },
   "file_extension": ".py",
   "mimetype": "text/x-python",
   "name": "python",
   "nbconvert_exporter": "python",
   "pygments_lexer": "ipython3",
   "version": "3.8.5"
  }
 },
 "nbformat": 4,
 "nbformat_minor": 2
}
