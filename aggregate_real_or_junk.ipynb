{
 "cells": [
  {
   "cell_type": "code",
   "execution_count": null,
   "metadata": {},
   "outputs": [],
   "source": [
    "from pathlib import Path\n",
    "\n",
    "import ujson as json\n",
    "import pandas\n",
    "\n",
    "from swasputils import DATA_LOCATION\n",
    "DATA_LOCATION = Path(DATA_LOCATION)"
   ]
  },
  {
   "cell_type": "code",
   "execution_count": null,
   "metadata": {},
   "outputs": [],
   "source": [
    "orig_classifications = pandas.read_csv(\n",
    "    DATA_LOCATION / 'superwasp-variable-stars-classifications.csv',\n",
    "    converters={'annotations': json.loads, 'subject_data': json.loads},\n",
    "    parse_dates=['created_at'],\n",
    ").set_index('classification_id')"
   ]
  },
  {
   "cell_type": "code",
   "execution_count": null,
   "metadata": {},
   "outputs": [],
   "source": [
    "zoo_subjects = pandas.read_csv(\n",
    "    DATA_LOCATION / 'lookup.dat',\n",
    "    delim_whitespace=True,\n",
    "    header=None,\n",
    ")\n",
    "zoo_subjects.columns = [\n",
    "    'subject_id',\n",
    "    'SWASP ID',\n",
    "    'Period',\n",
    "    'Period Number',\n",
    "]\n",
    "# Period in this file is rounded differently to the others\n",
    "# So drop it here so it doesn't stop us from merging later\n",
    "zoo_subjects.drop('Period', 'columns', inplace=True)"
   ]
  },
  {
   "cell_type": "code",
   "execution_count": null,
   "metadata": {},
   "outputs": [],
   "source": [
    "periodicity_results = pandas.read_csv(\n",
    "    DATA_LOCATION / 'results_total.dat',\n",
    "    delim_whitespace=True,\n",
    "    header=None,\n",
    ")\n",
    "periodicity_results.columns = [\n",
    "    'Camera Number',\n",
    "    'SWASP',\n",
    "    'ID',\n",
    "    'Period Number',\n",
    "    'Period',\n",
    "    'Sigma',\n",
    "    'Chi Squared',\n",
    "    'Period Flag'\n",
    "]\n",
    "periodicity_results['SWASP ID'] = periodicity_results['SWASP'] + periodicity_results['ID']"
   ]
  },
  {
   "cell_type": "code",
   "execution_count": null,
   "metadata": {},
   "outputs": [],
   "source": [
    "zoo_subjects = zoo_subjects.merge(periodicity_results[['SWASP ID', 'Period', 'Period Number']])\n",
    "zoo_subjects['Filename'] = zoo_subjects.apply(\n",
    "    lambda r: f\"{r['SWASP ID']}_P{r['Period Number']}_fold.gif\",\n",
    "    axis=1,\n",
    ")\n",
    "zoo_subjects = zoo_subjects.set_index('subject_id')"
   ]
  },
  {
   "cell_type": "code",
   "execution_count": null,
   "metadata": {},
   "outputs": [],
   "source": [
    "zoo_subject_export = pandas.read_csv(\n",
    "    DATA_LOCATION / 'superwasp-variable-stars-subjects.csv',\n",
    "    converters={'locations': json.loads},\n",
    ").set_index('subject_id')\n",
    "zoo_subject_export = zoo_subject_export[zoo_subject_export['workflow_id'] == 17313.0]\n",
    "zoo_subject_export['Image URL'] = zoo_subject_export.locations.apply(\n",
    "    lambda d: d[\"0\"],\n",
    ")"
   ]
  },
  {
   "cell_type": "code",
   "execution_count": null,
   "metadata": {},
   "outputs": [],
   "source": [
    "zoo_subjects = zoo_subjects.merge(zoo_subject_export[['Image URL']], left_index=True, right_index=True)"
   ]
  },
  {
   "cell_type": "code",
   "execution_count": null,
   "metadata": {},
   "outputs": [],
   "source": [
    "classifications = orig_classifications[orig_classifications['workflow_id'] == 17313]\n",
    "classifications['classification'] = classifications.annotations.apply(\n",
    "    lambda d: d[0]['value'],\n",
    ")\n",
    "classifications = classifications[['classification', 'subject_ids']]"
   ]
  },
  {
   "cell_type": "code",
   "execution_count": null,
   "metadata": {},
   "outputs": [],
   "source": [
    "aggregated_classifications = classifications.pivot_table(\n",
    "        columns=['classification'],\n",
    "        values='classification',\n",
    "        index='subject_ids',\n",
    "        aggfunc=lambda x: len(x),\n",
    "        fill_value=0,\n",
    ")\n",
    "aggregated_classifications['consensus'] = aggregated_classifications.apply(\n",
    "    lambda c: 'Real' if c['Real'] > 0 else ('Junk' if c['Junk'] >= 3 else ''),\n",
    "    axis=1,\n",
    ")"
   ]
  },
  {
   "cell_type": "code",
   "execution_count": null,
   "metadata": {},
   "outputs": [],
   "source": [
    "aggregated_classifications = aggregated_classifications.merge(zoo_subjects[['Filename', 'Image URL']], left_index=True, right_index=True)"
   ]
  },
  {
   "cell_type": "code",
   "execution_count": null,
   "metadata": {},
   "outputs": [],
   "source": [
    "aggregated_classifications.to_csv(\n",
    "    DATA_LOCATION / 'real-or-junk-aggregated-classifications.csv',\n",
    "    index_label='subject_id',\n",
    ")"
   ]
  }
 ],
 "metadata": {
  "interpreter": {
   "hash": "4f85cde7d8b1579f8a83d1ec8ee622389003b5d8daf3da9b86d821365f66615c"
  },
  "kernelspec": {
   "display_name": "Python 3.8.5 ('base')",
   "language": "python",
   "name": "python3"
  },
  "language_info": {
   "codemirror_mode": {
    "name": "ipython",
    "version": 3
   },
   "file_extension": ".py",
   "mimetype": "text/x-python",
   "name": "python",
   "nbconvert_exporter": "python",
   "pygments_lexer": "ipython3",
   "version": "3.8.5"
  },
  "orig_nbformat": 4
 },
 "nbformat": 4,
 "nbformat_minor": 2
}
